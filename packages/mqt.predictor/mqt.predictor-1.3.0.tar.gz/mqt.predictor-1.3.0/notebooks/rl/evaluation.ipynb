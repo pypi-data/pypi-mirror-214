{
 "cells": [
  {
   "cell_type": "code",
   "execution_count": null,
   "id": "697e4c2b",
   "metadata": {},
   "outputs": [],
   "source": [
    "import pandas as pd\n",
    "import numpy as np\n",
    "from mqt.predictor import rl\n",
    "df = pd.read_csv(rl.helper.get_path_trained_model() / 'res.csv', sep=',')"
   ]
  },
  {
   "cell_type": "code",
   "execution_count": null,
   "id": "ab0daf50",
   "metadata": {},
   "outputs": [],
   "source": [
    "df[\"RL-Qiskit Fid\"]=df[\"RL_fidelity_fidelity\"]-df[\"qiskit_o3_fidelity\"]\n",
    "df[\"RL-TKET Fid\"]=df[\"RL_fidelity_fidelity\"]-df[\"tket_fidelity\"]\n",
    "df[\"RL-Qiskit Crit Depth\"]=df[\"RL_critical_depth_critical_depth\"]-df[\"qiskit_o3_critical_depth\"]\n",
    "df[\"RL-TKET Crit Depth\"]=df[\"RL_critical_depth_critical_depth\"]-df[\"tket_critical_depth\"]\n",
    "df[\"RL-Qiskit gate_ratio\"]=df[\"RL_gate_ratio_gate_ratio\"]-df[\"qiskit_o3_gate_ratio\"]\n",
    "df[\"RL-TKET gate_ratio\"]=df[\"RL_gate_ratio_gate_ratio\"]-df[\"tket_gate_ratio\"]\n",
    "df[\"RL-Qiskit mix\"]=df[\"RL_mix_mix\"]-df[\"qiskit_o3_mix\"]\n",
    "df[\"RL-TKET mix\"]=df[\"RL_mix_mix\"]-df[\"tket_mix\"]"
   ]
  },
  {
   "cell_type": "code",
   "execution_count": null,
   "id": "c5cd9290",
   "metadata": {},
   "outputs": [],
   "source": [
    "num_bins = 60\n",
    "color_qiskit = \"#994F00\"\n",
    "color_TKET = \"#006CD1\"\n",
    "size = 14\n",
    "legendsize = 12\n",
    "max_val_bench = max([df.groupby([\"benchmark\"])[\"RL-Qiskit Fid\"].mean().max(), \n",
    "                     df.groupby([\"benchmark\"])[\"RL-TKET Fid\"].mean().max(), \n",
    "                     df.groupby([\"benchmark\"])[\"RL-Qiskit Crit Depth\"].mean().max(), \n",
    "                     df.groupby([\"benchmark\"])[\"RL-TKET Crit Depth\"].mean().max(),\n",
    "                     df.groupby([\"benchmark\"])[\"RL-Qiskit gate_ratio\"].mean().max(), \n",
    "                     df.groupby([\"benchmark\"])[\"RL-TKET gate_ratio\"].mean().max(),\n",
    "                     df.groupby([\"benchmark\"])[\"RL-Qiskit mix\"].mean().max(), \n",
    "                     df.groupby([\"benchmark\"])[\"RL-TKET mix\"].mean().max()])\n",
    "min_value_bench = min([df.groupby([\"benchmark\"])[\"RL-Qiskit Fid\"].mean().min(),\n",
    "                      df.groupby([\"benchmark\"])[\"RL-TKET Fid\"].mean().min(), \n",
    "                      df.groupby([\"benchmark\"])[\"RL-Qiskit Crit Depth\"].mean().min(), \n",
    "                      df.groupby([\"benchmark\"])[\"RL-TKET Crit Depth\"].mean().min(), \n",
    "                      df.groupby([\"benchmark\"])[\"RL-Qiskit gate_ratio\"].mean().min(), \n",
    "                      df.groupby([\"benchmark\"])[\"RL-TKET gate_ratio\"].mean().min(),\n",
    "                    df.groupby([\"benchmark\"])[\"RL-Qiskit mix\"].mean().min(), \n",
    "                     df.groupby([\"benchmark\"])[\"RL-TKET mix\"].mean().min()])"
   ]
  },
  {
   "cell_type": "code",
   "execution_count": null,
   "id": "4c33ca40",
   "metadata": {},
   "outputs": [],
   "source": [
    "df.columns"
   ]
  },
  {
   "cell_type": "code",
   "execution_count": null,
   "id": "7f0d828d",
   "metadata": {},
   "outputs": [],
   "source": [
    "df[\"RL-Qiskit Fid\"][df[\"RL-Qiskit Fid\"] > 0.0 ].count()/len(df)"
   ]
  },
  {
   "cell_type": "code",
   "execution_count": null,
   "id": "afe491b9",
   "metadata": {},
   "outputs": [],
   "source": [
    "df[\"RL-TKET Fid\"][df[\"RL-TKET Fid\"] > 0.0 ].count()/len(df)"
   ]
  },
  {
   "cell_type": "code",
   "execution_count": null,
   "id": "8e85c37c",
   "metadata": {},
   "outputs": [],
   "source": [
    "df[\"RL-Qiskit gate_ratio\"][df[\"RL-Qiskit gate_ratio\"] > 0.0 ].count()/len(df)"
   ]
  },
  {
   "cell_type": "code",
   "execution_count": null,
   "id": "1cf25e42",
   "metadata": {},
   "outputs": [],
   "source": [
    "df[\"RL-TKET gate_ratio\"][df[\"RL-TKET gate_ratio\"] > 0.0 ].count()/len(df)"
   ]
  },
  {
   "cell_type": "code",
   "execution_count": null,
   "id": "b49bf4e4",
   "metadata": {},
   "outputs": [],
   "source": [
    "df[\"RL-Qiskit Crit Depth\"][df[\"RL-Qiskit Crit Depth\"] > 0.0 ].count()/len(df)"
   ]
  },
  {
   "cell_type": "code",
   "execution_count": null,
   "id": "f9984f15",
   "metadata": {},
   "outputs": [],
   "source": [
    "df[\"RL-TKET Crit Depth\"][df[\"RL-TKET Crit Depth\"] > 0.0 ].count()/len(df)"
   ]
  },
  {
   "cell_type": "code",
   "execution_count": null,
   "id": "070fdebf",
   "metadata": {},
   "outputs": [],
   "source": [
    "df[\"RL-Qiskit mix\"][df[\"RL-Qiskit mix\"] > 0.0 ].count()/len(df)"
   ]
  },
  {
   "cell_type": "code",
   "execution_count": null,
   "id": "96c81558",
   "metadata": {},
   "outputs": [],
   "source": [
    "df[\"RL-TKET mix\"][df[\"RL-TKET mix\"] > 0.0 ].count()/len(df)"
   ]
  },
  {
   "cell_type": "markdown",
   "id": "8f00cd6f",
   "metadata": {},
   "source": [
    "# Expected Fidelity"
   ]
  },
  {
   "cell_type": "code",
   "execution_count": null,
   "id": "c41eb1a7",
   "metadata": {},
   "outputs": [],
   "source": [
    "max_val = max([df[\"RL-Qiskit Fid\"].max(), df[\"RL-TKET Fid\"].max(), -df[\"RL-Qiskit Fid\"].min(), -df[\"RL-TKET Fid\"].min()])\n",
    "xrange = (-max_val-(max_val)/10, max_val+(max_val)/10)\n",
    "ax = df[\"RL-Qiskit Fid\"].hist(bins=num_bins, alpha=0.5, range=xrange, color=color_qiskit, weights=np.ones(len(df[\"RL-Qiskit Fid\"])) / len(df[\"RL-Qiskit Fid\"]), xlabelsize=size, ylabelsize=size)\n",
    "df[\"RL-TKET Fid\"].hist(bins=num_bins, ax=ax, alpha=0.5, range=xrange, color=color_TKET, grid=False, weights=np.ones(len(df[\"RL-TKET Fid\"])) / len(df[\"RL-TKET Fid\"]))\n",
    "ax.set_ylabel(\"Relative frequency\", size=size)\n",
    "ax.set_xlabel(\"Absolute reward  difference\", size=size)\n",
    "ax.legend([\"compared to Qiskit\", \"compared to TKET\"], fontsize=legendsize, loc='upper right')\n",
    "ax.axvline(x=0, color= 'black', linewidth=1).get_figure().savefig('results/fidelity_hist.pdf', bbox_inches='tight')"
   ]
  },
  {
   "cell_type": "code",
   "execution_count": null,
   "id": "97a0c23a",
   "metadata": {},
   "outputs": [],
   "source": [
    "ax = df.groupby([\"benchmark\"])[\"RL-Qiskit Fid\"].mean().plot(kind=\"bar\", color=color_qiskit, alpha=0.5)\n",
    "df.groupby([\"benchmark\"])[\"RL-TKET Fid\"].mean().plot(kind=\"bar\", ax=ax, color=color_TKET, alpha=0.5)\n",
    "ax.set_ylabel(\"Average reward difference\", size=size)\n",
    "ax.set_xlabel(\"Benchmark\", size=size)\n",
    "ax.tick_params(axis='x', which='both', labelsize=size)\n",
    "ax.legend([\"compared to Qiskit\", \"compared to TKET\"], fontsize=legendsize, loc='upper right')\n",
    "ax.set_ylim(min_value_bench-0.01, max_val_bench+0.01)\n",
    "ax.tick_params(axis='both', labelsize=size)\n",
    "ax.axhline(y=0, color= 'black', linewidth=1).get_figure().savefig('results/fidelity_bench.pdf', bbox_inches='tight')"
   ]
  },
  {
   "cell_type": "code",
   "execution_count": null,
   "id": "14834d01",
   "metadata": {},
   "outputs": [],
   "source": [
    "print(df[\"RL-Qiskit Fid\"].mean(), df[\"RL-TKET Fid\"].mean())"
   ]
  },
  {
   "cell_type": "markdown",
   "id": "56ae0910",
   "metadata": {},
   "source": [
    "# Gate Ratio"
   ]
  },
  {
   "cell_type": "code",
   "execution_count": null,
   "id": "5c04800c",
   "metadata": {},
   "outputs": [],
   "source": [
    "max_val = max([df[\"RL-Qiskit gate_ratio\"].max(), df[\"RL-TKET gate_ratio\"].max(), -df[\"RL-Qiskit gate_ratio\"].min(), -df[\"RL-TKET gate_ratio\"].min()])\n",
    "xrange = (-max_val-(max_val)/10, max_val+(max_val)/10)\n",
    "ax = df[\"RL-Qiskit gate_ratio\"].hist(bins=num_bins, alpha=0.5, range=xrange, color=color_qiskit, weights=np.ones(len(df[\"RL-Qiskit gate_ratio\"])) / len(df[\"RL-Qiskit gate_ratio\"]), xlabelsize=size, ylabelsize=size)\n",
    "df[\"RL-TKET gate_ratio\"].hist(bins=num_bins, ax=ax,alpha=0.5, range=xrange, color=color_TKET, grid=False, weights=np.ones(len(df[\"RL-TKET gate_ratio\"])) / len(df[\"RL-TKET gate_ratio\"]))\n",
    "ax.set_ylabel(\"Relative frequency\", size=size)\n",
    "ax.set_xlabel(\"Absolute reward difference\", size=size)\n",
    "ax.legend([\"compared to Qiskit\", \"compared to TKET\"], fontsize=legendsize, loc='upper right')\n",
    "ax.axvline(x=0, color= 'black', linewidth=1).get_figure().savefig('results/gate_ratio_hist.pdf', bbox_inches='tight')"
   ]
  },
  {
   "cell_type": "code",
   "execution_count": null,
   "id": "b9dbe323",
   "metadata": {},
   "outputs": [],
   "source": [
    "ax = df.groupby([\"benchmark\"])[\"RL-Qiskit gate_ratio\"].mean().plot(kind=\"bar\", color=color_qiskit, alpha=0.5)\n",
    "df.groupby([\"benchmark\"])[\"RL-TKET gate_ratio\"].mean().plot(kind=\"bar\", ax=ax, color=color_TKET, alpha=0.5)\n",
    "ax.set_ylabel(\"Average reward difference\", size=size)\n",
    "ax.set_xlabel(\"Benchmark\", size=size)\n",
    "ax.tick_params(axis='x', which='both', labelsize=size)\n",
    "ax.set_ylim(min_value_bench-0.01, max_val_bench+0.01)\n",
    "ax.tick_params(axis='both', labelsize=size)\n",
    "ax.legend([\"compared to Qiskit\", \"compared to TKET\"], fontsize=legendsize, loc='upper right')\n",
    "ax.axhline(y=0, color= 'black', linewidth=1).get_figure().savefig('results/gate_ratio_bench.pdf', bbox_inches='tight')"
   ]
  },
  {
   "cell_type": "code",
   "execution_count": null,
   "id": "43016d5f",
   "metadata": {},
   "outputs": [],
   "source": [
    "print(df[\"RL-Qiskit gate_ratio\"].mean(), df[\"RL-TKET gate_ratio\"].mean())"
   ]
  },
  {
   "cell_type": "markdown",
   "id": "e5588478",
   "metadata": {},
   "source": [
    "# Critical Depth"
   ]
  },
  {
   "cell_type": "code",
   "execution_count": null,
   "id": "c592106d",
   "metadata": {},
   "outputs": [],
   "source": [
    "max_val = max([df[\"RL-Qiskit Crit Depth\"].max(), df[\"RL-TKET Crit Depth\"].max(), -df[\"RL-Qiskit Crit Depth\"].min(), -df[\"RL-TKET Crit Depth\"].min()])\n",
    "xrange = (-max_val-(max_val)/10, max_val+(max_val)/10)\n",
    "ax = df[\"RL-Qiskit Crit Depth\"].hist(bins=num_bins, alpha=0.5, range=xrange, color=color_qiskit, weights=np.ones(len(df[\"RL-Qiskit Crit Depth\"])) / len(df[\"RL-Qiskit Crit Depth\"]), xlabelsize=size, ylabelsize=size)\n",
    "df[\"RL-TKET Crit Depth\"].hist(bins=num_bins, ax=ax, alpha=0.5, range=xrange, grid=False, color=color_TKET, weights=np.ones(len(df[\"RL-TKET Crit Depth\"])) / len(df[\"RL-TKET Crit Depth\"]))\n",
    "ax.set_ylabel(\"Relative frequency\", size=size)\n",
    "ax.set_xlabel(\"Absolute reward difference\", size=size)\n",
    "ax.legend([\"compared to Qiskit\", \"compared to TKET\"], fontsize=legendsize, loc='upper right')\n",
    "ax.axvline(x=0, color= 'black', linewidth=1).get_figure().savefig('results/critical_depth_hist.pdf', bbox_inches='tight')"
   ]
  },
  {
   "cell_type": "code",
   "execution_count": null,
   "id": "8db7d93e",
   "metadata": {},
   "outputs": [],
   "source": [
    "ax = df.groupby([\"benchmark\"])[\"RL-Qiskit Crit Depth\"].mean().plot(kind=\"bar\", color=color_qiskit, alpha=0.5)\n",
    "df.groupby([\"benchmark\"])[\"RL-TKET Crit Depth\"].mean().plot(kind=\"bar\", ax=ax, color=color_TKET, alpha=0.5)\n",
    "ax.set_ylabel(\"Average reward difference\", size=size)\n",
    "ax.set_xlabel(\"Benchmark\", size=size)\n",
    "ax.tick_params(axis='x', which='both', labelsize=size)\n",
    "ax.set_ylim(min_value_bench-0.01, max_val_bench+0.01)\n",
    "ax.tick_params(axis='both', labelsize=size)\n",
    "ax.legend([\"compared to Qiskit\", \"compared to TKET\"], fontsize=legendsize, loc='upper right')\n",
    "ax.axhline(y=0, color= 'black', linewidth=1).get_figure().savefig('results/critical_depth_bench.pdf', bbox_inches='tight')"
   ]
  },
  {
   "cell_type": "code",
   "execution_count": null,
   "id": "e7b043b4",
   "metadata": {},
   "outputs": [],
   "source": [
    "print(df[\"RL-Qiskit Crit Depth\"].mean(), df[\"RL-TKET Crit Depth\"].mean())"
   ]
  },
  {
   "cell_type": "markdown",
   "id": "6c869871",
   "metadata": {},
   "source": [
    "# Mix"
   ]
  },
  {
   "cell_type": "code",
   "execution_count": null,
   "id": "09b90d94",
   "metadata": {},
   "outputs": [],
   "source": [
    "max_val = max([df[\"RL-Qiskit mix\"].max(), df[\"RL-TKET mix\"].max(), -df[\"RL-Qiskit mix\"].min(), -df[\"RL-TKET mix\"].min()])\n",
    "xrange = (-max_val-(max_val)/10, max_val+(max_val)/10)\n",
    "ax = df[\"RL-Qiskit mix\"].hist(bins=num_bins, alpha=0.5, range = xrange, color=color_qiskit, weights=np.ones(len(df[\"RL-Qiskit mix\"])) / len(df[\"RL-Qiskit mix\"]), xlabelsize=size, ylabelsize=size)\n",
    "df[\"RL-TKET mix\"].hist(bins=num_bins, ax=ax, alpha=0.5, range = xrange, grid=False, color=color_TKET, weights=np.ones(len(df[\"RL-TKET mix\"])) / len(df[\"RL-TKET mix\"]))\n",
    "ax.set_ylabel(\"Relative frequency\", size=size)\n",
    "ax.set_xlabel(\"Absolute reward difference\", size=size)\n",
    "ax.legend([\"compared to Qiskit\", \"compared to TKET\"], fontsize=legendsize, loc='upper right')\n",
    "ax.axvline(x=0, color= 'black', linewidth=1).get_figure().savefig('results/mix_hist.pdf', bbox_inches='tight')"
   ]
  },
  {
   "cell_type": "code",
   "execution_count": null,
   "id": "7611c8a5",
   "metadata": {},
   "outputs": [],
   "source": [
    "ax = df.groupby([\"benchmark\"])[\"RL-Qiskit mix\"].mean().plot(kind=\"bar\", color=color_qiskit, alpha=0.5)\n",
    "df.groupby([\"benchmark\"])[\"RL-TKET mix\"].mean().plot(kind=\"bar\", ax=ax, color=color_TKET, alpha=0.5)\n",
    "ax.set_ylabel(\"Average reward difference\", size=size)\n",
    "ax.set_xlabel(\"Benchmark\", size=size)\n",
    "ax.tick_params(axis='x', which='both', labelsize=size)\n",
    "ax.set_ylim(min_value_bench-0.01, max_val_bench+0.01)\n",
    "ax.tick_params(axis='both', labelsize=size)\n",
    "ax.legend([\"compared to Qiskit\", \"compared to TKET\"], fontsize=legendsize, loc='upper right')\n",
    "ax.axhline(y=0, color= 'black', linewidth=1).get_figure().savefig('results/mix_bench.pdf', bbox_inches='tight')"
   ]
  },
  {
   "cell_type": "code",
   "execution_count": null,
   "id": "7fe4a20d",
   "metadata": {},
   "outputs": [],
   "source": [
    "print(df[\"RL-Qiskit mix\"].mean(), df[\"RL-TKET mix\"].mean())"
   ]
  },
  {
   "cell_type": "markdown",
   "id": "5cd42294",
   "metadata": {},
   "source": [
    "# 4x4 Matrix With Mean Results and RL Optimization Criterion Comparison"
   ]
  },
  {
   "cell_type": "code",
   "execution_count": null,
   "id": "6a887a2c",
   "metadata": {},
   "outputs": [],
   "source": [
    "RL_fidelity = [df[\"RL_fidelity_fidelity\"].mean(), df[\"RL_fidelity_gate_ratio\"].mean(), df[\"RL_fidelity_critical_depth\"].mean(), df[\"RL_fidelity_mix\"].mean()]\n",
    "RL_gate_ratio = [df[\"RL_gate_ratio_fidelity\"].mean(),df[\"RL_gate_ratio_gate_ratio\"].mean(),df[\"RL_gate_ratio_critical_depth\"].mean(), df[\"RL_gate_ratio_mix\"].mean()]\n",
    "RL_critical_depth = [ df[\"RL_critical_depth_fidelity\"].mean(),df[\"RL_critical_depth_gate_ratio\"].mean(), df[\"RL_critical_depth_critical_depth\"].mean(), df[\"RL_critical_depth_mix\"].mean()]\n",
    "RL_mix =[ df[\"RL_mix_fidelity\"].mean(),df[\"RL_mix_gate_ratio\"].mean(), df[\"RL_mix_critical_depth\"].mean(), df[\"RL_mix_mix\"].mean()]"
   ]
  },
  {
   "cell_type": "code",
   "execution_count": null,
   "id": "c8d299e2",
   "metadata": {},
   "outputs": [],
   "source": [
    "print(np.round(RL_fidelity,2))\n",
    "print(np.round(RL_gate_ratio,2))\n",
    "print(np.round(RL_critical_depth,2))\n",
    "print(np.round(RL_mix,2))"
   ]
  },
  {
   "cell_type": "code",
   "execution_count": null,
   "id": "8f5f4fa2",
   "metadata": {},
   "outputs": [],
   "source": []
  }
 ],
 "metadata": {
  "kernelspec": {
   "display_name": "Python 3 (ipykernel)",
   "language": "python",
   "name": "python3"
  },
  "language_info": {
   "codemirror_mode": {
    "name": "ipython",
    "version": 3
   },
   "file_extension": ".py",
   "mimetype": "text/x-python",
   "name": "python",
   "nbconvert_exporter": "python",
   "pygments_lexer": "ipython3"
  }
 },
 "nbformat": 4,
 "nbformat_minor": 5
}
