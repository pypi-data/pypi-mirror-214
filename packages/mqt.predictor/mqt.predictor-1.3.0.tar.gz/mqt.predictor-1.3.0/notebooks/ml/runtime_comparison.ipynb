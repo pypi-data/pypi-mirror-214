{
 "cells": [
  {
   "cell_type": "markdown",
   "id": "d8f3bb66",
   "metadata": {},
   "source": [
    "# Compiling all options"
   ]
  },
  {
   "cell_type": "code",
   "execution_count": null,
   "id": "56464b72",
   "metadata": {},
   "outputs": [],
   "source": [
    "from mqt.predictor import utils, ml\n",
    "from mqt.bench import get_benchmark\n",
    "from pathlib import Path\n",
    "\n",
    "import numpy as np\n",
    "import time\n",
    "\n",
    "pred = ml.Predictor()\n",
    "qc = get_benchmark(\"dj\", 1, 7)\n",
    "source_path = Path(\"runtime_comp\")\n",
    "target_path = Path(\"runtime_comp_compiled\")\n",
    "\n",
    "if not source_path.exists():\n",
    "    source_path.mkdir()\n",
    "if not target_path.exists():\n",
    "    target_path.mkdir()\n",
    "    \n",
    "    \n",
    "filename = \"dj_indep_qiskit_7.qasm\"\n",
    "qc.qasm(filename=str(source_path/filename))\n",
    "\n",
    "results = []\n",
    "for _ in range(5):\n",
    "    start = time.time()\n",
    "    pred.compile_all_circuits_for_qc(\n",
    "        filename=filename, source_path=str(source_path), target_path=str(target_path), timeout=60\n",
    "    )\n",
    "    res = pred.generate_training_sample(file=filename.split(\".\")[0], path_uncompiled_circuit=str(source_path), path_compiled_circuits=str(target_path))\n",
    "    end = time.time()\n",
    "    diff_all_compile = end - start\n",
    "    results.append(diff_all_compile)\n",
    "runtimes_all_comp = results"
   ]
  },
  {
   "cell_type": "markdown",
   "id": "7be7d782",
   "metadata": {},
   "source": [
    "# Using MQT Predictor"
   ]
  },
  {
   "cell_type": "code",
   "execution_count": null,
   "id": "b30845c2",
   "metadata": {},
   "outputs": [],
   "source": [
    "results = []\n",
    "for _ in range(5):\n",
    "    start = time.time()\n",
    "    prediction = pred.predict(str(source_path/filename))\n",
    "    print(prediction)\n",
    "    pred.compile_predicted_compilation_path(str(source_path/filename), prediction)\n",
    "    end = time.time()\n",
    "\n",
    "    diff_predictor = round((end - start), 3)\n",
    "    results.append(diff_predictor)\n",
    "\n",
    "runtimes_predictor = results"
   ]
  },
  {
   "cell_type": "markdown",
   "id": "866bf2c9",
   "metadata": {},
   "source": [
    "# Difference"
   ]
  },
  {
   "cell_type": "code",
   "execution_count": null,
   "id": "cf20c3ca",
   "metadata": {},
   "outputs": [],
   "source": [
    "runtimes_all_comp"
   ]
  },
  {
   "cell_type": "code",
   "execution_count": null,
   "id": "88d04e0e",
   "metadata": {},
   "outputs": [],
   "source": [
    "runtimes_predictor"
   ]
  },
  {
   "cell_type": "code",
   "execution_count": null,
   "id": "28ee9571",
   "metadata": {},
   "outputs": [],
   "source": [
    "diff = 1 - np.mean(runtimes_predictor) / np.mean(runtimes_all_comp)"
   ]
  },
  {
   "cell_type": "code",
   "execution_count": null,
   "id": "d679b6ff",
   "metadata": {},
   "outputs": [],
   "source": [
    "print(\"Runtime all compilations: \", np.mean(runtimes_all_comp))\n",
    "print(\"Runtime Predictor: \", np.mean(runtimes_predictor))\n",
    "print(\"Percentual Difference: \", np.round(diff, 3))"
   ]
  },
  {
   "cell_type": "markdown",
   "id": "b1c56dda",
   "metadata": {},
   "source": [
    "# Check many samples randomly"
   ]
  },
  {
   "cell_type": "code",
   "execution_count": null,
   "id": "994910ce",
   "metadata": {},
   "outputs": [],
   "source": [
    "from mqt.predictor import utils, ml\n",
    "from mqt.bench import get_benchmark\n",
    "from pathlib import Path\n",
    "\n",
    "import numpy as np\n",
    "import time\n",
    "\n",
    "\n",
    "\n",
    "pred = ml.Predictor()\n",
    "\n",
    "source_path = ml.helper.get_path_training_circuits()\n",
    "target_path = Path(\"runtime_comp_compiled\")\n",
    "\n",
    "#if not source_path.exists():\n",
    "#    source_path.mkdir()\n",
    "if not target_path.exists():\n",
    "    target_path.mkdir()\n",
    "    \n",
    "    \n",
    "results = []\n",
    "\n",
    "file_list = list(ml.helper.get_path_training_circuits().glob(\"*.qasm\"))\n",
    "\n",
    "compile_time_all = []\n",
    "compile_time_pred = []\n",
    "for i in range(20):\n",
    "    random_index = np.random.randint(len(file_list))\n",
    "    filename = file_list[random_index]\n",
    "    print(i, filename)\n",
    "    \n",
    "    start = time.time()\n",
    "    pred.compile_all_circuits_for_qc(filename=str(filename.name), source_path=str(source_path), target_path=str(target_path), timeout=60000)\n",
    "    res = pred.generate_training_sample(file=str(filename.stem), path_compiled_circuits=str(target_path))\n",
    "    end = time.time()\n",
    "    compile_time_all.append(end - start)\n",
    "    \n",
    "    \n",
    "    start = time.time()\n",
    "    prediction = pred.predict(str(source_path/filename))\n",
    "    pred.compile_predicted_compilation_path(str(source_path/filename), prediction)\n",
    "    end = time.time()\n",
    "    compile_time_pred.append(end - start)\n",
    "runtimes_all_comp = results"
   ]
  },
  {
   "cell_type": "code",
   "execution_count": null,
   "id": "1586b46b",
   "metadata": {},
   "outputs": [],
   "source": [
    "compile_time_all"
   ]
  },
  {
   "cell_type": "code",
   "execution_count": null,
   "id": "5b857329",
   "metadata": {},
   "outputs": [],
   "source": [
    "compile_time_pred"
   ]
  },
  {
   "cell_type": "code",
   "execution_count": null,
   "id": "483becca",
   "metadata": {},
   "outputs": [],
   "source": [
    "rel = np.array(compile_time_all)/np.array(compile_time_pred)\n",
    "rel"
   ]
  },
  {
   "cell_type": "code",
   "execution_count": null,
   "id": "5461dd1d",
   "metadata": {},
   "outputs": [],
   "source": [
    "print(np.median(rel), np.mean(rel))"
   ]
  }
 ],
 "metadata": {
  "kernelspec": {
   "display_name": "Python 3 (ipykernel)",
   "language": "python",
   "name": "python3"
  },
  "language_info": {
   "codemirror_mode": {
    "name": "ipython",
    "version": 3
   },
   "file_extension": ".py",
   "mimetype": "text/x-python",
   "name": "python",
   "nbconvert_exporter": "python",
   "pygments_lexer": "ipython3"
  }
 },
 "nbformat": 4,
 "nbformat_minor": 5
}
