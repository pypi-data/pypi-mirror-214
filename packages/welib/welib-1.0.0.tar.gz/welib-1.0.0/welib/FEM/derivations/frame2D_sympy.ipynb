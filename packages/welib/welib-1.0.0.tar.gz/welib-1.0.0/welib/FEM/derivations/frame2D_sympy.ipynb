{
 "cells": [
  {
   "cell_type": "markdown",
   "metadata": {},
   "source": [
    "Misc derivations of frame2d FEM elements and verification that results are consistent with welib.FEM.frame2d"
   ]
  },
  {
   "cell_type": "code",
   "execution_count": null,
   "metadata": {},
   "outputs": [],
   "source": [
    "import sympy\n",
    "from sympy import symbols, Symbol, simplify, Function, expand_trig\n",
    "from sympy import cos,sin\n",
    "from sympy import diff, integrate\n",
    "from sympy import python, latex\n",
    "from sympy import Matrix\n",
    "from sympy.physics.vector import init_vprinting, vlatex\n",
    "init_vprinting(use_latex='mathjax', pretty_print=False)\n",
    "from IPython.core.interactiveshell import InteractiveShell\n",
    "InteractiveShell.ast_node_interactivity = \"all\"\n",
    "import matplotlib.pyplot as plt\n",
    "import numpy as np\n",
    "%load_ext autoreload\n",
    "%autoreload 2\n",
    "%matplotlib inline\n",
    "# --- local packages\n",
    "import welib.FEM\n",
    "from welib.FEM.frame2d import *\n",
    "from welib.FEM.fem_sympy import *"
   ]
  },
  {
   "cell_type": "code",
   "execution_count": null,
   "metadata": {},
   "outputs": [],
   "source": [
    "s = Symbol('s')\n",
    "x = Symbol('x')\n",
    "L = Symbol('L')\n",
    "EI=Symbol('EI') \n",
    "EA=Symbol('EA') \n",
    "rho = Symbol('rho')\n",
    "A = Symbol('A')\n",
    "m = Symbol('m')\n",
    "T=Symbol('T')   # Axial load\n",
    "u1,u2,u3,u4,u5,u6 = symbols('u_1, u_2, u_3, u_4, u_5, u_6')"
   ]
  },
  {
   "cell_type": "code",
   "execution_count": null,
   "metadata": {},
   "outputs": [],
   "source": [
    "# --- Visualize shape functions\n",
    "vx = np.linspace(0,1,100)\n",
    "fig,ax = plt.subplots(1,1)\n",
    "ax.plot(vx, b2(vx),   label=r'$b_2$')\n",
    "ax.plot(vx, b3(vx,1), label=r'$b_3$')\n",
    "ax.plot(vx, b5(vx),   label=r'$b_5$')\n",
    "ax.plot(vx, b6(vx,1), label=r'$b_6$')\n",
    "fig.legend()\n",
    "\n",
    "fig,ax = plt.subplots(1,1)\n",
    "ax.plot(vx, h(vx,1,2,3,-5,1),   label=r'$h(x)\\ for\\ u=(1,2,3,-5)$')\n",
    "fig.legend()\n",
    "\n",
    "fig,ax = plt.subplots(1,1)\n",
    "ax.plot(vx, uax(vx,1,2,1),   label=r'$u(x)\\ for\\ u=(1,2)$')\n",
    "fig.legend()\n",
    "\n"
   ]
  },
  {
   "cell_type": "code",
   "execution_count": null,
   "metadata": {},
   "outputs": [],
   "source": [
    "# --- Look at properties\n",
    "print('h in polynomial form')\n",
    "h(x, u2, u3,u5,u6,L).simplify().expand().collect(x)\n",
    "print('u in polynomial form')\n",
    "uax(x, u1, u4, L).simplify().expand().collect(x)\n",
    "\n",
    "D0 = []\n",
    "DL = []\n",
    "V0 = []\n",
    "VL = []\n",
    "for b in [b1, b2, lambda s:b3(s,L), b4, b5, lambda s:b6(s,L)]:\n",
    "    D0.append(b(s).diff(s).subs([(s,0)]))\n",
    "    DL.append(b(s).diff(s).subs([(s,1)]))\n",
    "    V0.append(b(0))\n",
    "    VL.append(b(1))\n",
    "#print('Values at start points ')\n",
    "#V0\n",
    "#print('Values at end points ')\n",
    "#VL\n",
    "print('Derivatives at start points ')\n",
    "D0\n",
    "print('Derivatives at end points ')\n",
    "DL\n",
    "\n",
    "print('Integrals of b functions')\n",
    "I = []\n",
    "for b in [b1, b2, lambda s:b3(s,L), b4, b5, lambda s:b6(s,L)]:\n",
    "    I.append(integrate(b(s),(s,0,1)))\n",
    "I"
   ]
  },
  {
   "cell_type": "code",
   "execution_count": null,
   "metadata": {},
   "outputs": [],
   "source": [
    "# --- Define Stiffness matrix based on Strain energy\n",
    "\n",
    "UB = frame2d_U_B(h,x,L,EI)\n",
    "UG = frame2d_U_G(h,x,L,T)\n",
    "UA = frame2d_U_A(uax,x,L,EA)\n",
    "#UB.simplify()\n",
    "\n",
    "Ke= zeros(6,6)\n",
    "\n",
    "u=[u1,u2,u3,u4,u5,u6]\n",
    "            \n",
    "Ke= stiffnessMatrixFromPot(UB+UA, u)\n",
    "Kg= stiffnessMatrixFromPot(UG, u)\n",
    "            \n",
    "Ke\n",
    "Kg\n",
    "\n",
    "print(python(Kg))\n",
    "print(python(Ke))"
   ]
  },
  {
   "cell_type": "code",
   "execution_count": null,
   "metadata": {},
   "outputs": [],
   "source": [
    "# --- Interpolation matrix from nodal DOF to deflections\n",
    "NN = zeros(2,6)\n",
    "NN[0,0]=b1(x/L)\n",
    "NN[0,3]=b4(x/L)\n",
    "NN[1,1]=b2(x/L)\n",
    "NN[1,2]=b3(x/L,L)\n",
    "NN[1,4]=b5(x/L)\n",
    "NN[1,5]=b6(x/L,L)\n",
    "\n",
    "NN\n",
    "\n",
    "Ke = stiffnessMatrixFromShapeFunctions(NN, x, L, EI) # TODO missing EA\n",
    "Ke1,Me1,Kg1=frame2d_KeMe(EA, EI, L, m,T)\n",
    "Ke1=Matrix(Ke1)\n",
    "Ke-Ke1"
   ]
  },
  {
   "cell_type": "code",
   "execution_count": null,
   "metadata": {},
   "outputs": [],
   "source": [
    "# --- Mass matrix\n",
    "\n",
    "Me= massMatrixFromShapeFunctions(NN, x, L, m)\n",
    "Ke1,Me1,Kg1=frame2d_KeMe(EA, EI, L, m,T)\n",
    "\n",
    "Me1=Matrix(Me1)\n",
    "Me1-Me\n",
    "\n",
    "\n",
    "Me\n",
    "print(python(Me))"
   ]
  },
  {
   "cell_type": "code",
   "execution_count": null,
   "metadata": {},
   "outputs": [],
   "source": [
    "# --- latex export\n",
    "print(cleantex(latex(Me/m)))\n",
    "print(cleantex(latex(Matrix(Ke1))))\n",
    "print(cleantex(latex(Matrix(Kg)/T)))\n",
    "print(cleantex(latex(Matrix(I))))"
   ]
  }
 ],
 "metadata": {
  "kernelspec": {
   "display_name": "Python 3 (ipykernel)",
   "language": "python",
   "name": "python3"
  },
  "language_info": {
   "codemirror_mode": {
    "name": "ipython",
    "version": 3
   },
   "file_extension": ".py",
   "mimetype": "text/x-python",
   "name": "python",
   "nbconvert_exporter": "python",
   "pygments_lexer": "ipython3",
   "version": "3.9.9"
  }
 },
 "nbformat": 4,
 "nbformat_minor": 2
}
