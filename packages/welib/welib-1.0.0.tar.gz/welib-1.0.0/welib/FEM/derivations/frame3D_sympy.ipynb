{
 "cells": [
  {
   "cell_type": "markdown",
   "metadata": {},
   "source": [
    "Misc derivations of frame3d FEM elements and vefirication that results are consistent with welib.FEM.frame3d"
   ]
  },
  {
   "cell_type": "code",
   "execution_count": null,
   "metadata": {},
   "outputs": [],
   "source": [
    "# Sympy\n",
    "import sympy as sp\n",
    "from sympy import symbols, Symbol, simplify, Function, expand_trig\n",
    "from sympy import cos,sin\n",
    "from sympy import diff, integrate\n",
    "from sympy import python, latex\n",
    "from sympy import Matrix\n",
    "from sympy.physics.vector import init_vprinting, vlatex\n",
    "init_vprinting(use_latex='mathjax', pretty_print=False)\n",
    "from IPython.core.interactiveshell import InteractiveShell\n",
    "InteractiveShell.ast_node_interactivity = \"all\"\n",
    "import matplotlib.pyplot as plt\n",
    "import numpy as np\n",
    "%load_ext autoreload\n",
    "%autoreload 2\n",
    "%matplotlib inline\n",
    "# --- local packages\n",
    "from welib.FEM.frame3d import *\n",
    "from welib.FEM.fem_sympy import *"
   ]
  },
  {
   "cell_type": "code",
   "execution_count": null,
   "metadata": {},
   "outputs": [],
   "source": [
    "s = Symbol('s')\n",
    "x = Symbol('x')\n",
    "L = Symbol('L')\n",
    "EIx,EIy,EIz,GKt,EA=symbols('EIx,EIy,EIz,GKt,EA') \n",
    "Ix,Iy,Iz,Kt=symbols('Ix,Iy,Iz,Kt') \n",
    "rho = Symbol('rho')\n",
    "E, G = symbols('E, G')\n",
    "A = Symbol('A')\n",
    "m = Symbol('m')\n",
    "D,t = sp.symbols('D, t')\n",
    "T=Symbol('T')   # Axial load\n",
    "ux1,uy1,uz1,tx1,ty1,tz1,ux2,uy2,uz2,tx2,ty2,tz2 = symbols('u_x1, u_y1, u_z1, theta_x1, theta_y1, theta_z1, u_x2, u_y2, u_z2, theta_x2, theta_y2, theta_z2')\n",
    "n1,n2,n3,n4,n5,n6=symbols('n_1,n_2,n_3,n_4,n_5,n_6')\n",
    "q=Matrix([[ux1,uy1,uz1,tx1,ty1,tz1,ux2,uy2,uz2,tx2,ty2,tz2]]).T"
   ]
  },
  {
   "cell_type": "code",
   "execution_count": null,
   "metadata": {},
   "outputs": [],
   "source": [
    "# --- Look at properties\n",
    "#print('h in polynomial form')\n",
    "#h(x, u2, u3,u5,u6,L).simplify().expand().collect(x)\n",
    "#print('u in polynomial form')\n",
    "#uax(x, u1, u4, L).simplify().expand().collect(x)\n"
   ]
  },
  {
   "cell_type": "code",
   "execution_count": null,
   "metadata": {},
   "outputs": [],
   "source": [
    "# --- Interpolation matrix from nodal DOF to deflections\n",
    "# Symbolic version as function of shape functions\n",
    "NN1 = zeros(4,12)\n",
    "NN1[0,0]=n1\n",
    "NN1[1,1]=n2\n",
    "NN1[2,2]=n2\n",
    "NN1[3,3]=n1\n",
    "NN1[2,4]=-n3\n",
    "NN1[1,5]=n3\n",
    "NN1[0,6]=n4\n",
    "NN1[1,7]=n5\n",
    "NN1[2,8]=n5\n",
    "NN1[3,9]=n4\n",
    "NN1[2,10]=-n6\n",
    "NN1[1,11]=n6\n",
    "\n",
    "# Explicit version\n",
    "NN2 = zeros(4,12)\n",
    "NN2[0,0]=b1(x/L)\n",
    "NN2[1,1]=b2(x/L)\n",
    "NN2[2,2]=b2(x/L)\n",
    "NN2[3,3]=b1(x/L)\n",
    "NN2[2,4]=-b3(x/L,L)\n",
    "NN2[1,5]=b3(x/L,L)\n",
    "NN2[0,6]=b4(x/L)\n",
    "NN2[1,7]=b5(x/L)\n",
    "NN2[2,8]=b5(x/L)\n",
    "NN2[3,9]=b4(x/L)\n",
    "NN2[2,10]=-b6(x/L,L)\n",
    "NN2[1,11]=b6(x/L,L)\n",
    "\n",
    "# Explicit version using frame3d module\n",
    "NN3 = frame3d_N(x,L)\n",
    "NN1\n",
    "NN3"
   ]
  },
  {
   "cell_type": "code",
   "execution_count": null,
   "metadata": {},
   "outputs": [],
   "source": [
    "# --- Mass matrix\n",
    "from welib.FEM.fem_sympy import *\n",
    "rx = symbols('r_x')\n",
    "Me= massMatrixFromShapeFunctions(NN2, x, L, m, coeffs=[m/L,m/L,m/L,m/L*rx**2])\n",
    "Ke1, Me1, _= frame3d_KeMe(E,G,Kt,EA,EIx,EIy,EIz,L,A,m) \n",
    "\n",
    "Me1=Matrix(Me1).subs(EIx/A/E,rx**2)\n",
    "#Me1-Me\n",
    "#Me/m*2*105\n",
    "Me1/m*2*105\n",
    "Me/m*2*105\n",
    "#Me-Me1\n",
    "#Me\n",
    "#print(python(M))\n"
   ]
  },
  {
   "cell_type": "code",
   "execution_count": null,
   "metadata": {},
   "outputs": [],
   "source": [
    "from welib.FEM.fem_sympy import *\n",
    "# --- Define Stiffness matrix based on Strain energy\n",
    "# Displacements\n",
    "u = frame3d_u(x,q,L)\n",
    "u_x=u[0]\n",
    "u_y=u[1]\n",
    "u_z=u[2]\n",
    "t_x=u[3]\n",
    "\n",
    "# Regular strain energy - TODO cross terms migth be missing\n",
    "UBy = frame3d_U_B(u_y,x,L,EIz)  # strain energy bending along y (EIz)\n",
    "UBz = frame3d_U_B(u_z,x,L,EIy)  # strain energy bending along z (EIy)\n",
    "UA = frame3d_U_A(u_x,x,L,EA)    # axial energy\n",
    "UT = frame3d_U_A(t_x,x,L,GKt)    # axial energy\n",
    "# Energy from axial loads - OK\n",
    "UGy = frame3d_U_G(u_y,x,L,T)\n",
    "UGz = frame3d_U_G(u_z,x,L,T)\n",
    "#            \n",
    "Ke= stiffnessMatrixFromPot(UA+UBy+UBz+UT, q)\n",
    "Kg= stiffnessMatrixFromPot(UGy+UGz, q)\n",
    "Ke1, Me1, _= frame3d_KeMe(E,G,Kt,EA,EIx,EIy,EIz,L,A,m) \n",
    "Ke1=Matrix(Ke1).subs([(G*Kt,GKt)])\n",
    "#            \n",
    "Ke\n",
    "Kg\n",
    "\n",
    "#print(python(Kg))\n",
    "#print(python(Ke))"
   ]
  },
  {
   "cell_type": "code",
   "execution_count": null,
   "metadata": {},
   "outputs": [],
   "source": [
    "# --- Numerical examples\n",
    "Subst=[(L,100),(D,8),(t,0.045), (rho,7850), (E,210e9),(G,79.3e9)]\n",
    "A  = np.pi*( (D/2)**2 - (D/2-t)**2)\n",
    "Ix = np.pi/32*(D**4-(D-2*t)**4)  # Polar second moment of area [m^4]\n",
    "\n",
    "Mass = rho*A*L\n",
    "\n",
    "Me_num=np.array(Me.subs([(m,Mass),(rx,np.sqrt(Ix/A))]+Subst)).astype(np.float)\n",
    "Me_num[3,9]"
   ]
  },
  {
   "cell_type": "code",
   "execution_count": null,
   "metadata": {},
   "outputs": [],
   "source": [
    "# --- latex export\n",
    "print(cleantex(latex(Me/m*2*105)))\n",
    "print(cleantex(latex(Matrix(Ke1))))\n",
    "print(cleantex(latex(Matrix(Kg)/T)))\n",
    "#print(cleantex(latex(Matrix(I))))"
   ]
  },
  {
   "cell_type": "code",
   "execution_count": null,
   "metadata": {},
   "outputs": [],
   "source": [
    "np.array(Kg/T)"
   ]
  }
 ],
 "metadata": {
  "kernelspec": {
   "display_name": "Python 3 (ipykernel)",
   "language": "python",
   "name": "python3"
  },
  "language_info": {
   "codemirror_mode": {
    "name": "ipython",
    "version": 3
   },
   "file_extension": ".py",
   "mimetype": "text/x-python",
   "name": "python",
   "nbconvert_exporter": "python",
   "pygments_lexer": "ipython3",
   "version": "3.9.9"
  }
 },
 "nbformat": 4,
 "nbformat_minor": 2
}
