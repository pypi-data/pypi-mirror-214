{
 "cells": [
  {
   "cell_type": "markdown",
   "metadata": {},
   "source": [
    "This notebook attempts to look at the inertia of a 3+ bladed rotor is independent of azimuth. \n",
    "\n",
    "NOTE: Unfinished work\n"
   ]
  },
  {
   "cell_type": "code",
   "execution_count": null,
   "metadata": {},
   "outputs": [],
   "source": [
    "# Ipython \n",
    "import matplotlib.pyplot as plt\n",
    "from sympy.physics.vector import init_vprinting\n",
    "from IPython.core.interactiveshell import InteractiveShell\n",
    "InteractiveShell.ast_node_interactivity = \"all\"\n",
    "get_ipython().run_line_magic('matplotlib', 'inline')\n",
    "get_ipython().run_line_magic('load_ext', 'autoreload')\n",
    "get_ipython().run_line_magic('autoreload', '2')\n",
    "init_vprinting(use_latex='mathjax', pretty_print=False)\n",
    "# Sympy\n",
    "import sympy as sp\n",
    "from sympy.physics.mechanics import dynamicsymbols\n",
    "from sympy.physics.mechanics import ReferenceFrame, Point, vlatex\n",
    "from sympy.physics.mechanics import inertia, RigidBody, KanesMethod\n",
    "from sympy import cos,sin,pi\n",
    "# YAMS\n",
    "from welib.yams.yams_sympy_tools import cleantex"
   ]
  },
  {
   "cell_type": "code",
   "execution_count": null,
   "metadata": {},
   "outputs": [],
   "source": [
    "# Main symbols\n",
    "psi = dynamicsymbols('psi')\n",
    "Jxx, Jyy, Jzz, Jxy, Jyz, Jzx  = sp.symbols('J_xx, J_yy, J_zz, J_xy, J_yz, J_zx')"
   ]
  },
  {
   "cell_type": "markdown",
   "metadata": {},
   "source": [
    "# Three bladed"
   ]
  },
  {
   "cell_type": "code",
   "execution_count": null,
   "metadata": {},
   "outputs": [],
   "source": [
    "# Defining coordinate systems / frames\n",
    "H  = ReferenceFrame('h')\n",
    "B1  = H.orientnew('b1', 'Axis', (psi       , H.x) )\n",
    "B2  = H.orientnew('b2', 'Axis', (psi+2*pi/3, H.x) )\n",
    "B3  = H.orientnew('b2', 'Axis', (psi+4*pi/3, H.x) )\n",
    "Origin = Point('O')"
   ]
  },
  {
   "cell_type": "code",
   "execution_count": null,
   "metadata": {},
   "outputs": [],
   "source": [
    "# --- Inertia\n",
    "JO_B1_p = inertia(B1, Jxx, Jyy, Jzz, Jxy, Jyz, Jzx)\n",
    "JO_B2_p = inertia(B2, Jxx, Jyy, Jzz, Jxy, Jyz, Jzx)\n",
    "JO_B3_p = inertia(B3, Jxx, Jyy, Jzz, Jxy, Jyz, Jzx)\n",
    "JO_B1_p.to_matrix(B1)\n",
    "JO_B1_p.to_matrix(H)\n",
    "#J_ = (JO_B1_p, Origin) # NOTE Origin is COG here\n",
    "#print('Gyro inertia,at gyro origin in gyro frame (rot and non rot)')\n",
    "#gyro_inertia_dyadic.to_matrix(gyro_frame_rot)\n",
    "#gyro_inertia_dyadic.to_matrix(gyro_frame_nonrot).simplify()"
   ]
  },
  {
   "cell_type": "code",
   "execution_count": null,
   "metadata": {},
   "outputs": [],
   "source": [
    "JO_Rot = JO_B1_p.to_matrix(H)+JO_B2_p.to_matrix(H)+JO_B3_p.to_matrix(H)\n",
    "JO_Rot = JO_Rot.simplify()\n",
    "JO_Rot"
   ]
  },
  {
   "cell_type": "code",
   "execution_count": null,
   "metadata": {},
   "outputs": [],
   "source": [
    "JO_Rot.subs(Jxy,0)"
   ]
  },
  {
   "cell_type": "code",
   "execution_count": null,
   "metadata": {},
   "outputs": [],
   "source": [
    "JO_Rot.subs(Jyz,0)"
   ]
  },
  {
   "cell_type": "code",
   "execution_count": null,
   "metadata": {},
   "outputs": [],
   "source": [
    "print(cleantex(vlatex(JO_B1_p.to_matrix(B1))))"
   ]
  },
  {
   "cell_type": "markdown",
   "metadata": {},
   "source": [
    "# Two bladed"
   ]
  },
  {
   "cell_type": "code",
   "execution_count": null,
   "metadata": {},
   "outputs": [],
   "source": [
    "# --- Two blades\n",
    "from sympy import nsimplify\n",
    "import numpy as np\n",
    "nB=2\n",
    "H  = ReferenceFrame('h')\n",
    "Origin = Point('O')\n",
    "JO_Rot=0\n",
    "for iB in range(nB):\n",
    "    # Frames\n",
    "    BB  = H.orientnew('b2', 'Axis', (psi+iB*2*pi/nB, H.x) )\n",
    "    #print(iB*2*np.pi/nB*180/np.pi)\n",
    "    # Tensors in Frame\n",
    "    JO_BB_p = inertia(BB, Jxx, Jyy, Jzz, Jxy, Jyz, Jzx)\n",
    "    if iB==0:\n",
    "        JO_Rot= JO_BB_p.to_matrix(H)\n",
    "    else:\n",
    "        JO_Rot+= JO_BB_p.to_matrix(H)\n",
    "#JO_B1_p.to_matrix(B1)\n",
    "#JO_B1_p.to_matrix(H)\n",
    "#JO_Rot = JO_B1_p.to_matrix(H)+JO_B2_p.to_matrix(H)\n",
    "JO_Rot = JO_Rot.simplify()\n",
    "JO_Rot\n",
    "nsimplify(JO_Rot.subs([(psi,pi/3+pi/99),(pi,np.pi)]),tolerance=1e-12)"
   ]
  },
  {
   "cell_type": "code",
   "execution_count": null,
   "metadata": {},
   "outputs": [],
   "source": [
    "JO_Rot.subs([(psi,pi/7),(pi,np.pi)]).simplify()"
   ]
  },
  {
   "cell_type": "code",
   "execution_count": null,
   "metadata": {},
   "outputs": [],
   "source": []
  }
 ],
 "metadata": {
  "kernelspec": {
   "display_name": "Python 3 (ipykernel)",
   "language": "python",
   "name": "python3"
  },
  "language_info": {
   "codemirror_mode": {
    "name": "ipython",
    "version": 3
   },
   "file_extension": ".py",
   "mimetype": "text/x-python",
   "name": "python",
   "nbconvert_exporter": "python",
   "pygments_lexer": "ipython3",
   "version": "3.9.9"
  }
 },
 "nbformat": 4,
 "nbformat_minor": 2
}
