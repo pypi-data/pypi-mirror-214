{
 "cells": [
  {
   "cell_type": "markdown",
   "metadata": {},
   "source": [
    "Rigid body dynamics and skew symmetric matrix"
   ]
  },
  {
   "cell_type": "code",
   "execution_count": null,
   "metadata": {},
   "outputs": [],
   "source": [
    "# Ipython \n",
    "import matplotlib.pyplot as plt\n",
    "from sympy.physics.vector import init_vprinting\n",
    "from IPython.core.interactiveshell import InteractiveShell\n",
    "InteractiveShell.ast_node_interactivity = \"all\"\n",
    "get_ipython().run_line_magic('matplotlib', 'inline')\n",
    "get_ipython().run_line_magic('load_ext', 'autoreload')\n",
    "get_ipython().run_line_magic('autoreload', '2')\n",
    "init_vprinting(use_latex='mathjax', pretty_print=False)\n",
    "# Sympy\n",
    "import sympy as sp\n",
    "from sympy.physics.mechanics import dynamicsymbols\n",
    "from sympy.physics.mechanics import ReferenceFrame, Point, vlatex\n",
    "from sympy.physics.mechanics import inertia, RigidBody, KanesMethod\n",
    "from sympy import cos,sin,pi\n",
    "# YAMS\n",
    "from welib.yams.yams_sympy_tools import cleantex, skew, colvec, cross"
   ]
  },
  {
   "cell_type": "code",
   "execution_count": null,
   "metadata": {},
   "outputs": [],
   "source": [
    "# Main symbols\n",
    "time=dynamicsymbols._t\n",
    "xG, yG, zG = dynamicsymbols('x_G, y_G, z_G')\n",
    "xA, yA, zA = dynamicsymbols('x_A, y_A, z_A')\n",
    "omx, omy, omz = dynamicsymbols('omega_x, omega_y, omega_z')\n",
    "Fx, Fy, Fz = sp.symbols('F_x, F_y, F_z')\n",
    "taux, tauy, tauz = sp.symbols('tau_x, tau_y, tau_z')\n",
    "rhox, rhoy, rhoz = sp.symbols('rho_x, rho_y, rho_z')\n",
    "ux, uy, uz = sp.symbols('u_x, u_y, u_z')\n",
    "\n",
    "Jxx, Jyy, Jzz, Jxy, Jyz, Jzx  = sp.symbols('J_xx, J_yy, J_zz, J_xy, J_yz, J_zx')"
   ]
  },
  {
   "cell_type": "markdown",
   "metadata": {},
   "source": [
    "# Skew symmetric matrix"
   ]
  },
  {
   "cell_type": "code",
   "execution_count": null,
   "metadata": {},
   "outputs": [],
   "source": [
    "# Skew matrix\n",
    "u = sp.Matrix([[ux], [uy], [uz]])\n",
    "S = skew(u)\n",
    "S\n",
    "S * S"
   ]
  },
  {
   "cell_type": "markdown",
   "metadata": {},
   "source": [
    "# 3d Rigid body dynamics"
   ]
  },
  {
   "cell_type": "code",
   "execution_count": null,
   "metadata": {},
   "outputs": [],
   "source": [
    "# --- Inertia\n",
    "H  = ReferenceFrame('h')\n",
    "JG_ = inertia(H, Jxx, Jyy, Jzz, Jxy, Jyz, Jzx)\n",
    "JG = JG_.to_matrix(H)\n",
    "O = Point('O')\n",
    "G = Point('G')\n",
    "JG"
   ]
  },
  {
   "cell_type": "code",
   "execution_count": null,
   "metadata": {},
   "outputs": [],
   "source": [
    "rG = colvec((xG, yG, zG))\n",
    "rA = colvec((xA, yA, zA))\n",
    "om = colvec((omx, omy, omz))\n",
    "omd=sp.diff(om,time)\n",
    "rho = colvec((rhox, rhoy, rhoz))\n",
    "tau = colvec((taux, tauy, tauz))\n",
    "F   = colvec((Fx, Fy, Fz))\n",
    "Som = skew(om)\n",
    "omd\n",
    "\n",
    "Som * JG * om\n",
    "\n",
    "Som * Som * rho\n",
    "\n",
    "cross(rho, F)\n",
    "\n",
    "# Kinematics\n",
    "vG = sp.diff(rG, time, 1)\n",
    "vA = sp.diff(rA, time, 1)\n",
    "vA_= vG - Som * rho\n",
    "vG_= vA + Som * rho\n",
    "aG = sp.diff(rG, time, 2)\n",
    "aA = sp.diff(rA, time, 2)\n",
    "aA_ = aG + skew(rho) * omd - Som * Som * rho\n",
    "aG_ = aA - skew(rho) * omd + Som * Som * rho\n",
    "print('Velocity and acceleration of COG as function of values at point A')\n",
    "vG_\n",
    "aG_\n"
   ]
  },
  {
   "cell_type": "markdown",
   "metadata": {},
   "source": [
    "# Planar dynamics"
   ]
  },
  {
   "cell_type": "code",
   "execution_count": null,
   "metadata": {},
   "outputs": [],
   "source": [
    "Subs2D = [(rhoz, 0),(omx, 0), (omy, 0), (Jxy,0), (Jyz,0), (Jzx,0), (taux,0), (tauy,0), (Fz,0)]\n",
    "Subs2D += [(omd[0], 0),(omd[1], 0), (aA[2],0), (vA[2],0), (omz,dynamicsymbols('omega'))]"
   ]
  },
  {
   "cell_type": "code",
   "execution_count": null,
   "metadata": {},
   "outputs": [],
   "source": [
    "(Som * JG * om).subs(Subs2D)\n",
    "(Som * Som * rho ).subs(Subs2D)\n",
    "(colvec(cross(rho, F))).subs(Subs2D)\n",
    "(skew(rho) * skew(rho)).subs(Subs2D)\n",
    "print('Velocity and acceleration of COG as function of values at point A')\n",
    "vG_2D_ = sp.simplify(vG_.subs(Subs2D))\n",
    "aG_2D_ = sp.simplify(aG_.subs(Subs2D))\n",
    "vG_2D_\n",
    "aG_2D_"
   ]
  },
  {
   "cell_type": "code",
   "execution_count": null,
   "metadata": {},
   "outputs": [],
   "source": [
    "print(cleantex(vG_2D_))\n",
    "print(cleantex(aG_2D_))"
   ]
  },
  {
   "cell_type": "code",
   "execution_count": null,
   "metadata": {},
   "outputs": [],
   "source": [
    "Subs2Dxz = [(rhoy, 0),(omx, 0), (omz, 0), (Jxy,0), (Jyz,0), (Jzx,0), (taux,0), (tauz,0), (Fy,0)]\n",
    "Subs2Dxz += [(omd[0], 0),(omd[2], 0), (aA[1],0), (vA[1],0), (omy,dynamicsymbols('omega'))]\n",
    "Subs2Dxz"
   ]
  },
  {
   "cell_type": "code",
   "execution_count": null,
   "metadata": {},
   "outputs": [],
   "source": [
    "(Som * JG * om).subs(Subs2Dxz)\n",
    "(Som * Som * rho ).subs(Subs2Dxz)\n",
    "(colvec(cross(rho, F))).subs(Subs2Dxz)\n",
    "(skew(rho) * skew(rho)).subs(Subs2Dxz)\n",
    "print('Velocity and acceleration of COG as function of values at point A')\n",
    "vG_2D_ = sp.simplify(vG_.subs(Subs2Dxz))\n",
    "aG_2D_ = sp.simplify(aG_.subs(Subs2Dxz))\n",
    "vG_2D_\n",
    "aG_2D_"
   ]
  }
 ],
 "metadata": {
  "kernelspec": {
   "display_name": "Python 3 (ipykernel)",
   "language": "python",
   "name": "python3"
  },
  "language_info": {
   "codemirror_mode": {
    "name": "ipython",
    "version": 3
   },
   "file_extension": ".py",
   "mimetype": "text/x-python",
   "name": "python",
   "nbconvert_exporter": "python",
   "pygments_lexer": "ipython3",
   "version": "3.9.9"
  }
 },
 "nbformat": 4,
 "nbformat_minor": 2
}
