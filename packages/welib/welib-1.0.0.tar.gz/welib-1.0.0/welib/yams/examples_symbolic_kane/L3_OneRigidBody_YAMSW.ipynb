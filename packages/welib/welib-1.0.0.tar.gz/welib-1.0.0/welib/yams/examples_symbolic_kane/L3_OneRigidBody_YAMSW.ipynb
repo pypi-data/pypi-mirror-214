{
 "cells": [
  {
   "cell_type": "code",
   "execution_count": null,
   "metadata": {},
   "outputs": [],
   "source": [
    "# Ipython\n",
    "from sympy.physics.vector import init_vprinting\n",
    "from IPython.core.interactiveshell import InteractiveShell\n",
    "InteractiveShell.ast_node_interactivity = \"all\"\n",
    "get_ipython().run_line_magic('matplotlib', 'inline')\n",
    "get_ipython().run_line_magic('load_ext', 'autoreload')\n",
    "get_ipython().run_line_magic('autoreload', '2')\n",
    "init_vprinting(use_latex='mathjax', pretty_print=False)\n",
    "# yams\n",
    "from welib.yams.models.OneRigidBody_sympy import *  # get_model_one_body, x, phi_x, xd, omega_x, x_BG, Jxx_B, M_B, etc\n",
    "from welib.yams.yams_sympy_tools import *\n",
    "from welib.yams.yams_sympy_model import *"
   ]
  },
  {
   "cell_type": "code",
   "execution_count": null,
   "metadata": {},
   "outputs": [],
   "source": [
    "exprHasFunction(x);\n",
    "x\n",
    "\n",
    "y\n",
    "z\n"
   ]
  },
  {
   "cell_type": "code",
   "execution_count": null,
   "metadata": {},
   "outputs": [],
   "source": [
    "model = get_model_one_body('B100010', linRot=False, orderMM=1, orderH=1, \n",
    "                           J_cross=False, CG_on_z=True, J_at_Origin=True)\n",
    "body = model.body\n",
    "ref  = model.ref\n",
    "z_BB= symbols('z_BB')\n",
    "z_BM= symbols('z_BM')\n",
    "z_B0= symbols('z_B0')\n",
    "K_Mx, K_My, K_Mz          = symbols('K_x_M, K_y_M, K_z_M') # Mooring restoring\n",
    "K_Mphix, K_Mphiy, K_Mphiz = symbols('K_phi_x_M, K_phi_y_M, K_phi_z_M') # Mooring restoring\n",
    "C_Mx, C_My, C_Mz          = symbols('C_x_M, C_y_M, C_z_M') # Mooring restoring\n",
    "C_Mphix, C_Mphiy, C_Mphiz = symbols('C_phi_x_M, C_phi_y_M, C_phi_z_M') # Mooring restoring\n",
    "# Buoyancy force\n",
    "P_B = body.origin.locatenew('P_B', z_BB * body.frame.z) # <<<< Measured from T\n",
    "P_M = body.origin.locatenew('P_M', z_BM * body.frame.z) # <<<< Measured from T\n",
    "P_0 = body.origin.locatenew('P_0', z_B0 * body.frame.z) # <<<< Measured from T\n",
    "P_O = body.origin\n",
    "#P_B = body.origin\n",
    "P_M = body.origin\n",
    "#F_B = Function('F_B')(dynamicsymbols._t, phi_y)\n",
    "F_B = dynamicsymbols('F_B') # Buoyancy force, function to time\n",
    "#F_B = Function('F_B')(dynamicsymbols._t, phi_y)\n",
    "model.addForce(body,  P_B,        F_B * ref.frame.z)\n",
    "\n",
    "#P_B = body.origin\n",
    "P_M = body.origin\n",
    "F_hx = dynamicsymbols('F_hx') # Buoyancy force, function to time \n",
    "F_hy = dynamicsymbols('F_hy') # Buoyancy force, function to time \n",
    "F_hz = dynamicsymbols('F_hz') # Buoyancy force, function to time \n",
    "M_hx = dynamicsymbols('M_hx') # Buoyancy force, function to time \n",
    "M_hy = dynamicsymbols('M_hy') # Buoyancy force, function to time \n",
    "M_hz = dynamicsymbols('M_hz') # Buoyancy force, function to time \n",
    "\n",
    "model.addForce(body,  P_0,        F_hx * ref.frame.x + F_hy * ref.frame.y + F_hz * ref.frame.z)\n",
    "model.addMoment(body, body.frame, M_hx * ref.frame.x + M_hy * ref.frame.y + M_hz * ref.frame.z)\n",
    "\n",
    "addRestoring=True\n",
    "fr=0; Mr=0;\n",
    "if addRestoring:\n",
    "    fr += -K_Mx * x *ref.frame.x #if bDOFs[0] else 0\n",
    "    fr += -K_My * y *ref.frame.y #if bDOFs[1] else 0\n",
    "    fr += -K_Mz * z *ref.frame.z #if bDOFs[2] else 0\n",
    "    fr += -C_Mx * x.diff(dynamicsymbols._t) *ref.frame.x #if bDOFs[0] else 0\n",
    "    fr += -C_My * y.diff(dynamicsymbols._t) *ref.frame.y #if bDOFs[1] else 0\n",
    "    fr += -C_Mz * z.diff(dynamicsymbols._t) *ref.frame.z #if bDOFs[2] else 0\n",
    "    Mr += -K_Mphix * phi_x *ref.frame.x #if bDOFs[3] else 0\n",
    "    Mr += -K_Mphiy * phi_y *ref.frame.y #if bDOFs[4] else 0\n",
    "    Mr += -K_Mphiz * phi_z *ref.frame.z #if bDOFs[5] else 0\n",
    "    Mr += -C_Mphix * phi_x.diff(dynamicsymbols._t) *ref.frame.x #if bDOFs[3] else 0\n",
    "    Mr += -C_Mphiy * phi_y.diff(dynamicsymbols._t) *ref.frame.y #if bDOFs[4] else 0\n",
    "    Mr += -C_Mphiz * phi_z.diff(dynamicsymbols._t) *ref.frame.z #if bDOFs[5] else 0\n",
    "    model.addForce(body, P_M,  fr)\n",
    "    model.addMoment(body, body.frame, Mr)\n",
    "\n",
    "model.kdeqsSubs\n",
    "model.coordinates\n",
    "#model.body.inertia= (inertia(model.body.frame, J_O, J_O, J_zz), model.body.origin)\n",
    "# --- Compute Kane's equations of motion\n",
    "print('>>> Computing equations of motion...')\n",
    "model.kaneEquations(Mform='TaylorExpanded')\n",
    "extraSubs=[]\n",
    "#extraSubs+=[(omega_z,0),(omega_x,0)]\n",
    "extraSubs+=[(omega_x,0)]\n",
    "print('Extra Subs:')\n",
    "extraSubs\n",
    "#EOM = model.to_EOM(extraSubs=extraSubs)\n",
    "#EOM.mass_forcing_form()\n",
    "#EOM.EOM\n",
    "#EOM.M\n",
    "#EOM.F\n",
    "#EOM.linearize()\n",
    "#print(EOM)\n",
    "#EOM.(extraSubs=extraSubs)\n",
    "#print(forcingToPy(EOM.q, EOM.F))\n",
    "#print(EOM.toPython()) #extraSubs=extraSubs))\n",
    "#model.linearize(noAcc=True, extraSubs=extraSubs)\n",
    "#model.smallAngleSaveTex(folder='./_tex',prefix='test',variables=['MM','FF','M','C','K','B'])\n",
    "#model.savePython(folder='./_py',prefix='test',variables=['MM','FF','M','C','K','B'], extraSubs=extraSubs)"
   ]
  },
  {
   "cell_type": "code",
   "execution_count": null,
   "metadata": {},
   "outputs": [],
   "source": [
    "#model.exportPackage('_pkg')\n",
    "x_B, z_B = symbols('x_B, z_B')\n",
    "P_IMU = body.origin.locatenew('P_IMU', x_B * body.frame.x + z_B * body.frame.z) \n",
    "P_IMU = body.origin.locatenew('P_IMU', z_B * body.frame.z) \n",
    "#model.addPoint(P_IMU)\n",
    "tilt=symbols('theta_t')\n",
    "\n",
    "shaft_frame = ReferenceFrame('e_s')\n",
    "shaft_frame.orient(body.frame, 'Body', (0,tilt,0), 'XYZ') \n",
    "\n",
    "\n",
    "\n",
    "P_IMU.pos_from(ref\n",
    "               .origin)\n",
    "P_IMU.vel(ref.frame)\n",
    "P_IMU.acc(ref.frame)\n",
    "P_IMU.acc(ref.frame).express(ref.frame)\n",
    "P_IMU.acc(ref.frame).express(body.frame)\n",
    "P_IMU.acc(ref.frame).express(shaft_frame)"
   ]
  },
  {
   "cell_type": "code",
   "execution_count": null,
   "metadata": {},
   "outputs": [],
   "source": [
    "acc,accJac,Ma,Ca,Ka = model.computePointsMotion(noPosInJac=False)\n",
    "Ma\n",
    "Ca\n",
    "Ka\n",
    "accJac\n",
    "#body.R_b2g\n",
    "#body.omega_inertial\n",
    "#model.computeBodiesMotion()"
   ]
  },
  {
   "cell_type": "code",
   "execution_count": null,
   "metadata": {},
   "outputs": [],
   "source": [
    "from welib.yams.yams_sympy_tools import cleanPy, myjacobian\n",
    "\n",
    "s0, params, inputs, sdofs = cleanPy(acc, dofs=model.q)\n",
    "s0"
   ]
  },
  {
   "cell_type": "code",
   "execution_count": null,
   "metadata": {},
   "outputs": [],
   "source": [
    "model.exportPackage('_pkg')"
   ]
  },
  {
   "cell_type": "code",
   "execution_count": null,
   "metadata": {},
   "outputs": [],
   "source": [
    "P_0.acc(ref.frame)\n",
    "P_O.acc(ref.frame)\n",
    "P_0.vel(ref.frame)\n",
    "P_O.vel(ref.frame)\n",
    "\n",
    "P_0.pos_from(ref.origin)\n",
    "P_0.pos_from(P_O)\n",
    "P_0.pos_from(P_O).express(ref.frame)\n",
    "P_O.pos_from(ref.origin)"
   ]
  },
  {
   "cell_type": "code",
   "execution_count": null,
   "metadata": {},
   "outputs": [],
   "source": [
    "# --- Linearization of equation of motions\n",
    "model.linearize(extraSubs=extraSubs, noVel=False)\n",
    "\n",
    "model.M0\n",
    "model.K0\n",
    "model.C0\n",
    "model.B0\n",
    "model.var\n"
   ]
  },
  {
   "cell_type": "code",
   "execution_count": null,
   "metadata": {},
   "outputs": [],
   "source": [
    "model.smallAngleApproxEOM([phi_x, phi_y, phi_z],order=1)\n",
    "model.smallAngleLinearize(noVel=True)\n",
    "model._sa_M\n",
    "model._sa_K\n",
    "model._sa_C\n",
    "model._sa_B"
   ]
  },
  {
   "cell_type": "code",
   "execution_count": null,
   "metadata": {},
   "outputs": [],
   "source": [
    "model.K0\n",
    "#cleanPy(EOM.EOM, dofs=EOM.q, method='subs')\n",
    "#cleanPy(EOM.EOM, dofs=EOM.q, method='string')\n",
    "#EOM.EOM\n"
   ]
  },
  {
   "cell_type": "code",
   "execution_count": null,
   "metadata": {},
   "outputs": [],
   "source": [
    "bd=model.body\n",
    "ref=model.ref\n",
    "#bd.masscenter_pos_global\n",
    "#bd.masscenter_pos_global.express(ref.frame).subs(extraSubs)\n",
    "#bd.R_b2g\n",
    "bd.masscenter.vel(ref.frame)\n",
    "#forcing\n",
    "bd.frame.ang_vel_in(ref.frame)\n",
    "#:bd.origin.vel(ref.frame)\n",
    "#bd.frame.set_ang_vel(ref.frame, omega_x * e_T.x + omega_y * e_T.y  + omega_z * e_T.z)\n",
    "#v=bd.masscenter.v2pt_theory(bd.origin, ref.frame, bd.frame) # GN & T are fixed in e_T\n",
    "#v.simplify()\n",
    "bd.inertia"
   ]
  },
  {
   "cell_type": "code",
   "execution_count": null,
   "metadata": {},
   "outputs": [],
   "source": [
    "#from sympy import trigsimp\n",
    "#mass_matrix = trigsimp(model.kane.mass_matrix)\n",
    "#forcing = trigsimp(model.kane.forcing)"
   ]
  },
  {
   "cell_type": "code",
   "execution_count": null,
   "metadata": {},
   "outputs": [],
   "source": [
    "# --- Getting EOM as function of coordinates and not omega\n",
    "#model.kane.frstar\n",
    "#model.kane.fr\n",
    "#model.EOM\n",
    "#model.body.inertia_matrix\n",
    "#model.body.origin_inertia\n",
    "vel=[diff(c,time) for c in model.coordinates]\n",
    "acc=[diff(diff(c,time),time) for c in model.coordinates]\n",
    "# --- Extract Mass Matrix and RHS from EOM\n",
    "MM = - myjacobian(model.EOM(),acc)\n",
    "MM\n",
    "EOM =  model.EOM()# .doit().expand() # NOTE: doit is important\n",
    "RHS = (MM * Matrix(acc) + model.EOM()).expand()\n",
    "RHS = RHS.expand()\n",
    "RHS\n",
    "\n",
    "EOM = model.to_EOM()\n",
    "print(EOM)\n",
    "EOM.EOM\n",
    "\n",
    "#MM_s = insertQQd(MM, coordinates)\n",
    "#RHS_s = insertQQd(RHS, coordinates)\n",
    "#\n",
    "#CG = pend_COG.pos_from(Origin).to_matrix(inertial_frame)\n",
    "#omega_loc = omega.to_matrix(pend_frame).simplify()"
   ]
  },
  {
   "cell_type": "code",
   "execution_count": null,
   "metadata": {},
   "outputs": [],
   "source": [
    "model.kane.frstar\n",
    "model.kane.mass_matrix_full\n",
    "ff=model.kane.forcing_full\n",
    "ff.simplify()\n",
    "ff\n",
    "#mass_matrix\n",
    "#forcing"
   ]
  },
  {
   "cell_type": "code",
   "execution_count": null,
   "metadata": {},
   "outputs": [],
   "source": [
    "# --- Full system mass matrix\n",
    "#print(model.kane.mass_matrix.subs(extraSubs))"
   ]
  },
  {
   "cell_type": "code",
   "execution_count": null,
   "metadata": {},
   "outputs": [],
   "source": [
    "# --- Small angle approximation mass matrix\n",
    "#model._sa_mass_matrix"
   ]
  },
  {
   "cell_type": "code",
   "execution_count": null,
   "metadata": {},
   "outputs": [],
   "source": [
    "#model.kane.forcing.subs(extraSubs)\n",
    "#print(forcing)"
   ]
  },
  {
   "cell_type": "code",
   "execution_count": null,
   "metadata": {},
   "outputs": [],
   "source": [
    "# --- Full system Forcing  RHS)\n",
    "#model.kane.forcing.subs(extraSubs).subs(model.kdeqsSubs)"
   ]
  },
  {
   "cell_type": "code",
   "execution_count": null,
   "metadata": {},
   "outputs": [],
   "source": [
    "# --- Small angle approximation forcing\n",
    "model._sa_forcing"
   ]
  },
  {
   "cell_type": "code",
   "execution_count": null,
   "metadata": {},
   "outputs": [],
   "source": [
    "# --- Equation of motions\n",
    "#EOM=(model.fr+model.frstar).subs(model.kdeqsSubs)"
   ]
  },
  {
   "cell_type": "code",
   "execution_count": null,
   "metadata": {},
   "outputs": [],
   "source": [
    "# --- Small angle Equation of motions\n",
    "#model.smallAngleApproxEOM(model.smallAngles, extraSubs)\n",
    "#model.EOM\n"
   ]
  },
  {
   "cell_type": "code",
   "execution_count": null,
   "metadata": {},
   "outputs": [],
   "source": []
  },
  {
   "cell_type": "code",
   "execution_count": null,
   "metadata": {},
   "outputs": [],
   "source": [
    "# --- display some info about bodies\n",
    "model.body\n",
    "#twr.bodyMassMatrix()"
   ]
  },
  {
   "cell_type": "code",
   "execution_count": null,
   "metadata": {},
   "outputs": [],
   "source": []
  }
 ],
 "metadata": {
  "kernelspec": {
   "display_name": "Python 3 (ipykernel)",
   "language": "python",
   "name": "python3"
  },
  "language_info": {
   "codemirror_mode": {
    "name": "ipython",
    "version": 3
   },
   "file_extension": ".py",
   "mimetype": "text/x-python",
   "name": "python",
   "nbconvert_exporter": "python",
   "pygments_lexer": "ipython3",
   "version": "3.9.9"
  }
 },
 "nbformat": 4,
 "nbformat_minor": 2
}
