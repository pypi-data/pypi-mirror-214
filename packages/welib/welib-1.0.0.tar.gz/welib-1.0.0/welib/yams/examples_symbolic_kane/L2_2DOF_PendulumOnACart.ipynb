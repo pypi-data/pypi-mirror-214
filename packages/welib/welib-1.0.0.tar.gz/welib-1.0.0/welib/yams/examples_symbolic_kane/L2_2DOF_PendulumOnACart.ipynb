{
 "cells": [
  {
   "cell_type": "code",
   "execution_count": null,
   "metadata": {},
   "outputs": [],
   "source": [
    "# IPython and standard packages\n",
    "import numpy as np\n",
    "import matplotlib.pyplot as plt\n",
    "from sympy.physics.vector import init_vprinting\n",
    "from IPython.core.interactiveshell import InteractiveShell\n",
    "from IPython.display import display, HTML\n",
    "display(HTML(\"<style>.container { width:98% !important; }</style>\"))\n",
    "InteractiveShell.ast_node_interactivity = \"all\"\n",
    "get_ipython().run_line_magic('matplotlib', 'inline')\n",
    "get_ipython().run_line_magic('load_ext', 'autoreload')\n",
    "get_ipython().run_line_magic('autoreload', '2')\n",
    "init_vprinting(use_latex='mathjax', pretty_print=False)\n",
    "%matplotlib inline\n",
    "# Sympy\n",
    "import sympy as sp\n",
    "from sympy.physics.mechanics import dynamicsymbols\n",
    "# Yams sympy\n",
    "from welib.yams.yams_sympy       import YAMSRigidBody, YAMSInertialBody, YAMSFlexibleBody\n",
    "from welib.yams.yams_sympy_model import YAMSModel"
   ]
  },
  {
   "cell_type": "markdown",
   "metadata": {},
   "source": [
    "# Inverted (rod) pendulum on a cart"
   ]
  },
  {
   "cell_type": "markdown",
   "metadata": {},
   "source": [
    " Point pendulum\n",
    " \n",
    "```\n",
    " Coordinate system:\n",
    " \n",
    "      \n",
    "^ y     __   pendulum of mass m_p length l\n",
    "|       \\ \\   \n",
    "|        \\ \\  \n",
    "|         \\ \\~|  angle theta positive about z\n",
    "|   - c -  \\_\\|\n",
    "O-- - k - --[ C ] -------> x \n",
    "            cart of mass m_c\n",
    "```"
   ]
  },
  {
   "cell_type": "code",
   "execution_count": null,
   "metadata": {},
   "outputs": [],
   "source": [
    "mp, mc, k, c, kp, cp, l = sp.symbols('m_p, m_c, k, c, k_p, c_p, l')\n",
    "gravity = sp.symbols('g')\n",
    "J_G = sp.symbols('J_G')\n",
    "J_O = sp.symbols('J_O')\n",
    "time = dynamicsymbols._t\n",
    "x, theta = dynamicsymbols('x,theta')\n",
    "xd, thetad = dynamicsymbols('xd,thetad')\n",
    "Fx = dynamicsymbols('F_x')"
   ]
  },
  {
   "cell_type": "code",
   "execution_count": null,
   "metadata": {},
   "outputs": [],
   "source": [
    "# --- Bodies, rigid body with COG displaced by d\n",
    "ref = YAMSInertialBody('E') \n",
    "cart = YAMSRigidBody('C', mass=mc, rho_G=(0,0,0))\n",
    "pend = YAMSRigidBody('P', mass=mp, rho_G=(0,l/2,0), J_G =(0,0,J_G)) # NOTE: Inertia defined at COG by default. \n",
    "bodies=[cart, pend] \n",
    "# --- Connections\n",
    "ref.connectTo(cart, type='Free', rel_pos=(x, 0, 0))\n",
    "cart.connectTo(pend, type='Joint', rel_pos=(0, 0, 0), rot_type='Body', rot_amounts=(0,0,theta), rot_order='XYZ')\n",
    "# --- DOFs and kinetic equations\n",
    "coordinates = [x,theta]\n",
    "speeds      = [xd,thetad]\n",
    "kdeqsSubs = []\n",
    "for q,qd in zip(coordinates, speeds):\n",
    "    kdeqsSubs += [(qd, sp.diff(q, time))]\n",
    "# --- Loads\n",
    "body_loads = []\n",
    "for bdy in bodies: # gravity\n",
    "    body_loads  += [(bdy, (bdy.masscenter, -bdy.mass * gravity * ref.frame.y))] # Watch out for convention here\n",
    "body_loads += [(cart, (cart.masscenter,  - k * x * cart.frame.x - c * sp.diff(x,time) * cart.frame.x))] # stiffness/damping on chard\n",
    "body_loads += [(cart, (cart.masscenter,  Fx * cart.frame.x))] # control/exteral force\n",
    "body_loads += [(pend, (pend.frame,  -kp * theta * ref.frame.z - cp * sp.diff(theta,time) * ref.frame.z))] # stiffness/damping on pendulum\n",
    "\n",
    "\n",
    "# --- Model and equations of motions\n",
    "model = YAMSModel(ref=ref, bodies=bodies, body_loads=body_loads, \n",
    "                  coordinates=coordinates, speeds=speeds, kdeqsSubs=kdeqsSubs)\n",
    "EOM=model.to_EOM()\n",
    "print('Equations of motions')\n",
    "EOM.EOM\n",
    "EOM.mass_forcing_form()\n",
    "print('Mass matrix:')\n",
    "EOM.M\n",
    "print('Forcing term:')\n",
    "EOM.F\n",
    "\n",
    "# --- KANE\n",
    "print('Kanes full mass matrix')\n",
    "MM = model.kane.mass_matrix_full\n",
    "MM.simplify()\n",
    "MM\n",
    "print('Kanes full forcing')\n",
    "FF = model.kane.forcing_full\n",
    "FF.simplify()\n",
    "FF"
   ]
  },
  {
   "cell_type": "code",
   "execution_count": null,
   "metadata": {},
   "outputs": [],
   "source": [
    "# --- Simulation\n",
    "vtime =  np.linspace(0.0, 15, 200)\n",
    "u = {Fx:0}\n",
    "p = {mc:20., mp:10., l:15, J_G:10, c:0, k:0, kp:0.0, cp:0.0, gravity:9.81}\n",
    "q0 = {theta: 30*np.pi/180, x:0}\n",
    "y = model.integrate(vtime, q0, p, u=u, M=MM, F=FF)\n",
    "plt.plot(vtime, y);\n",
    "plt.xlabel('Time [s]');\n",
    "plt.legend([\"${}$\".format(sp.latex(c)) for c in model.q_full]);"
   ]
  },
  {
   "cell_type": "code",
   "execution_count": null,
   "metadata": {},
   "outputs": [],
   "source": [
    "# --- Visualize simulation\n",
    "cart.viz_opts={'type':'box','width':3., 'height':1., 'depth':0.3, 'color':'blue'}\n",
    "pend.viz_opts={'type':'cylinder','radius':0.1, 'length':l,'normal':'y', 'color':'white'}\n",
    "scene = model.getScene(rp=0.2, al=1)\n",
    "scene.display()\n",
    "#display(scene.display_jupyter()) # jupyter lab\n",
    "#scene.display_ipython(); HTML(scene._html_widget.value)\n"
   ]
  }
 ],
 "metadata": {
  "kernelspec": {
   "display_name": "Python 3 (ipykernel)",
   "language": "python",
   "name": "python3"
  },
  "language_info": {
   "codemirror_mode": {
    "name": "ipython",
    "version": 3
   },
   "file_extension": ".py",
   "mimetype": "text/x-python",
   "name": "python",
   "nbconvert_exporter": "python",
   "pygments_lexer": "ipython3",
   "version": "3.9.9"
  }
 },
 "nbformat": 4,
 "nbformat_minor": 2
}
