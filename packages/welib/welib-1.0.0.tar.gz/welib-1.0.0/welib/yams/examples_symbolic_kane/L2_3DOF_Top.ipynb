{
 "cells": [
  {
   "cell_type": "markdown",
   "metadata": {},
   "source": [
    "Equations of motion for a Top, \"z\" is the axis about which the body rotates. \n",
    "Euler angles (ZXZ) are used. \n",
    "\n",
    "\n",
    "```\n",
    "  R (m, J_G)\n",
    "   \\     \n",
    "    \\  r  (along z_b)\n",
    "     \\  \n",
    "      O\n",
    "```"
   ]
  },
  {
   "cell_type": "code",
   "execution_count": null,
   "metadata": {},
   "outputs": [],
   "source": [
    "# IPython and standard packages\n",
    "import numpy as np\n",
    "import matplotlib.pyplot as plt\n",
    "from sympy.physics.vector import init_vprinting\n",
    "from IPython.core.interactiveshell import InteractiveShell\n",
    "from IPython.display import display, HTML\n",
    "display(HTML(\"<style>.container { width:98% !important; }</style>\"))\n",
    "InteractiveShell.ast_node_interactivity = \"all\"\n",
    "get_ipython().run_line_magic('matplotlib', 'inline')\n",
    "get_ipython().run_line_magic('load_ext', 'autoreload')\n",
    "get_ipython().run_line_magic('autoreload', '2')\n",
    "init_vprinting(use_latex='mathjax', pretty_print=False)\n",
    "%matplotlib inline\n",
    "# Sympy\n",
    "import sympy as sp\n",
    "from sympy.physics.mechanics import dynamicsymbols\n",
    "# Yams sympy\n",
    "from welib.yams.yams_sympy       import YAMSRigidBody, YAMSInertialBody, YAMSFlexibleBody\n",
    "from welib.yams.yams_sympy_model import YAMSModel\n"
   ]
  },
  {
   "cell_type": "code",
   "execution_count": null,
   "metadata": {},
   "outputs": [],
   "source": [
    "# --- Main symbols\n",
    "theta, phi, psi = dynamicsymbols('theta, phi, psi')\n",
    "omegax, omegay, omegaz = dynamicsymbols('omega_x, omega_y, omega_z')\n",
    "Mx, My, Mz = dynamicsymbols('M_x, M_y, M_z') # Torques on Top\n",
    "theta0, phi0, Ktheta, Kphi = sp.symbols('theta_0, phi_0, K_theta, K_phi') # Restoring forces\n",
    "r = sp.symbols('r')\n",
    "m = sp.symbols('m')\n",
    "gravity = sp.symbols('g') # Gravity\n",
    "time = dynamicsymbols._t\n",
    "Jxx, Jyy, Jzz, JO, JG = sp.symbols('Jxx, Jyy, Jzz, J_O, J_G')"
   ]
  },
  {
   "cell_type": "code",
   "execution_count": null,
   "metadata": {},
   "outputs": [],
   "source": [
    "# --- Options\n",
    "BodyStartAtO=False\n",
    "InertiaAtO=True\n",
    "# --- Bodies and connections\n",
    "ref = YAMSInertialBody('E') \n",
    "if BodyStartAtO:\n",
    "    # --- OPTION 1: the body is at the origin, but we specify that the COG is at \"R\"\n",
    "    if InertiaAtO:\n",
    "        body = YAMSRigidBody('B', mass=m, J_G=(JO,JO,Jzz), rho_G=(0,0,r), J_at_Origin=True) # Create a body named \"B\"\n",
    "    else:        \n",
    "        body = YAMSRigidBody('B', mass=m, J_G=(JG,JG,Jzz), rho_G=(0,0,r), J_at_Origin=False) # Create a body named \"B\"\n",
    "    ref.connectTo(body, type='Free', rel_pos=(0, 0, 0), rot_type='Body', rot_amounts=(phi,  theta, psi), rot_order='ZXZ')\n",
    "else:\n",
    "    # --- OPTION 2: the body is at \"r\" away from the origin\n",
    "    if InertiaAtO:\n",
    "        body = YAMSRigidBody('B', mass=m, J_G=(JO-m*r**2,JO-m*r**2,Jzz), rho_G=(0,0,0)) # Create a body named \"B\"\n",
    "    else:\n",
    "        body = YAMSRigidBody('B', mass=m, J_G=(JG,JG,Jzz), rho_G=(0,0,0)) # Create a body named \"B\"\n",
    "    ref.connectTo(body, type='Free', rel_pos_b=(0, 0, r), rot_type='Body', rot_amounts=(phi,  theta, psi), rot_order='ZXZ')\n",
    "bodies=[body] \n",
    "# --- Frames (to define loads)\n",
    "gyro_frame_nonrot= ref.frame.orientnew('nr', 'Body', (phi,  theta, 0), 'ZXZ') # phi=yaw, theta=tilt\n",
    "gyro_frame       = ref.frame.orientnew('r',  'Body', (phi,  theta, psi), 'ZXZ')\n",
    "# --- DOFs and kinetic equations\n",
    "coordinates = [phi, theta, psi]\n",
    "speeds      = [omegax, omegay, omegaz]\n",
    "kdeqsSubs = body.kdeqsSubsOmega((omegax,omegay,omegaz), ref_frame=ref.frame, out_frame=body.frame)\n",
    "kdeqs = [om_symb-om_value for om_symb,om_value in kdeqsSubs]\n",
    "print('coordinates:');coordinates\n",
    "print('kdeqsSubs  :'); kdeqsSubs\n",
    "# --- Reinserting kinetic equations \n",
    "body.update_ang_vel((omegax,omegay,omegaz), ref_frame=ref.frame, out_frame=body.frame)"
   ]
  },
  {
   "cell_type": "code",
   "execution_count": null,
   "metadata": {},
   "outputs": [],
   "source": [
    "# --- DEBUG print\n",
    "#body.frame.ang_vel_in(body.inertial_frame).express(body.inertial_frame).subs(kdeqsSubs).simplify()\n",
    "#body.printPosVel(kdeqsSubs=kdeqsSubs)\n",
    "#body.central_inertia.to_matrix(body.frame)"
   ]
  },
  {
   "cell_type": "code",
   "execution_count": null,
   "metadata": {},
   "outputs": [],
   "source": [
    "# --- Loads\n",
    "body_loads = []\n",
    "for bdy in bodies: # gravity\n",
    "    body_loads  += [(bdy, (bdy.masscenter, -bdy.mass * gravity * ref.frame.z))]\n",
    "print('TODO FIGURE OUT IN WHICH FRAME MOMENTS ARE APPLIED')\n",
    "body_loads += [(body, (body.frame, Mx * gyro_frame_nonrot.x + My * gyro_frame_nonrot.y + Mz * body.frame.z))] # ext torques\n",
    "body_loads += [(body, (body.frame, -Ktheta*(theta-theta0) * gyro_frame_nonrot.x ))]\n",
    "body_loads += [(body, (body.frame, -Kphi*(phi-phi0) * ref.frame.z))]\n",
    "# --- Model and equations of motions\n",
    "model = YAMSModel(ref=ref, bodies=bodies, body_loads=body_loads, \n",
    "                  coordinates=coordinates, speeds=speeds, kdeqsSubs=kdeqsSubs)\n",
    "model.kaneEquations()\n",
    "print('fr')\n",
    "fr=model.kane.fr\n",
    "fr.simplify()\n",
    "fr\n",
    "print('frstar')\n",
    "model.kane.frstar\n",
    "print('Kanes full coordiantes')\n",
    "model.q_full\n",
    "print('Kanes full mass matrix')\n",
    "MM = model.kane.mass_matrix_full\n",
    "MM.simplify()\n",
    "MM\n",
    "print('Kanes full forcing')\n",
    "FF = model.kane.forcing_full\n",
    "FF.simplify()\n",
    "FF\n",
    "#print('Equations of motions')\n",
    "#EOM=model.to_EOM()\n",
    "#EOM.EOM\n",
    "#EOM.mass_forcing_form()\n",
    "#print('Mass matrix:')\n",
    "#EOM.M\n",
    "#print('Forcing term:')\n",
    "#EOM.F"
   ]
  },
  {
   "cell_type": "code",
   "execution_count": null,
   "metadata": {},
   "outputs": [],
   "source": [
    "# --- Simulation\n",
    "frames_per_sec = 20.\n",
    "final_time = 15.0\n",
    "time =  np.linspace(0.0, final_time, int(final_time * frames_per_sec))\n",
    "u = {Mx:0, My:0, Mz:0}\n",
    "p = {m:10., gravity:9.81, JO:100., Jzz:100., r:1.0, phi0:30.* np.pi/180, theta0:(90-5)*np.pi/180, Ktheta:0, Kphi:0}\n",
    "q0 = {phi: p[phi0], theta:p[theta0], omegaz:1.12}\n",
    "y = model.integrate(time, q0, p, u=u, M=MM, F=FF)\n",
    "plt.plot(time, np.mod(y[:, :3]*180/np.pi,360));\n",
    "plt.xlabel('Time [s]');\n",
    "plt.ylabel('Angle [deg]');\n",
    "plt.legend([\"${}$\".format(sp.latex(c)) for c in model.coordinates]);"
   ]
  },
  {
   "cell_type": "code",
   "execution_count": null,
   "metadata": {},
   "outputs": [],
   "source": [
    "import os\n",
    "os.getcwd() # sometime pydy creates a bunch of directories, keep an eye on it\n",
    "#os.chdir(r'C:\\W0\\Work\\2018-NREL\\_libs\\welib\\welib\\yams\\examples_symbolic_kane')\n",
    "body.viz_opts={'type':'cylinder','radius':10, 'length':0.01,'normal':'z', 'color':'white'}\n",
    "#body.viz_opts={'type':'three-blades','radius':10, 'normal':'z', 'color':'white'}\n",
    "scene = model.getScene(rp=0.5, al=1)\n",
    "scene.display()\n",
    "#display(scene.display_jupyter()) # jupyter lab\n",
    "#scene.display_ipython(); HTML(scene._html_widget.value)\n"
   ]
  }
 ],
 "metadata": {
  "kernelspec": {
   "display_name": "Python 3 (ipykernel)",
   "language": "python",
   "name": "python3"
  },
  "language_info": {
   "codemirror_mode": {
    "name": "ipython",
    "version": 3
   },
   "file_extension": ".py",
   "mimetype": "text/x-python",
   "name": "python",
   "nbconvert_exporter": "python",
   "pygments_lexer": "ipython3",
   "version": "3.9.9"
  }
 },
 "nbformat": 4,
 "nbformat_minor": 4
}
