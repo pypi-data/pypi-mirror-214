{
 "cells": [
  {
   "cell_type": "code",
   "execution_count": null,
   "metadata": {},
   "outputs": [],
   "source": [
    "# Ipython \n",
    "import matplotlib.pyplot as plt\n",
    "from sympy.physics.vector import init_vprinting\n",
    "from IPython.core.interactiveshell import InteractiveShell\n",
    "InteractiveShell.ast_node_interactivity = \"all\"\n",
    "get_ipython().run_line_magic('matplotlib', 'inline')\n",
    "get_ipython().run_line_magic('load_ext', 'autoreload')\n",
    "get_ipython().run_line_magic('autoreload', '2')\n",
    "init_vprinting(use_latex='mathjax', pretty_print=False)\n",
    "# Sympy\n",
    "import numpy as np\n",
    "import sympy as sp\n",
    "from sympy import Matrix, symbols, simplify, Function, expand_trig, Symbol, diff\n",
    "from sympy import cos, sin, transpose, pi\n",
    "from sympy.physics.mechanics import dynamicsymbols, ReferenceFrame, Point, inertia\n",
    "# Yams sympy\n",
    "from welib.yams.yams_sympy       import YAMSRigidBody, YAMSInertialBody, YAMSFlexibleBody\n",
    "from welib.yams.yams_sympy_model import YAMSModel"
   ]
  },
  {
   "cell_type": "code",
   "execution_count": null,
   "metadata": {},
   "outputs": [],
   "source": [
    "m, k, c = symbols('m, k, c')\n",
    "gravity = symbols('g')\n",
    "time = dynamicsymbols._t\n",
    "x, y, z = dynamicsymbols('x, y, z')\n",
    "xd, yd, zd = dynamicsymbols('xd, yd, zd')\n",
    "# --- Bodies\n",
    "ref = YAMSInertialBody('E') \n",
    "body = YAMSRigidBody('B') # Create a body named \"B\"\n",
    "bodies=[body] \n",
    "# --- Points\n",
    "P_O = body.origin\n",
    "\n",
    "# --- Connections\n",
    "ref.connectTo(body, type='Free', rel_pos=(0, 0, z))\n",
    "\n",
    "# --- DOFs and kinetic equations\n",
    "coordinates = [z]\n",
    "speeds      = [zd]\n",
    "kdeqsSubs = []\n",
    "for q,qd in zip(coordinates, speeds):\n",
    "    kdeqsSubs += [(qd, diff(q, time))]\n",
    "#print('coordinates:', coordinates)\n",
    "#print('kdeqsSubs  :', kdeqsSubs)\n",
    "\n",
    "# --- Loads\n",
    "body_loads = []\n",
    "for bdy in bodies: # gravity\n",
    "    body_loads  += [(bdy, (bdy.masscenter, -bdy.mass * gravity * ref.frame.z))]\n",
    "fr =0\n",
    "fr += -k * z            * ref.frame.z # Restoring force\n",
    "fr += -c * z.diff(time) * ref.frame.z # Damping force\n",
    "body_loads += [(body, (P_O,  fr))]\n",
    "    \n",
    "# --- Model and equations of motions\n",
    "model = YAMSModel(name='MSD', ref=ref, bodies=bodies, body_loads=body_loads, \n",
    "                  coordinates=coordinates, speeds=speeds, kdeqsSubs=kdeqsSubs, g_vect=-gravity*ref.frame.z)\n",
    "#model.addForce(body, P_O, fr)\n",
    "#model.addMoment(body, body.frame, Mr)\n",
    "\n",
    "extraSubs=[]\n",
    "\n",
    "EOM=model.to_EOM()\n",
    "print('Equations of motions')\n",
    "EOM.EOM\n",
    "EOM.mass_forcing_form()\n",
    "print('Mass matrix:')\n",
    "EOM.M\n",
    "print('Forcing term:')\n",
    "EOM.F\n",
    "#M0, C0, K0, B0 = EOM = EOM.linearize(op_point=None, noAcc=True, noVel=False, extraSubs=None)\n",
    "#M0, C0, K0, B0"
   ]
  },
  {
   "cell_type": "code",
   "execution_count": null,
   "metadata": {},
   "outputs": [],
   "source": [
    "# Export to python code\n",
    "print(EOM.toPython())\n",
    "#EOM.savePython('_TuneMassDamper.py')"
   ]
  }
 ],
 "metadata": {
  "kernelspec": {
   "display_name": "Python 3 (ipykernel)",
   "language": "python",
   "name": "python3"
  },
  "language_info": {
   "codemirror_mode": {
    "name": "ipython",
    "version": 3
   },
   "file_extension": ".py",
   "mimetype": "text/x-python",
   "name": "python",
   "nbconvert_exporter": "python",
   "pygments_lexer": "ipython3",
   "version": "3.9.9"
  }
 },
 "nbformat": 4,
 "nbformat_minor": 2
}
