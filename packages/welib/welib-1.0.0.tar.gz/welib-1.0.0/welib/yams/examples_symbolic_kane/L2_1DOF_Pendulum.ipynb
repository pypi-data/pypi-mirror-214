{
 "cells": [
  {
   "cell_type": "code",
   "execution_count": null,
   "metadata": {},
   "outputs": [],
   "source": [
    "# IPython \n",
    "import matplotlib.pyplot as plt\n",
    "from sympy.physics.vector import init_vprinting\n",
    "from IPython.core.interactiveshell import InteractiveShell\n",
    "InteractiveShell.ast_node_interactivity = \"all\"\n",
    "get_ipython().run_line_magic('matplotlib', 'inline')\n",
    "get_ipython().run_line_magic('load_ext', 'autoreload')\n",
    "get_ipython().run_line_magic('autoreload', '2')\n",
    "init_vprinting(use_latex='mathjax', pretty_print=False)\n",
    "%matplotlib inline\n",
    "# Sympy\n",
    "import sympy as sp\n",
    "from sympy.physics.mechanics import dynamicsymbols\n",
    "# Yams sympy\n",
    "from welib.yams.yams_sympy       import YAMSRigidBody, YAMSInertialBody, YAMSFlexibleBody\n",
    "from welib.yams.yams_sympy_model import YAMSModel"
   ]
  },
  {
   "cell_type": "markdown",
   "metadata": {},
   "source": [
    "# Point mass pendulum"
   ]
  },
  {
   "cell_type": "markdown",
   "metadata": {},
   "source": [
    " Point pendulum \n",
    "```\n",
    " Coordinate system:\n",
    " O ----> y \n",
    " |\\\n",
    " | \\\n",
    " |  \\\n",
    " |   o (point mass)\n",
    " x   \n",
    " ```"
   ]
  },
  {
   "cell_type": "code",
   "execution_count": null,
   "metadata": {},
   "outputs": [],
   "source": [
    "m, k, l = sp.symbols('m, k, l')\n",
    "gravity = sp.symbols('g')\n",
    "time = dynamicsymbols._t\n",
    "theta = dynamicsymbols('theta')\n",
    "thetad = dynamicsymbols('thetad')"
   ]
  },
  {
   "cell_type": "code",
   "execution_count": null,
   "metadata": {},
   "outputs": [],
   "source": [
    "### OPTION 1 - Use a rigid body with COG displaced by l\n",
    "# --- Bodies\n",
    "ref = YAMSInertialBody('E') \n",
    "pend = YAMSRigidBody('P', mass=m, J_G=(0,0,0), rho_G=(l,0,0)) \n",
    "bodies=[pend] \n",
    "# --- Connections\n",
    "ref.connectTo(pend, type='Joint', rel_pos=(0, 0, 0), rot_type='Body', rot_amounts=(0,0,theta), rot_order='XYZ')\n",
    "# --- DOFs and kinetic equations\n",
    "coordinates = [theta]\n",
    "speeds      = [thetad]\n",
    "kdeqsSubs = []\n",
    "for q,qd in zip(coordinates, speeds):\n",
    "    kdeqsSubs += [(qd, sp.diff(q, time))]\n",
    "# --- Loads\n",
    "body_loads = []\n",
    "for bdy in bodies: # gravity\n",
    "    body_loads  += [(bdy, (bdy.masscenter, bdy.mass * gravity * ref.frame.x))] # Watch out for convention here\n",
    "body_loads += [(pend, (pend.frame,  -k * theta * ref.frame.z))] # restoring moment\n",
    "    \n",
    "# --- Model and equations of motions\n",
    "model = YAMSModel(ref=ref, bodies=bodies, body_loads=body_loads, \n",
    "                  coordinates=coordinates, speeds=speeds, kdeqsSubs=kdeqsSubs)\n",
    "EOM=model.to_EOM()\n",
    "print('Equations of motions')\n",
    "EOM.EOM\n",
    "EOM.mass_forcing_form()\n",
    "print('Mass matrix:')\n",
    "EOM.M\n",
    "print('Forcing term:')\n",
    "EOM.F"
   ]
  },
  {
   "cell_type": "code",
   "execution_count": null,
   "metadata": {},
   "outputs": [],
   "source": [
    "### OPTION 2 - - Use a rigid body with a \"Free\" connection that include the position and rotation\n",
    "# --- Bodies\n",
    "ref = YAMSInertialBody('E') \n",
    "pend = YAMSRigidBody('P', mass=m, J_G=(0,0,0), rho_G=(0,0,0)) \n",
    "bodies=[pend] \n",
    "# --- Connections\n",
    "ref.connectTo(pend, type='Free', rel_pos=(l*sp.cos(theta), l*sp.sin(theta), 0), rot_type='Body', rot_amounts=(0,0,theta), rot_order='XYZ')\n",
    "# --- DOFs and kinetic equations\n",
    "coordinates = [theta]\n",
    "speeds      = [thetad]\n",
    "kdeqsSubs = []\n",
    "for q,qd in zip(coordinates, speeds):\n",
    "    kdeqsSubs += [(qd, sp.diff(q, time))]\n",
    "# --- Loads\n",
    "body_loads = []\n",
    "for bdy in bodies: # gravity\n",
    "    body_loads  += [(bdy, (bdy.masscenter, bdy.mass * gravity * ref.frame.x))] # Watch out for convention here\n",
    "body_loads += [(pend, (pend.frame,  -k * theta * ref.frame.z))] # restoring moment\n",
    "    \n",
    "# --- Model and equations of motions\n",
    "model = YAMSModel(ref=ref, bodies=bodies, body_loads=body_loads, \n",
    "                  coordinates=coordinates, speeds=speeds, kdeqsSubs=kdeqsSubs)\n",
    "EOM=model.to_EOM(simplify=True)\n",
    "print('Equations of motions')\n",
    "EOM.EOM\n",
    "EOM.mass_forcing_form()\n",
    "print('Mass matrix:')\n",
    "EOM.M\n",
    "print('Forcing term:')\n",
    "EOM.F"
   ]
  },
  {
   "cell_type": "markdown",
   "metadata": {},
   "source": [
    "# Rod pendulum"
   ]
  },
  {
   "cell_type": "markdown",
   "metadata": {},
   "source": [
    " Rod pendulum, of length l=2d \n",
    "```\n",
    " Coordinate system:\n",
    " O----> y \n",
    " |\\ \\\n",
    " | \\ \\\n",
    " |  \\G\\    J_O = J_G + m d^2\n",
    " |   \\ \\\n",
    " |    \\_\\\n",
    " x  \n",
    " ```"
   ]
  },
  {
   "cell_type": "code",
   "execution_count": null,
   "metadata": {},
   "outputs": [],
   "source": [
    "m, k, l = sp.symbols('m, k, d')\n",
    "J_G = sp.symbols('J_G')\n",
    "J_O = sp.symbols('J_O')\n",
    "gravity = sp.symbols('g')\n",
    "time = dynamicsymbols._t\n",
    "theta = dynamicsymbols('theta')\n",
    "thetad = dynamicsymbols('thetad')"
   ]
  },
  {
   "cell_type": "code",
   "execution_count": null,
   "metadata": {},
   "outputs": [],
   "source": [
    "# --- Bodies, rigid body with COG displaced by d\n",
    "ref = YAMSInertialBody('E') \n",
    "pend = YAMSRigidBody('P', mass=m, rho_G=(d,0,0), J_G =(0,0,J_G)) # NOTE: Inertia defined at COG by default. \n",
    "#pend = YAMSRigidBody('P', mass=m, rho_G=(l,0,0), J_G =(0,0,J_O), J_at_Origin=True) # NOTE: Inertia defined at origin here, not COG. \n",
    "bodies=[pend] \n",
    "# --- Connections\n",
    "ref.connectTo(pend, type='Joint', rel_pos=(0, 0, 0), rot_type='Body', rot_amounts=(0,0,theta), rot_order='XYZ')\n",
    "# --- DOFs and kinetic equations\n",
    "coordinates = [theta]\n",
    "speeds      = [thetad]\n",
    "kdeqsSubs = []\n",
    "for q,qd in zip(coordinates, speeds):\n",
    "    kdeqsSubs += [(qd, sp.diff(q, time))]\n",
    "# --- Loads\n",
    "body_loads = []\n",
    "for bdy in bodies: # gravity\n",
    "    body_loads  += [(bdy, (bdy.masscenter, bdy.mass * gravity * ref.frame.x))] # Watch out for convention here\n",
    "body_loads += [(pend, (pend.frame,  -k * theta * ref.frame.z))] # restoring moment\n",
    "    \n",
    "# --- Model and equations of motions\n",
    "model = YAMSModel(ref=ref, bodies=bodies, body_loads=body_loads, \n",
    "                  coordinates=coordinates, speeds=speeds, kdeqsSubs=kdeqsSubs)\n",
    "EOM=model.to_EOM()\n",
    "print('Equations of motions')\n",
    "EOM.EOM\n",
    "EOM.mass_forcing_form()\n",
    "print('Mass matrix:')\n",
    "EOM.M\n",
    "print('Forcing term:')\n",
    "EOM.F"
   ]
  }
 ],
 "metadata": {
  "kernelspec": {
   "display_name": "Python 3 (ipykernel)",
   "language": "python",
   "name": "python3"
  },
  "language_info": {
   "codemirror_mode": {
    "name": "ipython",
    "version": 3
   },
   "file_extension": ".py",
   "mimetype": "text/x-python",
   "name": "python",
   "nbconvert_exporter": "python",
   "pygments_lexer": "ipython3",
   "version": "3.9.9"
  }
 },
 "nbformat": 4,
 "nbformat_minor": 2
}
