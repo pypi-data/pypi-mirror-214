{
 "cells": [
  {
   "cell_type": "code",
   "execution_count": null,
   "metadata": {},
   "outputs": [],
   "source": [
    "# Ipython\n",
    "from sympy.physics.vector import init_vprinting\n",
    "from IPython.core.interactiveshell import InteractiveShell\n",
    "InteractiveShell.ast_node_interactivity = \"all\"\n",
    "get_ipython().run_line_magic('matplotlib', 'inline')\n",
    "get_ipython().run_line_magic('load_ext', 'autoreload')\n",
    "get_ipython().run_line_magic('autoreload', '2')\n",
    "init_vprinting(use_latex='mathjax', pretty_print=False)\n",
    "from sympy import trigsimp\n"
   ]
  },
  {
   "cell_type": "code",
   "execution_count": null,
   "metadata": {},
   "outputs": [],
   "source": [
    "from welib.yams.models.FTNSB_sympy import *\n",
    "from welib.yams.models.OneRigidBody_sympy import get_model_one_body\n",
    "from welib.yams.models.FTNSB_sympy_symbols import *\n",
    "# --- Setup a wind turbine model based on predefined number of DOFs \"FxTxRNA\"\n",
    "# NOTE: look at README.md for examples\n",
    "print('>>> Setting up model...')\n",
    "model = get_model('F0T1N0S1', mergeFndTwr=True, linRot=False,\n",
    "                  yaw='zero', tilt='fixed',tiltShaft=True,\n",
    "                  rot_elastic_type='Body', #rot_elastic_type='Body', 'Body' or 'SmallRot'\n",
    "                  rot_elastic_smallAngle=False, # Keep False nu needs to be second order\n",
    "                  orderMM=1, orderH=1,\n",
    "                  twrDOFDir=['x','y','x','y'], # Order in which the flexible DOF of the tower are set\n",
    "                 )\n",
    "model.kdeqsSubs\n",
    "model.coordinates\n",
    "# --- Compute Kane's equations of motion\n",
    "print('>>> Computing equations of motion...')\n",
    "model.kaneEquations(Mform='TaylorExpanded')\n",
    "# --- Perform additional substitution and small angle approximation\n",
    "print('>>> Small angle approximation...')\n",
    "extraSubs=model.shapeNormSubs\n",
    "#extraSubs=[]\n",
    "#extraSubs+=[(Symbol('u_xT1c'),1)]#extraSubs+=[(Symbol('v_yT1c'),0)]#extraSubs+=[(Symbol('J_xx_T'),0)]\n",
    "#extraSubs+=[(Symbol('J_xx_N'),0)]#extraSubs+=[(Symbol('M_T'),0)]#extraSubs+=[(Symbol('x_BG'),0)]\n",
    "print('Extra Subs:')\n",
    "extraSubs\n",
    "#print('Small angles:')\n",
    "#model.smallAngles\n",
    "#model.smallAngleApprox(model.smallAngles, extraSubs)\n",
    "#model.smallAngleApproxEOM(model.smallAngles, extraSubs)\n",
    "# --- Linearize equation of motions (with small angles)\n",
    "#print('>>> Linearization...')\n",
    "#model.linearize(noAcc=True, extraSubs=extraSubs)\n",
    "#model.smallAngleLinearize(noAcc=True, extraSubs=extraSubs)\n",
    "# --- Save as latex and python\n",
    "#print('>>> Export...')\n",
    "#model.smallAngleSaveTex(folder='./_tex',prefix='test',variables=['MM','FF','M','C','K','B'])\n",
    "#model.savePython(folder='./_py',prefix='test',variables=['MM','FF','M','C','K','B'], extraSubs=extraSubs)"
   ]
  },
  {
   "cell_type": "code",
   "execution_count": null,
   "metadata": {},
   "outputs": [],
   "source": [
    "#bd=model.body\n",
    "#ref=model.ref\n",
    "#bd.masscenter_pos_global.express(ref.frame)\n",
    "twr = model.twr\n",
    "twr\n",
    "nac = model.nac\n",
    "nac\n",
    "rot = model.rot\n",
    "rot\n",
    "nac.masscenter_vel_inertial\n",
    "#rot.masscenter_vel_inertial"
   ]
  },
  {
   "cell_type": "code",
   "execution_count": null,
   "metadata": {},
   "outputs": [],
   "source": [
    "nac=model.nac\n",
    "nac.masscenter_pos_global\n",
    "nac.masscenter_vel_inertial\n",
    "print('omega')\n",
    "nac.omega_inertial.subs(extraSubs)\n",
    "nac.R_b2g\n",
    "omTilde=diff(nac.R_b2g,time)*(nac.R_b2g.T).simplify()\n",
    "trigsimp(omTilde)"
   ]
  },
  {
   "cell_type": "code",
   "execution_count": null,
   "metadata": {},
   "outputs": [],
   "source": [
    "from welib.yams.yams_sympy_tools import *\n",
    "MM=model.kane.mass_matrix.subs(extraSubs)\n",
    "#MM\n",
    "MM2=smallAngleApprox(MM, model.twr.vcList,2)\n",
    "MM2=smallAngleApprox(MM2, [theta_tilt],1)\n",
    "MM2=smallAngleApprox(MM, [phi_y],1)\n",
    "MM2.simplify()\n",
    "MM2.expand()\n",
    "#DM=(MM-MM2).expand()\n",
    "#DM\n"
   ]
  },
  {
   "cell_type": "code",
   "execution_count": null,
   "metadata": {},
   "outputs": [],
   "source": [
    "MM2[0,0].simplify().expand()\n",
    "MM2[1,1].simplify().expand()"
   ]
  },
  {
   "cell_type": "code",
   "execution_count": null,
   "metadata": {},
   "outputs": [],
   "source": [
    "MM2[0,0].expand()\n",
    "MM2[1,1].expand()\n",
    "#MM[1,1]"
   ]
  },
  {
   "cell_type": "code",
   "execution_count": null,
   "metadata": {},
   "outputs": [],
   "source": [
    "ff = model.kane.forcing.subs(extraSubs).subs(model.kdeqsSubs)\n",
    "ff.simplify()\n",
    "ff[1]\n",
    "#ff2=smallAngleApprox(ff, twr.vcList, 2)\n",
    "#ff2=smallAngleApprox(ff2, [theta_tilt], 1)\n",
    "#ff2=smallAngleApprox(ff2, [phi_y],1)\n",
    "#ff2.expand()\n",
    "#Df=(ff-ff2).expand()\n",
    "#Df"
   ]
  },
  {
   "cell_type": "code",
   "execution_count": null,
   "metadata": {},
   "outputs": [],
   "source": [
    "#model.K"
   ]
  },
  {
   "cell_type": "code",
   "execution_count": null,
   "metadata": {},
   "outputs": [],
   "source": [
    "model.kane.mass_matrix.subs(extraSubs)"
   ]
  },
  {
   "cell_type": "code",
   "execution_count": null,
   "metadata": {},
   "outputs": [],
   "source": [
    "# --- Full system mass matrix\n",
    "model.kane.mass_matrix.subs(extraSubs)"
   ]
  },
  {
   "cell_type": "code",
   "execution_count": null,
   "metadata": {},
   "outputs": [],
   "source": [
    "# --- Small angle approximation mass matrix\n",
    "model._sa_mass_matrix"
   ]
  },
  {
   "cell_type": "code",
   "execution_count": null,
   "metadata": {},
   "outputs": [],
   "source": [
    "model.kane.forcing.subs(extraSubs).subs(model.kdeqsSubs)"
   ]
  },
  {
   "cell_type": "code",
   "execution_count": null,
   "metadata": {},
   "outputs": [],
   "source": [
    "# --- Full system Forcing  RHS)\n",
    "model.kane.forcing.subs(extraSubs).subs(model.kdeqsSubs)"
   ]
  },
  {
   "cell_type": "code",
   "execution_count": null,
   "metadata": {},
   "outputs": [],
   "source": [
    "# --- Small angle approximation forcing\n",
    "model._sa_forcing"
   ]
  },
  {
   "cell_type": "code",
   "execution_count": null,
   "metadata": {},
   "outputs": [],
   "source": [
    "# --- Equation of motions\n",
    "#EOM=(model.fr+model.frstar).subs(model.kdeqsSubs)"
   ]
  },
  {
   "cell_type": "code",
   "execution_count": null,
   "metadata": {},
   "outputs": [],
   "source": [
    "# --- Small angle Equation of motions\n",
    "#model.smallAngleApproxEOM(model.smallAngles, extraSubs)\n",
    "#model.EOM\n"
   ]
  },
  {
   "cell_type": "code",
   "execution_count": null,
   "metadata": {},
   "outputs": [],
   "source": [
    "# --- Linearization of equation of motions\n",
    "M,C,K,B = model.linearize(EOM=model._sa_EOM)\n",
    "\n",
    "M\n"
   ]
  },
  {
   "cell_type": "code",
   "execution_count": null,
   "metadata": {},
   "outputs": [],
   "source": [
    "# --- display some info about bodies\n",
    "nac=model.nac\n",
    "twr=model.twr\n",
    "print(nac)\n",
    "print(twr)\n",
    "#twr.bodyMassMatrix()"
   ]
  }
 ],
 "metadata": {
  "kernelspec": {
   "display_name": "Python 3 (ipykernel)",
   "language": "python",
   "name": "python3"
  },
  "language_info": {
   "codemirror_mode": {
    "name": "ipython",
    "version": 3
   },
   "file_extension": ".py",
   "mimetype": "text/x-python",
   "name": "python",
   "nbconvert_exporter": "python",
   "pygments_lexer": "ipython3",
   "version": "3.9.9"
  }
 },
 "nbformat": 4,
 "nbformat_minor": 2
}
