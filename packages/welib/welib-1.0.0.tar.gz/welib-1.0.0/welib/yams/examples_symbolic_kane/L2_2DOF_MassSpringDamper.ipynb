{
 "cells": [
  {
   "cell_type": "code",
   "execution_count": null,
   "metadata": {},
   "outputs": [],
   "source": [
    "# Ipython \n",
    "import matplotlib.pyplot as plt\n",
    "from sympy.physics.vector import init_vprinting\n",
    "from IPython.core.interactiveshell import InteractiveShell\n",
    "InteractiveShell.ast_node_interactivity = \"all\"\n",
    "get_ipython().run_line_magic('matplotlib', 'inline')\n",
    "get_ipython().run_line_magic('load_ext', 'autoreload')\n",
    "get_ipython().run_line_magic('autoreload', '2')\n",
    "init_vprinting(use_latex='mathjax', pretty_print=False)\n",
    "# Sympy\n",
    "import numpy as np\n",
    "import sympy as sp\n",
    "from sympy.physics.mechanics import dynamicsymbols\n",
    "# Yams sympy\n",
    "from welib.yams.yams_sympy       import YAMSRigidBody, YAMSInertialBody, YAMSFlexibleBody\n",
    "from welib.yams.yams_sympy_model import YAMSModel"
   ]
  },
  {
   "cell_type": "markdown",
   "metadata": {},
   "source": [
    "# Two masses in a row, bounded by two walls"
   ]
  },
  {
   "cell_type": "markdown",
   "metadata": {},
   "source": [
    "NOTE: not using relative position between two masses\n",
    "```\n",
    "\n",
    "          |--> x1       |--> x2\n",
    "/|                                    |\\\n",
    "/| - k1 - [ m1 ] - k2 - [ m2 ] - k3 - |\\\n",
    "/| - c1 - [    ] - c2 - [    ] - c3 - |\\\n",
    "/|                                    |\\\n",
    "```"
   ]
  },
  {
   "cell_type": "code",
   "execution_count": null,
   "metadata": {},
   "outputs": [],
   "source": [
    "m1, m2, k1, k2, k3, c1, c2, c3 = sp.symbols('m1, m2, k1, k2, k3, c1, c2, c3')\n",
    "gravity = sp.symbols('g')\n",
    "time = dynamicsymbols._t\n",
    "x1, x2 = dynamicsymbols('x_1, x_2')\n",
    "x1d, x2d = dynamicsymbols('x1d, x2d')\n",
    "v1, v2 = dynamicsymbols('x_1, x_2', 1)\n",
    "# --- Bodies\n",
    "ref = YAMSInertialBody('E') \n",
    "body1 = YAMSRigidBody('B_1', mass=m1) # Create a body named \"B_1\"\n",
    "body2 = YAMSRigidBody('B_2', mass=m2) # Create a body named \"B_2\"\n",
    "bodies=[body1, body2] \n",
    "# --- Connections\n",
    "ref.connectTo(body1, type='Free', rel_pos=(x1, 0, 0))\n",
    "ref.connectTo(body2, type='Free', rel_pos=(x2, 0, 0)) # NOTE: absolute\n",
    "# --- DOFs and kinetic equations\n",
    "coordinates = [x1, x2]\n",
    "speeds      = [x1d, x2d]\n",
    "kdeqsSubs = []\n",
    "for q,qd in zip(coordinates, speeds):\n",
    "    kdeqsSubs += [(qd, sp.diff(q, time))]\n",
    "# --- Loads\n",
    "body_loads = []\n",
    "body_loads += [(body1, (body1.origin,  - k1 * x1 * ref.frame.x  - c1 * v1 * ref.frame.x ))]\n",
    "body_loads += [(body2, (body2.origin,  - k3 * x2 * ref.frame.x  - c3 * v2 * ref.frame.x ))]\n",
    "body_loads += [(body1, (body1.origin,    k2 * (x2-x1) * ref.frame.x  + c2 * (v2 - v1) * ref.frame.x ))]\n",
    "body_loads += [(body2, (body2.origin,  - k2 * (x2-x1) * ref.frame.x  - c2 * (v2 - v1) * ref.frame.x ))]\n",
    "# --- Model and equations of motions\n",
    "model = YAMSModel(name='MSD', ref=ref, bodies=bodies, body_loads=body_loads, \n",
    "                  coordinates=coordinates, speeds=speeds, kdeqsSubs=kdeqsSubs, g_vect=-gravity*ref.frame.z)\n",
    "EOM=model.to_EOM()\n",
    "print('Equations of motions')\n",
    "EOM.EOM\n",
    "EOM.mass_forcing_form()\n",
    "print('Mass matrix:')\n",
    "EOM.M\n",
    "print('Forcing term:')\n",
    "EOM.F\n",
    "M0, C0, K0, B0 = EOM = EOM.linearize(op_point=None, noAcc=True, noVel=False, extraSubs=None, simplify=True)\n",
    "M0, C0, K0, B0"
   ]
  },
  {
   "cell_type": "code",
   "execution_count": null,
   "metadata": {},
   "outputs": [],
   "source": [
    "# Export to python code\n",
    "#print(EOM.toPython())\n",
    "#EOM.savePython('_TuneMassDamper.py')"
   ]
  }
 ],
 "metadata": {
  "kernelspec": {
   "display_name": "Python 3 (ipykernel)",
   "language": "python",
   "name": "python3"
  },
  "language_info": {
   "codemirror_mode": {
    "name": "ipython",
    "version": 3
   },
   "file_extension": ".py",
   "mimetype": "text/x-python",
   "name": "python",
   "nbconvert_exporter": "python",
   "pygments_lexer": "ipython3",
   "version": "3.9.9"
  }
 },
 "nbformat": 4,
 "nbformat_minor": 2
}
