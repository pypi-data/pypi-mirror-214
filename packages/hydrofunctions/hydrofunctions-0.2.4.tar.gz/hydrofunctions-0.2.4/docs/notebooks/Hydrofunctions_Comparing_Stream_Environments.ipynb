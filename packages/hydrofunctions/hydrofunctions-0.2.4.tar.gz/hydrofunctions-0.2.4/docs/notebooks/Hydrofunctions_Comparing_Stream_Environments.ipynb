{
 "cells": [
  {
   "cell_type": "markdown",
   "metadata": {},
   "source": [
    "# Comparing Different Stream Environments\n",
    "This Jupyter Notebook compares four streams in different environments in the U.S. \n",
    "Using hydrofunctions, we are able to plot the flow duration graphs for all four streams and compare them. "
   ]
  },
  {
   "cell_type": "code",
   "execution_count": 1,
   "metadata": {},
   "outputs": [],
   "source": [
    "import hydrofunctions as hf\n",
    "%matplotlib inline"
   ]
  },
  {
   "cell_type": "markdown",
   "metadata": {},
   "source": [
    "Choose four streams from different environments from HydroCloud. Import data for three years. \n",
    "\n",
    "In this example, all four streams are in places with low development:\n",
    "\n",
    "- Colorado Western Slopes: ROARING FORK RIVER NEAR ASPEN, CO.\n",
    "- California Mendicino National Park: MAD R AB RUTH RES NR FOREST GLEN CA\n",
    "- White Mountains, NH: EAST BRANCH PEMIGEWASSET RIVER AT LINCOLN, NH\n",
    "- PINTO CREEK NEAR MIAMI, AZ"
   ]
  },
  {
   "cell_type": "code",
   "execution_count": 2,
   "metadata": {},
   "outputs": [
    {
     "name": "stdout",
     "output_type": "stream",
     "text": [
      "Requested data from https://waterservices.usgs.gov/nwis/dv/?format=json%2C1.1&sites=09073400%2C11480390%2C01074520%2C09498502&startDT=2001-01-01&endDT=2003-12-31\n"
     ]
    },
    {
     "data": {
      "text/plain": [
       "USGS:01074520: EAST BRANCH PEMIGEWASSET RIVER AT LINCOLN, NH\n",
       "    00060: <Day>  Discharge, cubic feet per second\n",
       "USGS:09073400: ROARING FORK RIVER NEAR ASPEN, CO.\n",
       "    00060: <Day>  Discharge, cubic feet per second\n",
       "USGS:09498502: PINTO CREEK NEAR MIAMI, AZ\n",
       "    00060: <Day>  Discharge, cubic feet per second\n",
       "USGS:11480390: MAD R AB RUTH RES NR FOREST GLEN CA\n",
       "    00060: <Day>  Discharge, cubic feet per second\n",
       "Start: 2001-01-01 00:00:00+00:00\n",
       "End:   2003-12-31 00:00:00+00:00"
      ]
     },
     "execution_count": 2,
     "metadata": {},
     "output_type": "execute_result"
    }
   ],
   "source": [
    "streams = ['09073400','11480390','01074520','09498502']\n",
    "sites = hf.NWIS(streams, 'dv', start_date='2001-01-01', end_date='2003-12-31')\n",
    "sites"
   ]
  },
  {
   "cell_type": "code",
   "execution_count": 3,
   "metadata": {
    "scrolled": false
   },
   "outputs": [
    {
     "data": {
      "text/html": [
       "<div>\n",
       "<style scoped>\n",
       "    .dataframe tbody tr th:only-of-type {\n",
       "        vertical-align: middle;\n",
       "    }\n",
       "\n",
       "    .dataframe tbody tr th {\n",
       "        vertical-align: top;\n",
       "    }\n",
       "\n",
       "    .dataframe thead th {\n",
       "        text-align: right;\n",
       "    }\n",
       "</style>\n",
       "<table border=\"1\" class=\"dataframe\">\n",
       "  <thead>\n",
       "    <tr style=\"text-align: right;\">\n",
       "      <th></th>\n",
       "      <th>USGS:01074520:00060:00003</th>\n",
       "      <th>USGS:09073400:00060:00003</th>\n",
       "      <th>USGS:09498502:00060:00003</th>\n",
       "      <th>USGS:11480390:00060:00003</th>\n",
       "    </tr>\n",
       "    <tr>\n",
       "      <th>datetimeUTC</th>\n",
       "      <th></th>\n",
       "      <th></th>\n",
       "      <th></th>\n",
       "      <th></th>\n",
       "    </tr>\n",
       "  </thead>\n",
       "  <tbody>\n",
       "    <tr>\n",
       "      <th>2001-01-01 00:00:00+00:00</th>\n",
       "      <td>160.0</td>\n",
       "      <td>22.0</td>\n",
       "      <td>2.7</td>\n",
       "      <td>21.0</td>\n",
       "    </tr>\n",
       "    <tr>\n",
       "      <th>2001-01-02 00:00:00+00:00</th>\n",
       "      <td>138.0</td>\n",
       "      <td>23.0</td>\n",
       "      <td>2.7</td>\n",
       "      <td>19.0</td>\n",
       "    </tr>\n",
       "    <tr>\n",
       "      <th>2001-01-03 00:00:00+00:00</th>\n",
       "      <td>132.0</td>\n",
       "      <td>21.0</td>\n",
       "      <td>2.7</td>\n",
       "      <td>16.0</td>\n",
       "    </tr>\n",
       "    <tr>\n",
       "      <th>2001-01-04 00:00:00+00:00</th>\n",
       "      <td>125.0</td>\n",
       "      <td>23.0</td>\n",
       "      <td>2.7</td>\n",
       "      <td>15.0</td>\n",
       "    </tr>\n",
       "    <tr>\n",
       "      <th>2001-01-05 00:00:00+00:00</th>\n",
       "      <td>130.0</td>\n",
       "      <td>24.0</td>\n",
       "      <td>2.7</td>\n",
       "      <td>13.0</td>\n",
       "    </tr>\n",
       "  </tbody>\n",
       "</table>\n",
       "</div>"
      ],
      "text/plain": [
       "                           USGS:01074520:00060:00003  \\\n",
       "datetimeUTC                                            \n",
       "2001-01-01 00:00:00+00:00                      160.0   \n",
       "2001-01-02 00:00:00+00:00                      138.0   \n",
       "2001-01-03 00:00:00+00:00                      132.0   \n",
       "2001-01-04 00:00:00+00:00                      125.0   \n",
       "2001-01-05 00:00:00+00:00                      130.0   \n",
       "\n",
       "                           USGS:09073400:00060:00003  \\\n",
       "datetimeUTC                                            \n",
       "2001-01-01 00:00:00+00:00                       22.0   \n",
       "2001-01-02 00:00:00+00:00                       23.0   \n",
       "2001-01-03 00:00:00+00:00                       21.0   \n",
       "2001-01-04 00:00:00+00:00                       23.0   \n",
       "2001-01-05 00:00:00+00:00                       24.0   \n",
       "\n",
       "                           USGS:09498502:00060:00003  \\\n",
       "datetimeUTC                                            \n",
       "2001-01-01 00:00:00+00:00                        2.7   \n",
       "2001-01-02 00:00:00+00:00                        2.7   \n",
       "2001-01-03 00:00:00+00:00                        2.7   \n",
       "2001-01-04 00:00:00+00:00                        2.7   \n",
       "2001-01-05 00:00:00+00:00                        2.7   \n",
       "\n",
       "                           USGS:11480390:00060:00003  \n",
       "datetimeUTC                                           \n",
       "2001-01-01 00:00:00+00:00                       21.0  \n",
       "2001-01-02 00:00:00+00:00                       19.0  \n",
       "2001-01-03 00:00:00+00:00                       16.0  \n",
       "2001-01-04 00:00:00+00:00                       15.0  \n",
       "2001-01-05 00:00:00+00:00                       13.0  "
      ]
     },
     "execution_count": 3,
     "metadata": {},
     "output_type": "execute_result"
    }
   ],
   "source": [
    "#Create a dataframe of the four sites\n",
    "Q = sites.df('discharge')\n",
    "#Show the first few lines of the dataframe\n",
    "Q.head()"
   ]
  },
  {
   "cell_type": "code",
   "execution_count": 4,
   "metadata": {},
   "outputs": [
    {
     "data": {
      "text/html": [
       "<div>\n",
       "<style scoped>\n",
       "    .dataframe tbody tr th:only-of-type {\n",
       "        vertical-align: middle;\n",
       "    }\n",
       "\n",
       "    .dataframe tbody tr th {\n",
       "        vertical-align: top;\n",
       "    }\n",
       "\n",
       "    .dataframe thead th {\n",
       "        text-align: right;\n",
       "    }\n",
       "</style>\n",
       "<table border=\"1\" class=\"dataframe\">\n",
       "  <thead>\n",
       "    <tr style=\"text-align: right;\">\n",
       "      <th></th>\n",
       "      <th>White Mountains National Park</th>\n",
       "      <th>White River National Forest</th>\n",
       "      <th>Tonto National Forest</th>\n",
       "      <th>Mendicino National Park</th>\n",
       "    </tr>\n",
       "    <tr>\n",
       "      <th>datetimeUTC</th>\n",
       "      <th></th>\n",
       "      <th></th>\n",
       "      <th></th>\n",
       "      <th></th>\n",
       "    </tr>\n",
       "  </thead>\n",
       "  <tbody>\n",
       "    <tr>\n",
       "      <th>2001-01-01 00:00:00+00:00</th>\n",
       "      <td>160.0</td>\n",
       "      <td>22.0</td>\n",
       "      <td>2.7</td>\n",
       "      <td>21.0</td>\n",
       "    </tr>\n",
       "    <tr>\n",
       "      <th>2001-01-02 00:00:00+00:00</th>\n",
       "      <td>138.0</td>\n",
       "      <td>23.0</td>\n",
       "      <td>2.7</td>\n",
       "      <td>19.0</td>\n",
       "    </tr>\n",
       "    <tr>\n",
       "      <th>2001-01-03 00:00:00+00:00</th>\n",
       "      <td>132.0</td>\n",
       "      <td>21.0</td>\n",
       "      <td>2.7</td>\n",
       "      <td>16.0</td>\n",
       "    </tr>\n",
       "    <tr>\n",
       "      <th>2001-01-04 00:00:00+00:00</th>\n",
       "      <td>125.0</td>\n",
       "      <td>23.0</td>\n",
       "      <td>2.7</td>\n",
       "      <td>15.0</td>\n",
       "    </tr>\n",
       "    <tr>\n",
       "      <th>2001-01-05 00:00:00+00:00</th>\n",
       "      <td>130.0</td>\n",
       "      <td>24.0</td>\n",
       "      <td>2.7</td>\n",
       "      <td>13.0</td>\n",
       "    </tr>\n",
       "  </tbody>\n",
       "</table>\n",
       "</div>"
      ],
      "text/plain": [
       "                           White Mountains National Park  \\\n",
       "datetimeUTC                                                \n",
       "2001-01-01 00:00:00+00:00                          160.0   \n",
       "2001-01-02 00:00:00+00:00                          138.0   \n",
       "2001-01-03 00:00:00+00:00                          132.0   \n",
       "2001-01-04 00:00:00+00:00                          125.0   \n",
       "2001-01-05 00:00:00+00:00                          130.0   \n",
       "\n",
       "                           White River National Forest  Tonto National Forest  \\\n",
       "datetimeUTC                                                                     \n",
       "2001-01-01 00:00:00+00:00                         22.0                    2.7   \n",
       "2001-01-02 00:00:00+00:00                         23.0                    2.7   \n",
       "2001-01-03 00:00:00+00:00                         21.0                    2.7   \n",
       "2001-01-04 00:00:00+00:00                         23.0                    2.7   \n",
       "2001-01-05 00:00:00+00:00                         24.0                    2.7   \n",
       "\n",
       "                           Mendicino National Park  \n",
       "datetimeUTC                                         \n",
       "2001-01-01 00:00:00+00:00                     21.0  \n",
       "2001-01-02 00:00:00+00:00                     19.0  \n",
       "2001-01-03 00:00:00+00:00                     16.0  \n",
       "2001-01-04 00:00:00+00:00                     15.0  \n",
       "2001-01-05 00:00:00+00:00                     13.0  "
      ]
     },
     "execution_count": 4,
     "metadata": {},
     "output_type": "execute_result"
    }
   ],
   "source": [
    "# rename the columns based on the names of the sites from HydroCloud\n",
    "Q.columns=['White Mountains National Park', 'White River National Forest', 'Tonto National Forest', 'Mendicino National Park']\n",
    "# show the first few rows of the data to confirm the changes\n",
    "Q.head()"
   ]
  },
  {
   "cell_type": "code",
   "execution_count": 5,
   "metadata": {},
   "outputs": [
    {
     "data": {
      "text/plain": [
       "(<Figure size 432x288 with 1 Axes>,\n",
       " <matplotlib.axes._subplots.AxesSubplot at 0x23235ac5860>)"
      ]
     },
     "execution_count": 5,
     "metadata": {},
     "output_type": "execute_result"
    },
    {
     "data": {
      "image/png": "[encoded data removed]",
      "text/plain": [
       "<Figure size 432x288 with 1 Axes>"
      ]
     },
     "metadata": {
      "needs_background": "light"
     },
     "output_type": "display_data"
    }
   ],
   "source": [
    "#use the built-in functions from hydrofunctions to create a flow duration graph for the dataframe.\n",
    "hf.flow_duration(Q)"
   ]
  },
  {
   "cell_type": "code",
   "execution_count": 6,
   "metadata": {
    "scrolled": true
   },
   "outputs": [
    {
     "data": {
      "text/html": [
       "<div>\n",
       "<style scoped>\n",
       "    .dataframe tbody tr th:only-of-type {\n",
       "        vertical-align: middle;\n",
       "    }\n",
       "\n",
       "    .dataframe tbody tr th {\n",
       "        vertical-align: top;\n",
       "    }\n",
       "\n",
       "    .dataframe thead th {\n",
       "        text-align: right;\n",
       "    }\n",
       "</style>\n",
       "<table border=\"1\" class=\"dataframe\">\n",
       "  <thead>\n",
       "    <tr style=\"text-align: right;\">\n",
       "      <th></th>\n",
       "      <th>White Mountains National Park</th>\n",
       "      <th>White River National Forest</th>\n",
       "      <th>Tonto National Forest</th>\n",
       "      <th>Mendicino National Park</th>\n",
       "    </tr>\n",
       "  </thead>\n",
       "  <tbody>\n",
       "    <tr>\n",
       "      <th>count</th>\n",
       "      <td>1095.000000</td>\n",
       "      <td>1095.000000</td>\n",
       "      <td>1095.000000</td>\n",
       "      <td>1095.000000</td>\n",
       "    </tr>\n",
       "    <tr>\n",
       "      <th>mean</th>\n",
       "      <td>282.006941</td>\n",
       "      <td>57.492785</td>\n",
       "      <td>5.144813</td>\n",
       "      <td>221.987370</td>\n",
       "    </tr>\n",
       "    <tr>\n",
       "      <th>std</th>\n",
       "      <td>526.176775</td>\n",
       "      <td>81.064415</td>\n",
       "      <td>28.089932</td>\n",
       "      <td>514.204177</td>\n",
       "    </tr>\n",
       "    <tr>\n",
       "      <th>min</th>\n",
       "      <td>25.000000</td>\n",
       "      <td>14.000000</td>\n",
       "      <td>0.670000</td>\n",
       "      <td>0.000000</td>\n",
       "    </tr>\n",
       "    <tr>\n",
       "      <th>25%</th>\n",
       "      <td>66.300000</td>\n",
       "      <td>22.700000</td>\n",
       "      <td>1.000000</td>\n",
       "      <td>0.085000</td>\n",
       "    </tr>\n",
       "    <tr>\n",
       "      <th>50%</th>\n",
       "      <td>123.000000</td>\n",
       "      <td>29.000000</td>\n",
       "      <td>1.920000</td>\n",
       "      <td>22.500000</td>\n",
       "    </tr>\n",
       "    <tr>\n",
       "      <th>75%</th>\n",
       "      <td>305.500000</td>\n",
       "      <td>51.850000</td>\n",
       "      <td>3.000000</td>\n",
       "      <td>212.500000</td>\n",
       "    </tr>\n",
       "    <tr>\n",
       "      <th>max</th>\n",
       "      <td>9090.000000</td>\n",
       "      <td>916.000000</td>\n",
       "      <td>691.000000</td>\n",
       "      <td>6270.000000</td>\n",
       "    </tr>\n",
       "  </tbody>\n",
       "</table>\n",
       "</div>"
      ],
      "text/plain": [
       "       White Mountains National Park  White River National Forest  \\\n",
       "count                    1095.000000                  1095.000000   \n",
       "mean                      282.006941                    57.492785   \n",
       "std                       526.176775                    81.064415   \n",
       "min                        25.000000                    14.000000   \n",
       "25%                        66.300000                    22.700000   \n",
       "50%                       123.000000                    29.000000   \n",
       "75%                       305.500000                    51.850000   \n",
       "max                      9090.000000                   916.000000   \n",
       "\n",
       "       Tonto National Forest  Mendicino National Park  \n",
       "count            1095.000000              1095.000000  \n",
       "mean                5.144813               221.987370  \n",
       "std                28.089932               514.204177  \n",
       "min                 0.670000                 0.000000  \n",
       "25%                 1.000000                 0.085000  \n",
       "50%                 1.920000                22.500000  \n",
       "75%                 3.000000               212.500000  \n",
       "max               691.000000              6270.000000  "
      ]
     },
     "execution_count": 6,
     "metadata": {},
     "output_type": "execute_result"
    }
   ],
   "source": [
    "#Pull the stats for each of the four sites.\n",
    "Q.describe()"
   ]
  },
  {
   "cell_type": "markdown",
   "metadata": {},
   "source": [
    "## Analysis\n",
    "Based on the flow duration chart and the descriptive statistics, the largest two sites are in Mendicino and the White Mountains of New Hampshire. However, if you look at the red line for the Mendicino site, it trails off and drops to zero between the 70% and 80% mark. It appears that this river had no water in it for approximately 22% of the days during these three years!\n",
    "\n",
    "The other two sites at White River and in the Tonto National Forest seem to be same size at higher flows, but the Tonto site, in Arizona, tends to have lower low flows."
   ]
  }
 ],
 "metadata": {
  "kernelspec": {
   "display_name": "Python 3",
   "language": "python",
   "name": "python3"
  },
  "language_info": {
   "codemirror_mode": {
    "name": "ipython",
    "version": 3
   },
   "file_extension": ".py",
   "mimetype": "text/x-python",
   "name": "python",
   "nbconvert_exporter": "python",
   "pygments_lexer": "ipython3",
   "version": "3.7.1"
  }
 },
 "nbformat": 4,
 "nbformat_minor": 2
}
