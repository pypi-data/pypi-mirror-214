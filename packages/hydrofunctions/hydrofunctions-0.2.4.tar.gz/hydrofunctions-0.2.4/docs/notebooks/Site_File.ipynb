{
 "cells": [
  {
   "cell_type": "markdown",
   "metadata": {},
   "source": [
    "# Requesting Site Information\n",
    "\n",
    "The USGS provides a site file for every stream gauge in its network. This file contains information about the location where the data are collected and about the watershed. You can request this information using the hydrofunctions `site_file()` function. This will return a `hydroRDB` object, which contains a table (dataframe) with a row for every site that you request, and a header that describes every column in the dataset.\n",
    "\n",
    "Some of the most useful information provided by the site file includes:\n",
    "\n",
    "- latitude, longitude, altitude, & datum\n",
    "- location data including state, county, and Hydrologic Unit Codes (HUC)\n",
    "- accuracy codes\n",
    "- additional codes describing the topographic setting and aquifer\n",
    "- watershed area & landcover\n",
    "- well data (if a well is present): depth & aquifer code\n",
    "\n",
    "For more information about a site and the data collected at the site, try these sources:\n",
    "\n",
    "- To access information about the data collected at a site, use the `data_catalog()` function.\n",
    "- To access the rating curve at a site (for translating water stage into discharge), use the `rating_curve()` function.\n",
    "- To access field data collected by USGS personnel during site visits, use the `field_meas()` function.\n",
    "- To access the annual peak discharges at a site, use the `peaks()` function.\n",
    "- To access daily, monthly, or annual statistics for data at a site, use the `stats()` function.\n"
   ]
  },
  {
   "cell_type": "code",
   "execution_count": 1,
   "metadata": {},
   "outputs": [],
   "source": [
    "import hydrofunctions as hf"
   ]
  },
  {
   "cell_type": "code",
   "execution_count": 2,
   "metadata": {},
   "outputs": [
    {
     "output_type": "stream",
     "name": "stdout",
     "text": [
      "Retrieved the site file for site #01585200 from https://waterservices.usgs.gov/nwis/site/?format=rdb&sites=01585200&siteOutput=expanded&siteStatus=all\n"
     ]
    }
   ],
   "source": [
    "output = hf.site_file('01585200')"
   ]
  },
  {
   "source": [
    "Our new 'output' is a hydroRDB object. It has several useful properties, including: \n",
    "\n",
    "- **.table**, which returns a dataframe of the data. Each row corresponds to a different site. \n",
    "- **.header**, which is the original descriptive header provided by the USGS. It lists and describes the variables in the dataset.\n",
    "- **.columns**, which is a list of the column names\n",
    "- **.dtypes**, which is a list of the data types and column widths for each variable in the USGS RDB format.\n",
    "\n",
    "If you print or evaluate the hydroRDB object, it will return a tuple of the header and dataframe table, like this:"
   ],
   "cell_type": "markdown",
   "metadata": {}
  },
  {
   "cell_type": "code",
   "execution_count": 3,
   "metadata": {},
   "outputs": [
    {
     "output_type": "execute_result",
     "data": {
      "text/plain": [
       "hydroRDB(header=#\n",
       "#\n",
       "# US Geological Survey\n",
       "# retrieved: 2021-08-09 22:28:38 -04:00\t(vaas01)\n",
       "#\n",
       "# The Site File stores location and general information about groundwater,\n",
       "# surface water, and meteorological sites\n",
       "# for sites in USA.\n",
       "#\n",
       "# File-format description:  http://help.waterdata.usgs.gov/faq/about-tab-delimited-output\n",
       "# Automated-retrieval info: http://waterservices.usgs.gov/rest/Site-Service.html\n",
       "#\n",
       "# Contact:   gs-w_support_nwisweb@usgs.gov\n",
       "#\n",
       "# The following selected fields are included in this output:\n",
       "#\n",
       "#  agency_cd       -- Agency\n",
       "#  site_no         -- Site identification number\n",
       "#  station_nm      -- Site name\n",
       "#  site_tp_cd      -- Site type\n",
       "#  lat_va          -- DMS latitude\n",
       "#  long_va         -- DMS longitude\n",
       "#  dec_lat_va      -- Decimal latitude\n",
       "#  dec_long_va     -- Decimal longitude\n",
       "#  coord_meth_cd   -- Latitude-longitude method\n",
       "#  coord_acy_cd    -- Latitude-longitude accuracy\n",
       "#  coord_datum_cd  -- Latitude-longitude datum\n",
       "#  dec_coord_datum_cd -- Decimal Latitude-longitude datum\n",
       "#  district_cd     -- District code\n",
       "#  state_cd        -- State code\n",
       "#  county_cd       -- County code\n",
       "#  country_cd      -- Country code\n",
       "#  land_net_ds     -- Land net location description\n",
       "#  map_nm          -- Name of location map\n",
       "#  map_scale_fc    -- Scale of location map\n",
       "#  alt_va          -- Altitude of Gage/land surface\n",
       "#  alt_meth_cd     -- Method altitude determined\n",
       "#  alt_acy_va      -- Altitude accuracy\n",
       "#  alt_datum_cd    -- Altitude datum\n",
       "#  huc_cd          -- Hydrologic unit code\n",
       "#  basin_cd        -- Drainage basin code\n",
       "#  topo_cd         -- Topographic setting code\n",
       "#  instruments_cd  -- Flags for instruments at site\n",
       "#  construction_dt -- Date of first construction\n",
       "#  inventory_dt    -- Date site established or inventoried\n",
       "#  drain_area_va   -- Drainage area\n",
       "#  contrib_drain_area_va -- Contributing drainage area\n",
       "#  tz_cd           -- Time Zone abbreviation\n",
       "#  local_time_fg   -- Site honors Daylight Savings Time\n",
       "#  reliability_cd  -- Data reliability code\n",
       "#  gw_file_cd      -- Data-other GW files\n",
       "#  nat_aqfr_cd     -- National aquifer code\n",
       "#  aqfr_cd         -- Local aquifer code\n",
       "#  aqfr_type_cd    -- Local aquifer type code\n",
       "#  well_depth_va   -- Well depth\n",
       "#  hole_depth_va   -- Hole depth\n",
       "#  depth_src_cd    -- Source of depth data\n",
       "#  project_no      -- Project number\n",
       "#,\n",
       "table=  agency_cd   site_no                                station_nm site_tp_cd  \\\n",
       "0      USGS  01585200  WEST BRANCH HERRING RUN AT IDLEWYLDE, MD         ST   \n",
       "\n",
       "     lat_va   long_va  dec_lat_va  dec_long_va coord_meth_cd coord_acy_cd  \\\n",
       "0  392225.1  763503.6   39.373639   -76.584333             M            S   \n",
       "\n",
       "   ... local_time_fg reliability_cd  gw_file_cd  nat_aqfr_cd  aqfr_cd  \\\n",
       "0  ...             Y            NaN    NNNNNNNN          NaN      NaN   \n",
       "\n",
       "  aqfr_type_cd  well_depth_va hole_depth_va  depth_src_cd  project_no  \n",
       "0          NaN            NaN           NaN           NaN         NaN  \n",
       "\n",
       "[1 rows x 42 columns]"
      ],
      "text/html": "<p>hydroRDB(header=<br /><p>#<br />#<br /># US Geological Survey<br /># retrieved: 2021-08-09 22:28:38 -04:00\t(vaas01)<br />#<br /># The Site File stores location and general information about groundwater,<br /># surface water, and meteorological sites<br /># for sites in USA.<br />#<br /># File-format description:  http://help.waterdata.usgs.gov/faq/about-tab-delimited-output<br /># Automated-retrieval info: http://waterservices.usgs.gov/rest/Site-Service.html<br />#<br /># Contact:   gs-w_support_nwisweb@usgs.gov<br />#<br /># The following selected fields are included in this output:<br />#<br />#  agency_cd       -- Agency<br />#  site_no         -- Site identification number<br />#  station_nm      -- Site name<br />#  site_tp_cd      -- Site type<br />#  lat_va          -- DMS latitude<br />#  long_va         -- DMS longitude<br />#  dec_lat_va      -- Decimal latitude<br />#  dec_long_va     -- Decimal longitude<br />#  coord_meth_cd   -- Latitude-longitude method<br />#  coord_acy_cd    -- Latitude-longitude accuracy<br />#  coord_datum_cd  -- Latitude-longitude datum<br />#  dec_coord_datum_cd -- Decimal Latitude-longitude datum<br />#  district_cd     -- District code<br />#  state_cd        -- State code<br />#  county_cd       -- County code<br />#  country_cd      -- Country code<br />#  land_net_ds     -- Land net location description<br />#  map_nm          -- Name of location map<br />#  map_scale_fc    -- Scale of location map<br />#  alt_va          -- Altitude of Gage/land surface<br />#  alt_meth_cd     -- Method altitude determined<br />#  alt_acy_va      -- Altitude accuracy<br />#  alt_datum_cd    -- Altitude datum<br />#  huc_cd          -- Hydrologic unit code<br />#  basin_cd        -- Drainage basin code<br />#  topo_cd         -- Topographic setting code<br />#  instruments_cd  -- Flags for instruments at site<br />#  construction_dt -- Date of first construction<br />#  inventory_dt    -- Date site established or inventoried<br />#  drain_area_va   -- Drainage area<br />#  contrib_drain_area_va -- Contributing drainage area<br />#  tz_cd           -- Time Zone abbreviation<br />#  local_time_fg   -- Site honors Daylight Savings Time<br />#  reliability_cd  -- Data reliability code<br />#  gw_file_cd      -- Data-other GW files<br />#  nat_aqfr_cd     -- National aquifer code<br />#  aqfr_cd         -- Local aquifer code<br />#  aqfr_type_cd    -- Local aquifer type code<br />#  well_depth_va   -- Well depth<br />#  hole_depth_va   -- Hole depth<br />#  depth_src_cd    -- Source of depth data<br />#  project_no      -- Project number<br />#</p></p><p>table=<br /><div>\n<style scoped>\n    .dataframe tbody tr th:only-of-type {\n        vertical-align: middle;\n    }\n\n    .dataframe tbody tr th {\n        vertical-align: top;\n    }\n\n    .dataframe thead th {\n        text-align: right;\n    }\n</style>\n<table border=\"1\" class=\"dataframe\">\n  <thead>\n    <tr style=\"text-align: right;\">\n      <th></th>\n      <th>agency_cd</th>\n      <th>site_no</th>\n      <th>station_nm</th>\n      <th>site_tp_cd</th>\n      <th>lat_va</th>\n      <th>long_va</th>\n      <th>dec_lat_va</th>\n      <th>dec_long_va</th>\n      <th>coord_meth_cd</th>\n      <th>coord_acy_cd</th>\n      <th>...</th>\n      <th>local_time_fg</th>\n      <th>reliability_cd</th>\n      <th>gw_file_cd</th>\n      <th>nat_aqfr_cd</th>\n      <th>aqfr_cd</th>\n      <th>aqfr_type_cd</th>\n      <th>well_depth_va</th>\n      <th>hole_depth_va</th>\n      <th>depth_src_cd</th>\n      <th>project_no</th>\n    </tr>\n  </thead>\n  <tbody>\n    <tr>\n      <th>0</th>\n      <td>USGS</td>\n      <td>01585200</td>\n      <td>WEST BRANCH HERRING RUN AT IDLEWYLDE, MD</td>\n      <td>ST</td>\n      <td>392225.1</td>\n      <td>763503.6</td>\n      <td>39.373639</td>\n      <td>-76.584333</td>\n      <td>M</td>\n      <td>S</td>\n      <td>...</td>\n      <td>Y</td>\n      <td>NaN</td>\n      <td>NNNNNNNN</td>\n      <td>NaN</td>\n      <td>NaN</td>\n      <td>NaN</td>\n      <td>NaN</td>\n      <td>NaN</td>\n      <td>NaN</td>\n      <td>NaN</td>\n    </tr>\n  </tbody>\n</table>\n<p>1 rows × 42 columns</p>\n</div>)</p>"
     },
     "metadata": {},
     "execution_count": 3
    }
   ],
   "source": [
    "output"
   ]
  },
  {
   "cell_type": "code",
   "execution_count": null,
   "metadata": {},
   "outputs": [],
   "source": []
  }
 ],
 "metadata": {
  "kernelspec": {
   "name": "python3",
   "display_name": "Python 3.8.6 64-bit ('py38dev': conda)"
  },
  "language_info": {
   "codemirror_mode": {
    "name": "ipython",
    "version": 3
   },
   "file_extension": ".py",
   "mimetype": "text/x-python",
   "name": "python",
   "nbconvert_exporter": "python",
   "pygments_lexer": "ipython3",
   "version": "3.8.6"
  },
  "interpreter": {
   "hash": "def94d315915766bd848fffe148fd774f8e937d4ecc4feeeaf41097111066301"
  }
 },
 "nbformat": 4,
 "nbformat_minor": 2
}