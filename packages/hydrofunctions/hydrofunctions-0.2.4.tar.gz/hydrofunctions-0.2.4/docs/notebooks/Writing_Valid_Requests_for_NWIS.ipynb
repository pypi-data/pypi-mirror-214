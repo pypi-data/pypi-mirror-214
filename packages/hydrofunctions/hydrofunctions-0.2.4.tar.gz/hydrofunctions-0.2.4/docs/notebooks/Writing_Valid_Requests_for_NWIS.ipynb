{
 "cells": [
  {
   "cell_type": "markdown",
   "metadata": {},
   "source": [
    "# Writing Valid Requests for NWIS\n",
    "The USGS National Water Information System (NWIS) is capable of handling a wide range of requests. A few features in Hydrofunctions are set up to help you write a successful request."
   ]
  },
  {
   "cell_type": "code",
   "execution_count": 1,
   "metadata": {},
   "outputs": [],
   "source": [
    "# First, import hydrofunctions.\n",
    "import hydrofunctions as hf"
   ]
  },
  {
   "cell_type": "markdown",
   "metadata": {
    "collapsed": true
   },
   "source": [
    "## What can we specify?\n",
    "The NWIS can handle data requests that specify:\n",
    "\n",
    "- Where: we need to specify which stations we are interested in.\n",
    "- Service: the NWIS provides daily averages ('dv') and 'instantaneous values' ('iv')\n",
    "- When: we can specify a range of dates, a period of time before now, or just get the most recent observation.\n",
    "- What: we can specify which parameter we want, or just get everything collected at the site.\n",
    "- the data service we want. \n",
    "\n",
    "The only **required** element is a station:"
   ]
  },
  {
   "cell_type": "code",
   "execution_count": 2,
   "metadata": {},
   "outputs": [
    {
     "name": "stdout",
     "output_type": "stream",
     "text": [
      "Requested data from https://waterservices.usgs.gov/nwis/dv/?format=json%2C1.1&sites=01585200\n"
     ]
    }
   ],
   "source": [
    "minimum_request = hf.NWIS('01585200')"
   ]
  },
  {
   "cell_type": "markdown",
   "metadata": {},
   "source": [
    "Since we only specified the *where*, the NWIS will assume the following elements:\n",
    "\n",
    "- **Service**: if not specified, provide the daily average value ('dv')\n",
    "- **When**: if a `start_date` or `period` is not given, then provide the most recent reading.\n",
    "- **What**: if you don't ask for a specific parameter (`parameterCd`), you will get everything.\n",
    "\n",
    "Let's see what our request came back with:"
   ]
  },
  {
   "cell_type": "code",
   "execution_count": 3,
   "metadata": {},
   "outputs": [
    {
     "data": {
      "text/plain": [
       "USGS:01585200: WEST BRANCH HERRING RUN AT IDLEWYLDE, MD\n",
       "    00060: <0 * Minutes>  Discharge, cubic feet per second\n",
       "Start: 2019-07-22 00:00:00+00:00\n",
       "End:   2019-07-22 00:00:00+00:00"
      ]
     },
     "execution_count": 3,
     "metadata": {},
     "output_type": "execute_result"
    }
   ],
   "source": [
    "minimum_request"
   ]
  },
  {
   "cell_type": "markdown",
   "metadata": {},
   "source": [
    "Here's what the data look like in table form:"
   ]
  },
  {
   "cell_type": "code",
   "execution_count": 4,
   "metadata": {},
   "outputs": [
    {
     "data": {
      "text/html": [
       "<div>\n",
       "<style scoped>\n",
       "    .dataframe tbody tr th:only-of-type {\n",
       "        vertical-align: middle;\n",
       "    }\n",
       "\n",
       "    .dataframe tbody tr th {\n",
       "        vertical-align: top;\n",
       "    }\n",
       "\n",
       "    .dataframe thead th {\n",
       "        text-align: right;\n",
       "    }\n",
       "</style>\n",
       "<table border=\"1\" class=\"dataframe\">\n",
       "  <thead>\n",
       "    <tr style=\"text-align: right;\">\n",
       "      <th></th>\n",
       "      <th>USGS:01585200:00060:00003_qualifiers</th>\n",
       "      <th>USGS:01585200:00060:00003</th>\n",
       "    </tr>\n",
       "    <tr>\n",
       "      <th>datetimeUTC</th>\n",
       "      <th></th>\n",
       "      <th></th>\n",
       "    </tr>\n",
       "  </thead>\n",
       "  <tbody>\n",
       "    <tr>\n",
       "      <th>2019-07-22 00:00:00+00:00</th>\n",
       "      <td>P</td>\n",
       "      <td>1.39</td>\n",
       "    </tr>\n",
       "  </tbody>\n",
       "</table>\n",
       "</div>"
      ],
      "text/plain": [
       "                          USGS:01585200:00060:00003_qualifiers  \\\n",
       "datetimeUTC                                                      \n",
       "2019-07-22 00:00:00+00:00                                    P   \n",
       "\n",
       "                           USGS:01585200:00060:00003  \n",
       "datetimeUTC                                           \n",
       "2019-07-22 00:00:00+00:00                       1.39  "
      ]
     },
     "execution_count": 4,
     "metadata": {},
     "output_type": "execute_result"
    }
   ],
   "source": [
    "minimum_request.df()"
   ]
  },
  {
   "cell_type": "markdown",
   "metadata": {},
   "source": [
    "## Different ways to specify which site you want\n",
    "You can specify a site four different ways:\n",
    "\n",
    "- as a number or list of site numbers\n",
    "- using `stateCd` and a two letter postal code to retrieve every site in the state\n",
    "- using `countyCd` and a FIPS code to retrieve every site in a county or list of counties\n",
    "- using `bBox` to retrieve everything inside of a bounding box of latitudes and longitudes.\n",
    "\n",
    "You are required to set **one** of these parameters, but only one.\n",
    "\n",
    "All of these parameters are demonstrated in [Selecting Sites](Selecting_Sites.ipynb)"
   ]
  },
  {
   "cell_type": "markdown",
   "metadata": {},
   "source": [
    "## Different ways to specify time\n",
    "You can specify time in three different ways:\n",
    "\n",
    "- if you specify nothing, you'll get the most recent reading.\n",
    "- `period` will return up to 999 days of the most recent data: `period='P11D'`\n",
    "- `start_date` will return all of the data starting at this date: `start_date='2014-12-31'`\n",
    "\n",
    "If you specify a `start_date`, you can also specify an `end_date`, which is given in the same format."
   ]
  },
  {
   "cell_type": "markdown",
   "metadata": {},
   "source": [
    "## What happens when you make a bad request?\n",
    "The power of the NWIS also makes it easy to make mistakes.\n",
    "So, we've added a series of helpful error messages to let you know when something went wrong, and why it went wrong."
   ]
  },
  {
   "cell_type": "code",
   "execution_count": 6,
   "metadata": {},
   "outputs": [
    {
     "ename": "TypeError",
     "evalue": "The NWIS service type accepts 'dv' for daily values, or 'iv' for instantaneous values. Actual value: xx",
     "output_type": "error",
     "traceback": [
      "\u001b[1;31m---------------------------------------------------------------------------\u001b[0m",
      "\u001b[1;31mTypeError\u001b[0m                                 Traceback (most recent call last)",
      "\u001b[1;32m<ipython-input-6-cbd93523cd36>\u001b[0m in \u001b[0;36m<module>\u001b[1;34m\u001b[0m\n\u001b[0;32m      1\u001b[0m \u001b[1;31m# For example, let's mistpye one of our parameters that worked so well above:\u001b[0m\u001b[1;33m\u001b[0m\u001b[1;33m\u001b[0m\u001b[1;33m\u001b[0m\u001b[0m\n\u001b[1;32m----> 2\u001b[1;33m \u001b[0mnotSoGoodNWIS\u001b[0m \u001b[1;33m=\u001b[0m \u001b[0mhf\u001b[0m\u001b[1;33m.\u001b[0m\u001b[0mNWIS\u001b[0m\u001b[1;33m(\u001b[0m\u001b[1;34m'01585200'\u001b[0m\u001b[1;33m,\u001b[0m \u001b[1;34m'xx'\u001b[0m\u001b[1;33m,\u001b[0m \u001b[0mperiod\u001b[0m\u001b[1;33m=\u001b[0m\u001b[1;34m'P200D'\u001b[0m\u001b[1;33m)\u001b[0m\u001b[1;33m.\u001b[0m\u001b[0mget_data\u001b[0m\u001b[1;33m(\u001b[0m\u001b[1;33m)\u001b[0m\u001b[1;33m\u001b[0m\u001b[1;33m\u001b[0m\u001b[0m\n\u001b[0m",
      "\u001b[1;32mc:\\users\\marty\\google drive\\pydev\\src\\hydrofunctions\\hydrofunctions\\station.py\u001b[0m in \u001b[0;36m__init__\u001b[1;34m(self, site, service, start_date, end_date, stateCd, countyCd, bBox, parameterCd, period, file)\u001b[0m\n\u001b[0;32m    129\u001b[0m                                         \u001b[0mbBox\u001b[0m\u001b[1;33m=\u001b[0m\u001b[0mbBox\u001b[0m\u001b[1;33m,\u001b[0m\u001b[1;33m\u001b[0m\u001b[1;33m\u001b[0m\u001b[0m\n\u001b[0;32m    130\u001b[0m                                         \u001b[0mparameterCd\u001b[0m\u001b[1;33m=\u001b[0m\u001b[0mparameterCd\u001b[0m\u001b[1;33m,\u001b[0m\u001b[1;33m\u001b[0m\u001b[1;33m\u001b[0m\u001b[0m\n\u001b[1;32m--> 131\u001b[1;33m                                         \u001b[0mperiod\u001b[0m\u001b[1;33m=\u001b[0m\u001b[0mperiod\u001b[0m\u001b[1;33m\u001b[0m\u001b[1;33m\u001b[0m\u001b[0m\n\u001b[0m\u001b[0;32m    132\u001b[0m                                         )\n\u001b[0;32m    133\u001b[0m             \u001b[1;32mtry\u001b[0m\u001b[1;33m:\u001b[0m\u001b[1;33m\u001b[0m\u001b[1;33m\u001b[0m\u001b[0m\n",
      "\u001b[1;32mc:\\users\\marty\\google drive\\pydev\\src\\hydrofunctions\\hydrofunctions\\hydrofunctions.py\u001b[0m in \u001b[0;36mget_nwis\u001b[1;34m(site, service, start_date, end_date, stateCd, countyCd, bBox, parameterCd, period)\u001b[0m\n\u001b[0;32m    217\u001b[0m     \"\"\"\n\u001b[0;32m    218\u001b[0m \u001b[1;33m\u001b[0m\u001b[0m\n\u001b[1;32m--> 219\u001b[1;33m     \u001b[0mservice\u001b[0m \u001b[1;33m=\u001b[0m \u001b[0mtyping\u001b[0m\u001b[1;33m.\u001b[0m\u001b[0mcheck_NWIS_service\u001b[0m\u001b[1;33m(\u001b[0m\u001b[0mservice\u001b[0m\u001b[1;33m)\u001b[0m\u001b[1;33m\u001b[0m\u001b[1;33m\u001b[0m\u001b[0m\n\u001b[0m\u001b[0;32m    220\u001b[0m \u001b[1;33m\u001b[0m\u001b[0m\n\u001b[0;32m    221\u001b[0m     \u001b[1;32mif\u001b[0m \u001b[1;33m(\u001b[0m\u001b[0mparameterCd\u001b[0m \u001b[1;33m==\u001b[0m \u001b[1;34m'all'\u001b[0m\u001b[1;33m)\u001b[0m\u001b[1;33m:\u001b[0m\u001b[1;33m\u001b[0m\u001b[1;33m\u001b[0m\u001b[0m\n",
      "\u001b[1;32mc:\\users\\marty\\google drive\\pydev\\src\\hydrofunctions\\hydrofunctions\\typing.py\u001b[0m in \u001b[0;36mcheck_NWIS_service\u001b[1;34m(input)\u001b[0m\n\u001b[0;32m    114\u001b[0m         raise TypeError(\"The NWIS service type accepts 'dv' for daily values, \"\n\u001b[0;32m    115\u001b[0m                         \u001b[1;34m\"or 'iv' for instantaneous values. Actual value: \"\u001b[0m\u001b[1;33m\u001b[0m\u001b[1;33m\u001b[0m\u001b[0m\n\u001b[1;32m--> 116\u001b[1;33m                         \"{}\".format(input))\n\u001b[0m\u001b[0;32m    117\u001b[0m \u001b[1;33m\u001b[0m\u001b[0m\n\u001b[0;32m    118\u001b[0m \u001b[1;33m\u001b[0m\u001b[0m\n",
      "\u001b[1;31mTypeError\u001b[0m: The NWIS service type accepts 'dv' for daily values, or 'iv' for instantaneous values. Actual value: xx"
     ]
    }
   ],
   "source": [
    "# For example, let's mistpye one of our parameters that worked so well above:\n",
    "notSoGoodNWIS = hf.NWIS('01585200', 'xx', period='P200D')"
   ]
  },
  {
   "cell_type": "markdown",
   "metadata": {},
   "source": [
    "Okay, maybe I shouldn't have typed 'xx' for our service.\n",
    "\n",
    "\n",
    "Some errors get caught by hydrofunctions, but some don't. Sometimes we end up asking NWIS for something that doesn't make sense, or something that it doesn't have, or maybe NWIS isn't available. In this case, hydrofunctions will receive an error message from NWIS and help you figure out what went wrong."
   ]
  },
  {
   "cell_type": "code",
   "execution_count": 7,
   "metadata": {},
   "outputs": [
    {
     "name": "stdout",
     "output_type": "stream",
     "text": [
      "Requested data from https://waterservices.usgs.gov/nwis/dv/?format=json%2C1.1&sites=01585200&startDT=2017-12-31&endDT=2017-01-01\n"
     ]
    },
    {
     "name": "stderr",
     "output_type": "stream",
     "text": [
      "c:\\users\\marty\\google drive\\pydev\\src\\hydrofunctions\\hydrofunctions\\hydrofunctions.py:627: SyntaxWarning: The NWIS returned a code of 400.\n",
      "400 Bad Request - This often occurs if the URL arguments are inconsistent. For example, if you submit a request using a startDT and an endDT with the period argument. An accompanying error should describe why the request was bad.\n",
      "Error message from NWIS: Bad Request\n",
      "\n",
      "URL used in this request: https://waterservices.usgs.gov/nwis/dv/?format=json%2C1.1&sites=01585200&startDT=2017-12-31&endDT=2017-01-01\n",
      "  warnings.warn(msg, SyntaxWarning)\n"
     ]
    }
   ],
   "source": [
    "# Let's ask for the impossible: the start date is AFTER the end date:\n",
    "badRequest = hf.get_nwis('01585200', 'dv', '2017-12-31', '2017-01-01')"
   ]
  },
  {
   "cell_type": "markdown",
   "metadata": {},
   "source": [
    "## Getting help\n",
    "I probably shouldn't have started with all of the things that go wrong! My point is that we've got ya.\n",
    "\n",
    "Where can you go to learn how to do things the RIGHT way?\n",
    "\n",
    "* [The User's Guide](https://hydrofunctions.readthedocs.io/en/latest/?badge=latest)\n",
    "* [The USGS guide to their waterservices](https://help.waterdata.usgs.gov/faq/automated-retrievals)\n",
    "\n",
    "**But we also have a few built-in helpers that you can use right here, right now:**\n",
    "\n",
    "* help() and ? will list the docstring for whatever object you are curious about \n",
    "* dir() and .\\<TAB\\> will tell you about available methods."
   ]
  },
  {
   "cell_type": "code",
   "execution_count": 8,
   "metadata": {},
   "outputs": [
    {
     "name": "stdout",
     "output_type": "stream",
     "text": [
      "Help on class NWIS in module hydrofunctions.station:\n",
      "\n",
      "class NWIS(Station)\n",
      " |  NWIS(site=None, service='dv', start_date=None, end_date=None, stateCd=None, countyCd=None, bBox=None, parameterCd='all', period=None, file=None)\n",
      " |  \n",
      " |  A class for working with data from the USGS NWIS service.\n",
      " |  \n",
      " |  description\n",
      " |  \n",
      " |  Args:\n",
      " |      site (str or list of strings):\n",
      " |          a valid site is '01585200' or ['01585200', '01646502']. Default is\n",
      " |          None. If site is not specified, you will need to select sites using\n",
      " |          stateCd or countyCd.\n",
      " |  \n",
      " |      service (str):\n",
      " |          can either be 'iv' or 'dv' for instantaneous or daily data.\n",
      " |          'dv'(default): daily values. Mean value for an entire day.\n",
      " |          'iv': instantaneous value measured at this time. Also known\n",
      " |          as 'Real-time data'. Can be measured as often as every\n",
      " |          five minutes by the USGS. 15 minutes is more typical.\n",
      " |  \n",
      " |      start_date (str):\n",
      " |         should take on the form 'yyyy-mm-dd'\n",
      " |  \n",
      " |      end_date (str):\n",
      " |          should take on the form 'yyyy-mm-dd'\n",
      " |  \n",
      " |      stateCd (str):\n",
      " |          a valid two-letter state postal abbreviation, such as 'MD'. Default\n",
      " |          is None. Selects all stations in this state. Because this type of\n",
      " |          site selection returns a large number of sites, you should limit\n",
      " |          the amount of data requested for each site.\n",
      " |  \n",
      " |      countyCd (str or list of strings):\n",
      " |          a valid county FIPS code. Default is None. Requests all stations\n",
      " |          within the county or list of counties. See https://en.wikipedia.org/wiki/FIPS_county_code\n",
      " |          for an explanation of FIPS codes.\n",
      " |  \n",
      " |      bBox (str, list, or tuple):\n",
      " |          a set of coordinates that defines a bounding box.\n",
      " |              * Coordinates are in decimal degrees.\n",
      " |              * Longitude values are negative (west of the prime meridian).\n",
      " |              * Latitude values are positive (north of the equator).\n",
      " |              * comma-delimited, no spaces, if provided as a string.\n",
      " |              * The order of the boundaries should be: \"West,South,East,North\"\n",
      " |              * Example: \"-83.000000,36.500000,-81.000000,38.500000\"\n",
      " |  \n",
      " |      parameterCd (str or list of strings):\n",
      " |          NWIS parameter code. Usually a five digit code. Default is 'all'.\n",
      " |          A valid code can also be given as a list: parameterCd=['00060','00065']\n",
      " |          This will request data for this parameter.\n",
      " |  \n",
      " |              * if value is 'all', or no value is submitted, then NWIS will                 return every parameter collected at this site. (default option)\n",
      " |              * stage: '00065'\n",
      " |              * discharge: '00060'\n",
      " |              * not all sites collect all parameters!\n",
      " |              * See https://nwis.waterdata.usgs.gov/usa/nwis/pmcodes for full list\n",
      " |  \n",
      " |      period (str):\n",
      " |          NWIS period code. Default is None.\n",
      " |              * Format is \"PxxD\", where xx is the number of days before                 today, with a maximum of 999 days accepted.\n",
      " |              * Either use start_date or period, but not both.\n",
      " |  \n",
      " |  Method resolution order:\n",
      " |      NWIS\n",
      " |      Station\n",
      " |      builtins.object\n",
      " |  \n",
      " |  Methods defined here:\n",
      " |  \n",
      " |  __init__(self, site=None, service='dv', start_date=None, end_date=None, stateCd=None, countyCd=None, bBox=None, parameterCd='all', period=None, file=None)\n",
      " |      Initialize self.  See help(type(self)) for accurate signature.\n",
      " |  \n",
      " |  __repr__(self)\n",
      " |      Return repr(self).\n",
      " |  \n",
      " |  df(self, *args)\n",
      " |      Return a subset of columns from the dataframe.\n",
      " |      \n",
      " |      Args:\n",
      " |          '': If no args are provided, the entire dataframe will be returned.\n",
      " |      \n",
      " |          str 'all': the entire dataframe will be returned.\n",
      " |      \n",
      " |          str 'data': all of the parameters will be returned, with no flags.\n",
      " |      \n",
      " |          str 'flags': Only the _qualifier flags will be returned. Unless the             flags arg is provided, only data columns will be returned. Visit             https://waterdata.usgs.gov/usa/nwis/uv?codes_help#dv_cd1 to see a             more complete listing of possible codes.\n",
      " |      \n",
      " |          str 'discharge' or 'q': discharge columns ('00060') will be returned.\n",
      " |      \n",
      " |          str 'stage': Gauge height columns ('00065') will be returned.\n",
      " |      \n",
      " |          int any five digit number: any matching parameter columns will be returned. '00065' returns stage, for example.\n",
      " |      \n",
      " |          int any eight to twelve digit number: any matching stations will be returned.\n",
      " |  \n",
      " |  get_data(self)\n",
      " |  \n",
      " |  read(self, file)\n",
      " |  \n",
      " |  save(self, file)\n",
      " |  \n",
      " |  ----------------------------------------------------------------------\n",
      " |  Data descriptors inherited from Station:\n",
      " |  \n",
      " |  __dict__\n",
      " |      dictionary for instance variables (if defined)\n",
      " |  \n",
      " |  __weakref__\n",
      " |      list of weak references to the object (if defined)\n",
      " |  \n",
      " |  ----------------------------------------------------------------------\n",
      " |  Data and other attributes inherited from Station:\n",
      " |  \n",
      " |  station_dict = {}\n",
      "\n"
     ]
    }
   ],
   "source": [
    "# Use the help() function to see all of the parameters for a function, their default values, \n",
    "# and a short explanation of what it all means. Or you can type ?hf.NWIS to access the same information.\n",
    "help(hf.NWIS)"
   ]
  },
  {
   "cell_type": "code",
   "execution_count": 9,
   "metadata": {},
   "outputs": [
    {
     "data": {
      "text/plain": [
       "['__class__',\n",
       " '__delattr__',\n",
       " '__dict__',\n",
       " '__dir__',\n",
       " '__doc__',\n",
       " '__eq__',\n",
       " '__format__',\n",
       " '__ge__',\n",
       " '__getattribute__',\n",
       " '__gt__',\n",
       " '__hash__',\n",
       " '__init__',\n",
       " '__init_subclass__',\n",
       " '__le__',\n",
       " '__lt__',\n",
       " '__module__',\n",
       " '__ne__',\n",
       " '__new__',\n",
       " '__reduce__',\n",
       " '__reduce_ex__',\n",
       " '__repr__',\n",
       " '__setattr__',\n",
       " '__sizeof__',\n",
       " '__str__',\n",
       " '__subclasshook__',\n",
       " '__weakref__',\n",
       " 'df',\n",
       " 'get_data',\n",
       " 'read',\n",
       " 'save',\n",
       " 'station_dict']"
      ]
     },
     "execution_count": 9,
     "metadata": {},
     "output_type": "execute_result"
    }
   ],
   "source": [
    "# Use the dir() function to see what sort of methods you have available to you,\n",
    "# or type hf.NWIS.<TAB> to see the same list.\n",
    "dir(hf.NWIS)"
   ]
  }
 ],
 "metadata": {
  "kernelspec": {
   "display_name": "Python 3",
   "language": "python",
   "name": "python3"
  },
  "language_info": {
   "codemirror_mode": {
    "name": "ipython",
    "version": 3
   },
   "file_extension": ".py",
   "mimetype": "text/x-python",
   "name": "python",
   "nbconvert_exporter": "python",
   "pygments_lexer": "ipython3",
   "version": "3.7.1"
  }
 },
 "nbformat": 4,
 "nbformat_minor": 2
}