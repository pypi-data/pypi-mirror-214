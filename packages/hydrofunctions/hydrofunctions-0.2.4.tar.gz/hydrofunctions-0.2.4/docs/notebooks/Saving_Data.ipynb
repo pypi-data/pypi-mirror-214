{
 "cells": [
  {
   "source": [
    "# Saving Data\n",
    "Once you request data, Hydrofunctions can automatically save the JSON in a compact zip file. The next time that you re-run your request, the data are retrieved automatically from the local file. Using a data cache like this saves on internet traffic, speeds up your code, and prevents spamming the NWIS just because you are making minor changes to  your code. As an alternative to zipped JSON, Hydrofunctions also makes it easy to use [Parquet](https://parquet.apache.org/), a compact file format for storing large datasets. Parquet is efficient: file sizes are small and can be read quickly. Parquet is great for large datasets, because it is possible to access parts of the file without reading the entire file.\n",
    "\n",
    "To save your data, simply provide a filename as a parameter to the NWIS object. If you supply a .parquet file extension, Hydrofunctions will save a parquet file; otherwise it will supply a .json.gz extension and save it in that format."
   ],
   "cell_type": "markdown",
   "metadata": {}
  },
  {
   "cell_type": "code",
   "execution_count": 1,
   "metadata": {},
   "outputs": [],
   "source": [
    "import hydrofunctions as hf"
   ]
  },
  {
   "cell_type": "code",
   "execution_count": 2,
   "metadata": {},
   "outputs": [
    {
     "output_type": "stream",
     "name": "stdout",
     "text": [
      "Requested data from https://waterservices.usgs.gov/nwis/dv/?format=json%2C1.1&sites=01585200&startDT=2018-01-01&endDT=2019-01-01\nSaving data to save_example.json.gz\n"
     ]
    },
    {
     "output_type": "execute_result",
     "data": {
      "text/plain": [
       "USGS:01585200: WEST BRANCH HERRING RUN AT IDLEWYLDE, MD\n",
       "    00060: <Day>  Discharge, cubic feet per second \n",
       "Start: 2018-01-01 00:00:00+00:00\n",
       "End:   2019-01-01 00:00:00+00:00"
      ]
     },
     "metadata": {},
     "execution_count": 2
    }
   ],
   "source": [
    "new = hf.NWIS('01585200', 'dv', start_date='2018-01-01', end_date='2019-01-01', file='save_example.json.gz')\n",
    "new"
   ]
  },
  {
   "cell_type": "markdown",
   "metadata": {},
   "source": [
    "## Automatic file reading & writing\n",
    "\n",
    "The first time that you make the request, hydrofunctions will save the incoming data into a new file, and you will get a message, `Saving data to filename`.\n",
    "\n",
    "The second time that you make the request, hydrofunctions will read the data from the file instead of requesting it, and you will get a message, `Reading data from filename`."
   ]
  },
  {
   "cell_type": "code",
   "execution_count": 3,
   "metadata": {},
   "outputs": [
    {
     "output_type": "stream",
     "name": "stdout",
     "text": [
      "Reading data from save_example.json.gz\n"
     ]
    },
    {
     "output_type": "execute_result",
     "data": {
      "text/plain": [
       "USGS:01585200: WEST BRANCH HERRING RUN AT IDLEWYLDE, MD\n",
       "    00060: <Day>  Discharge, cubic feet per second \n",
       "Start: 2018-01-01 00:00:00+00:00\n",
       "End:   2019-01-01 00:00:00+00:00"
      ]
     },
     "metadata": {},
     "execution_count": 3
    }
   ],
   "source": [
    "new = hf.NWIS('01585200', 'dv', start_date='2018-01-01', end_date='2019-01-01', file='save_example.json.gz')\n",
    "new"
   ]
  },
  {
   "cell_type": "markdown",
   "metadata": {},
   "source": [
    "In effect, the local file will act as a cache for your data, reducing your network traffic.\n",
    "\n",
    "## Manual file reading & writing\n",
    "It is also possible to force hydrofunctions to read or write a file by using the `NWIS.read()` and `NWIS.save()` methods."
   ]
  },
  {
   "cell_type": "code",
   "execution_count": 4,
   "metadata": {},
   "outputs": [
    {
     "output_type": "execute_result",
     "data": {
      "text/plain": [
       "USGS:01585200: WEST BRANCH HERRING RUN AT IDLEWYLDE, MD\n",
       "    00060: <Day>  Discharge, cubic feet per second \n",
       "Start: 2018-01-01 00:00:00+00:00\n",
       "End:   2019-01-01 00:00:00+00:00"
      ]
     },
     "metadata": {},
     "execution_count": 4
    }
   ],
   "source": [
    "new.save('save_example.parquet')"
   ]
  },
  {
   "cell_type": "code",
   "execution_count": 5,
   "metadata": {},
   "outputs": [
    {
     "output_type": "execute_result",
     "data": {
      "text/plain": [
       "USGS:01585200: WEST BRANCH HERRING RUN AT IDLEWYLDE, MD\n",
       "    00060: <Day>  Discharge, cubic feet per second \n",
       "Start: 2018-01-01 00:00:00+00:00\n",
       "End:   2019-01-01 00:00:00+00:00"
      ]
     },
     "metadata": {},
     "execution_count": 5
    }
   ],
   "source": [
    "new.read('save_example.parquet')\n",
    "new"
   ]
  }
 ],
 "metadata": {
  "kernelspec": {
   "display_name": "Python 3",
   "language": "python",
   "name": "python3"
  },
  "language_info": {
   "codemirror_mode": {
    "name": "ipython",
    "version": 3
   },
   "file_extension": ".py",
   "mimetype": "text/x-python",
   "name": "python",
   "nbconvert_exporter": "python",
   "pygments_lexer": "ipython3",
   "version": "3.8.6-final"
  }
 },
 "nbformat": 4,
 "nbformat_minor": 2
}