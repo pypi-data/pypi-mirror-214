{
 "cells": [
  {
   "cell_type": "markdown",
   "metadata": {},
   "source": [
    "# Comparing Three Nested Watersheds\n",
    "In this notebook we'll examine three sites along the Gwynns Falls, in Maryland. 'Falls' in this case is a local word for 'River', like in the Jones Falls or Gunpowder Falls. It doesn't refer to a waterfall!\n",
    "\n",
    "Because the three sites are in a row on the same river, the upstream site has a watershed that is nested inside of the middle site, which is nested inside the downstream site, which has the largest watershed."
   ]
  },
  {
   "cell_type": "code",
   "execution_count": 1,
   "metadata": {},
   "outputs": [],
   "source": [
    "import hydrofunctions as hf\n",
    "%matplotlib inline"
   ]
  },
  {
   "cell_type": "markdown",
   "metadata": {},
   "source": [
    "The three stream gauges are:\n",
    "\n",
    "- the farthest upstream is GWYNNS FALLS NEAR DELIGHT, MD, dv01589197\n",
    "- the middle of stream is GWYNNS FALLS AT VILLA NOVA, MD, dv01589300\n",
    "- the farthest downstream is GWYNNS FALLS AT WASHINGTON BLVD AT BALTIMORE, MD, dv01589352"
   ]
  },
  {
   "cell_type": "code",
   "execution_count": 2,
   "metadata": {},
   "outputs": [
    {
     "name": "stdout",
     "output_type": "stream",
     "text": [
      "Requested data from https://waterservices.usgs.gov/nwis/dv/?format=json%2C1.1&sites=01589197%2C01589300%2C01589352&startDT=2001-01-01&endDT=2003-12-31\n"
     ]
    },
    {
     "data": {
      "text/plain": [
       "USGS:01589197: GWYNNS FALLS NEAR DELIGHT, MD\n",
       "    00060: <Day>  Discharge, cubic feet per second\n",
       "USGS:01589300: GWYNNS FALLS AT VILLA NOVA, MD\n",
       "    00060: <Day>  Discharge, cubic feet per second\n",
       "USGS:01589352: GWYNNS FALLS AT WASHINGTON BLVD AT BALTIMORE, MD\n",
       "    00060: <Day>  Discharge, cubic feet per second\n",
       "Start: 2001-01-01 00:00:00+00:00\n",
       "End:   2003-12-31 00:00:00+00:00"
      ]
     },
     "execution_count": 2,
     "metadata": {},
     "output_type": "execute_result"
    }
   ],
   "source": [
    "streamid = ['01589197', '01589300','01589352']\n",
    "# request data for our two sites for a three-year period.\n",
    "sites = hf.NWIS(streamid, 'dv', start_date='2001-01-01', end_date='2003-12-31')\n",
    "sites"
   ]
  },
  {
   "cell_type": "code",
   "execution_count": 3,
   "metadata": {
    "scrolled": false
   },
   "outputs": [
    {
     "data": {
      "text/html": [
       "<div>\n",
       "<style scoped>\n",
       "    .dataframe tbody tr th:only-of-type {\n",
       "        vertical-align: middle;\n",
       "    }\n",
       "\n",
       "    .dataframe tbody tr th {\n",
       "        vertical-align: top;\n",
       "    }\n",
       "\n",
       "    .dataframe thead th {\n",
       "        text-align: right;\n",
       "    }\n",
       "</style>\n",
       "<table border=\"1\" class=\"dataframe\">\n",
       "  <thead>\n",
       "    <tr style=\"text-align: right;\">\n",
       "      <th></th>\n",
       "      <th>Upper</th>\n",
       "      <th>Middle</th>\n",
       "      <th>Lower</th>\n",
       "    </tr>\n",
       "    <tr>\n",
       "      <th>datetimeUTC</th>\n",
       "      <th></th>\n",
       "      <th></th>\n",
       "      <th></th>\n",
       "    </tr>\n",
       "  </thead>\n",
       "  <tbody>\n",
       "    <tr>\n",
       "      <th>2001-01-01 00:00:00+00:00</th>\n",
       "      <td>1.8</td>\n",
       "      <td>18.0</td>\n",
       "      <td>29.0</td>\n",
       "    </tr>\n",
       "    <tr>\n",
       "      <th>2001-01-02 00:00:00+00:00</th>\n",
       "      <td>1.8</td>\n",
       "      <td>17.0</td>\n",
       "      <td>28.0</td>\n",
       "    </tr>\n",
       "    <tr>\n",
       "      <th>2001-01-03 00:00:00+00:00</th>\n",
       "      <td>1.8</td>\n",
       "      <td>16.0</td>\n",
       "      <td>27.0</td>\n",
       "    </tr>\n",
       "    <tr>\n",
       "      <th>2001-01-04 00:00:00+00:00</th>\n",
       "      <td>1.8</td>\n",
       "      <td>17.0</td>\n",
       "      <td>31.0</td>\n",
       "    </tr>\n",
       "    <tr>\n",
       "      <th>2001-01-05 00:00:00+00:00</th>\n",
       "      <td>1.8</td>\n",
       "      <td>16.0</td>\n",
       "      <td>31.0</td>\n",
       "    </tr>\n",
       "  </tbody>\n",
       "</table>\n",
       "</div>"
      ],
      "text/plain": [
       "                           Upper  Middle  Lower\n",
       "datetimeUTC                                    \n",
       "2001-01-01 00:00:00+00:00    1.8    18.0   29.0\n",
       "2001-01-02 00:00:00+00:00    1.8    17.0   28.0\n",
       "2001-01-03 00:00:00+00:00    1.8    16.0   27.0\n",
       "2001-01-04 00:00:00+00:00    1.8    17.0   31.0\n",
       "2001-01-05 00:00:00+00:00    1.8    16.0   31.0"
      ]
     },
     "execution_count": 3,
     "metadata": {},
     "output_type": "execute_result"
    }
   ],
   "source": [
    "#create a dataframe of the sites\n",
    "Q = sites.df('discharge')\n",
    "#rename the columns\n",
    "Q.columns=['Upper', 'Middle', 'Lower']\n",
    "#show the first few rows of the data\n",
    "Q.head()"
   ]
  },
  {
   "cell_type": "code",
   "execution_count": 4,
   "metadata": {},
   "outputs": [
    {
     "data": {
      "text/html": [
       "<div>\n",
       "<style scoped>\n",
       "    .dataframe tbody tr th:only-of-type {\n",
       "        vertical-align: middle;\n",
       "    }\n",
       "\n",
       "    .dataframe tbody tr th {\n",
       "        vertical-align: top;\n",
       "    }\n",
       "\n",
       "    .dataframe thead th {\n",
       "        text-align: right;\n",
       "    }\n",
       "</style>\n",
       "<table border=\"1\" class=\"dataframe\">\n",
       "  <thead>\n",
       "    <tr style=\"text-align: right;\">\n",
       "      <th></th>\n",
       "      <th>Upper</th>\n",
       "      <th>Middle</th>\n",
       "      <th>Lower</th>\n",
       "    </tr>\n",
       "  </thead>\n",
       "  <tbody>\n",
       "    <tr>\n",
       "      <th>count</th>\n",
       "      <td>1095.000000</td>\n",
       "      <td>1095.000000</td>\n",
       "      <td>1095.000000</td>\n",
       "    </tr>\n",
       "    <tr>\n",
       "      <th>mean</th>\n",
       "      <td>5.211306</td>\n",
       "      <td>44.910210</td>\n",
       "      <td>92.074055</td>\n",
       "    </tr>\n",
       "    <tr>\n",
       "      <th>std</th>\n",
       "      <td>10.177445</td>\n",
       "      <td>79.268103</td>\n",
       "      <td>173.157576</td>\n",
       "    </tr>\n",
       "    <tr>\n",
       "      <th>min</th>\n",
       "      <td>0.250000</td>\n",
       "      <td>1.860000</td>\n",
       "      <td>8.730000</td>\n",
       "    </tr>\n",
       "    <tr>\n",
       "      <th>25%</th>\n",
       "      <td>1.590000</td>\n",
       "      <td>14.000000</td>\n",
       "      <td>27.800000</td>\n",
       "    </tr>\n",
       "    <tr>\n",
       "      <th>50%</th>\n",
       "      <td>2.720000</td>\n",
       "      <td>24.400000</td>\n",
       "      <td>43.000000</td>\n",
       "    </tr>\n",
       "    <tr>\n",
       "      <th>75%</th>\n",
       "      <td>5.000000</td>\n",
       "      <td>42.850000</td>\n",
       "      <td>80.800000</td>\n",
       "    </tr>\n",
       "    <tr>\n",
       "      <th>max</th>\n",
       "      <td>161.000000</td>\n",
       "      <td>1140.000000</td>\n",
       "      <td>2140.000000</td>\n",
       "    </tr>\n",
       "  </tbody>\n",
       "</table>\n",
       "</div>"
      ],
      "text/plain": [
       "             Upper       Middle        Lower\n",
       "count  1095.000000  1095.000000  1095.000000\n",
       "mean      5.211306    44.910210    92.074055\n",
       "std      10.177445    79.268103   173.157576\n",
       "min       0.250000     1.860000     8.730000\n",
       "25%       1.590000    14.000000    27.800000\n",
       "50%       2.720000    24.400000    43.000000\n",
       "75%       5.000000    42.850000    80.800000\n",
       "max     161.000000  1140.000000  2140.000000"
      ]
     },
     "execution_count": 4,
     "metadata": {},
     "output_type": "execute_result"
    }
   ],
   "source": [
    "#look at the descriptive statistics for each part of the stream. \n",
    "#Note that the mean and standard deviation increase as you move down the stream\n",
    "Q.describe()"
   ]
  },
  {
   "cell_type": "code",
   "execution_count": 5,
   "metadata": {},
   "outputs": [
    {
     "data": {
      "text/plain": [
       "(<Figure size 432x288 with 1 Axes>,\n",
       " <matplotlib.axes._subplots.AxesSubplot at 0x1fe91e24978>)"
      ]
     },
     "execution_count": 5,
     "metadata": {},
     "output_type": "execute_result"
    },
    {
     "data": {
      "image/png": "[encoded data removed]",
      "text/plain": [
       "<Figure size 432x288 with 1 Axes>"
      ]
     },
     "metadata": {
      "needs_background": "light"
     },
     "output_type": "display_data"
    }
   ],
   "source": [
    "#create a flow duration for each of the streams\n",
    "hf.flow_duration(Q)"
   ]
  },
  {
   "cell_type": "code",
   "execution_count": 6,
   "metadata": {
    "scrolled": true
   },
   "outputs": [
    {
     "name": "stderr",
     "output_type": "stream",
     "text": [
      "C:\\Users\\Marty\\Anaconda3\\envs\\py37hfdev\\lib\\site-packages\\pandas\\core\\arrays\\datetimes.py:1172: UserWarning: Converting to PeriodArray/Index representation will drop timezone information.\n",
      "  \"will drop timezone information.\", UserWarning)\n"
     ]
    },
    {
     "data": {
      "text/plain": [
       "<matplotlib.axes._subplots.AxesSubplot at 0x1fe920d60b8>"
      ]
     },
     "execution_count": 6,
     "metadata": {},
     "output_type": "execute_result"
    },
    {
     "data": {
      "image/png": "[encoded data removed]",
      "text/plain": [
       "<Figure size 432x288 with 1 Axes>"
      ]
     },
     "metadata": {
      "needs_background": "light"
     },
     "output_type": "display_data"
    }
   ],
   "source": [
    "# create a hydrograph of the upper portion of the stream.\n",
    "# the .loc method selects a subset of a dataframe.\n",
    "# The first item selects rows, with ':' selecting every row.\n",
    "# The second item selects columns, with 'Upper' selecting the column with the 'Upper' label.\n",
    "# The .plot() method plots the values in the columns on the y axis, with the rows as the x axis.\n",
    "Q.loc[:, 'Upper'].plot()"
   ]
  }
 ],
 "metadata": {
  "kernelspec": {
   "display_name": "Python 3",
   "language": "python",
   "name": "python3"
  },
  "language_info": {
   "codemirror_mode": {
    "name": "ipython",
    "version": 3
   },
   "file_extension": ".py",
   "mimetype": "text/x-python",
   "name": "python",
   "nbconvert_exporter": "python",
   "pygments_lexer": "ipython3",
   "version": "3.7.1"
  }
 },
 "nbformat": 4,
 "nbformat_minor": 2
}
