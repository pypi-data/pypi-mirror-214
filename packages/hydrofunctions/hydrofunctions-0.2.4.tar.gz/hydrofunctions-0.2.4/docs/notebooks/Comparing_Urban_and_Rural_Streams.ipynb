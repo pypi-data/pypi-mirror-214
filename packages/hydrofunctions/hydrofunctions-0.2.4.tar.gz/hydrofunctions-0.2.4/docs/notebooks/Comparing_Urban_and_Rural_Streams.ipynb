{
 "cells": [
  {
   "cell_type": "markdown",
   "metadata": {},
   "source": [
    "# Comparing Urban and Rural Streams\n",
    "\n",
    "In this notebook we'll compare the hydrology of two streams in the Baltimore area:\n",
    "* [Grave Run](https://waterdata.usgs.gov/md/nwis/uv?site_no=01581830), a rural stream with only 0.3% impervious surfaces, and\n",
    "* [Dead Run](https://waterdata.usgs.gov/md/nwis/uv?site_no=01589330), an urban stream that is 39% impervious surfaces.\n",
    "\n",
    "These two watersheds are similar in size, topography, and geology. They also have very emo names."
   ]
  },
  {
   "cell_type": "code",
   "execution_count": 1,
   "metadata": {},
   "outputs": [
    {
     "data": {
      "text/plain": [
       "'0.2.0'"
      ]
     },
     "execution_count": 1,
     "metadata": {},
     "output_type": "execute_result"
    }
   ],
   "source": [
    "# Start with the usual.\n",
    "import hydrofunctions as hf\n",
    "%matplotlib inline\n",
    "hf.__version__"
   ]
  },
  {
   "cell_type": "code",
   "execution_count": null,
   "metadata": {},
   "outputs": [],
   "source": [
    "# request data for our two sites for a three-year period.\n",
    "sites = ['01589330', '01581830']\n",
    "request = hf.NWIS(sites, start_date='2002-01-01', end_date='2005-01-01', file='Urban_Rural.parquet')\n",
    "request # Describe the dataset that we've received."
   ]
  },
  {
   "cell_type": "code",
   "execution_count": 4,
   "metadata": {},
   "outputs": [
    {
     "data": {
      "text/html": [
       "<div>\n",
       "<style scoped>\n",
       "    .dataframe tbody tr th:only-of-type {\n",
       "        vertical-align: middle;\n",
       "    }\n",
       "\n",
       "    .dataframe tbody tr th {\n",
       "        vertical-align: top;\n",
       "    }\n",
       "\n",
       "    .dataframe thead th {\n",
       "        text-align: right;\n",
       "    }\n",
       "</style>\n",
       "<table border=\"1\" class=\"dataframe\">\n",
       "  <thead>\n",
       "    <tr style=\"text-align: right;\">\n",
       "      <th></th>\n",
       "      <th>USGS:01581830:00060:00003</th>\n",
       "      <th>USGS:01589330:00060:00003</th>\n",
       "    </tr>\n",
       "    <tr>\n",
       "      <th>datetimeUTC</th>\n",
       "      <th></th>\n",
       "      <th></th>\n",
       "    </tr>\n",
       "  </thead>\n",
       "  <tbody>\n",
       "    <tr>\n",
       "      <th>2002-01-01 00:00:00+00:00</th>\n",
       "      <td>3.20</td>\n",
       "      <td>0.60</td>\n",
       "    </tr>\n",
       "    <tr>\n",
       "      <th>2002-01-02 00:00:00+00:00</th>\n",
       "      <td>3.20</td>\n",
       "      <td>0.61</td>\n",
       "    </tr>\n",
       "    <tr>\n",
       "      <th>2002-01-03 00:00:00+00:00</th>\n",
       "      <td>3.30</td>\n",
       "      <td>0.60</td>\n",
       "    </tr>\n",
       "    <tr>\n",
       "      <th>2002-01-04 00:00:00+00:00</th>\n",
       "      <td>3.20</td>\n",
       "      <td>0.64</td>\n",
       "    </tr>\n",
       "    <tr>\n",
       "      <th>2002-01-05 00:00:00+00:00</th>\n",
       "      <td>4.18</td>\n",
       "      <td>0.60</td>\n",
       "    </tr>\n",
       "  </tbody>\n",
       "</table>\n",
       "</div>"
      ],
      "text/plain": [
       "                           USGS:01581830:00060:00003  \\\n",
       "datetimeUTC                                            \n",
       "2002-01-01 00:00:00+00:00                       3.20   \n",
       "2002-01-02 00:00:00+00:00                       3.20   \n",
       "2002-01-03 00:00:00+00:00                       3.30   \n",
       "2002-01-04 00:00:00+00:00                       3.20   \n",
       "2002-01-05 00:00:00+00:00                       4.18   \n",
       "\n",
       "                           USGS:01589330:00060:00003  \n",
       "datetimeUTC                                           \n",
       "2002-01-01 00:00:00+00:00                       0.60  \n",
       "2002-01-02 00:00:00+00:00                       0.61  \n",
       "2002-01-03 00:00:00+00:00                       0.60  \n",
       "2002-01-04 00:00:00+00:00                       0.64  \n",
       "2002-01-05 00:00:00+00:00                       0.60  "
      ]
     },
     "execution_count": 4,
     "metadata": {},
     "output_type": "execute_result"
    }
   ],
   "source": [
    "# We'll store our discharge data in a dataframe named 'Q'\n",
    "Q = request.df('discharge')\n",
    "Q.head()  # Print the first five rows to verify."
   ]
  },
  {
   "cell_type": "code",
   "execution_count": 5,
   "metadata": {},
   "outputs": [
    {
     "data": {
      "text/html": [
       "<div>\n",
       "<style scoped>\n",
       "    .dataframe tbody tr th:only-of-type {\n",
       "        vertical-align: middle;\n",
       "    }\n",
       "\n",
       "    .dataframe tbody tr th {\n",
       "        vertical-align: top;\n",
       "    }\n",
       "\n",
       "    .dataframe thead th {\n",
       "        text-align: right;\n",
       "    }\n",
       "</style>\n",
       "<table border=\"1\" class=\"dataframe\">\n",
       "  <thead>\n",
       "    <tr style=\"text-align: right;\">\n",
       "      <th></th>\n",
       "      <th>Rural</th>\n",
       "      <th>Urban</th>\n",
       "    </tr>\n",
       "    <tr>\n",
       "      <th>datetimeUTC</th>\n",
       "      <th></th>\n",
       "      <th></th>\n",
       "    </tr>\n",
       "  </thead>\n",
       "  <tbody>\n",
       "    <tr>\n",
       "      <th>2002-01-01 00:00:00+00:00</th>\n",
       "      <td>3.20</td>\n",
       "      <td>0.60</td>\n",
       "    </tr>\n",
       "    <tr>\n",
       "      <th>2002-01-02 00:00:00+00:00</th>\n",
       "      <td>3.20</td>\n",
       "      <td>0.61</td>\n",
       "    </tr>\n",
       "    <tr>\n",
       "      <th>2002-01-03 00:00:00+00:00</th>\n",
       "      <td>3.30</td>\n",
       "      <td>0.60</td>\n",
       "    </tr>\n",
       "    <tr>\n",
       "      <th>2002-01-04 00:00:00+00:00</th>\n",
       "      <td>3.20</td>\n",
       "      <td>0.64</td>\n",
       "    </tr>\n",
       "    <tr>\n",
       "      <th>2002-01-05 00:00:00+00:00</th>\n",
       "      <td>4.18</td>\n",
       "      <td>0.60</td>\n",
       "    </tr>\n",
       "  </tbody>\n",
       "</table>\n",
       "</div>"
      ],
      "text/plain": [
       "                           Rural  Urban\n",
       "datetimeUTC                            \n",
       "2002-01-01 00:00:00+00:00   3.20   0.60\n",
       "2002-01-02 00:00:00+00:00   3.20   0.61\n",
       "2002-01-03 00:00:00+00:00   3.30   0.60\n",
       "2002-01-04 00:00:00+00:00   3.20   0.64\n",
       "2002-01-05 00:00:00+00:00   4.18   0.60"
      ]
     },
     "execution_count": 5,
     "metadata": {},
     "output_type": "execute_result"
    }
   ],
   "source": [
    "# Rename the columns to 'Urban' and 'Rural' so we remember which is which!\n",
    "Q = Q.rename(columns={\"USGS:01589330:00060:00003\": \"Urban\", \"USGS:01581830:00060:00003\": \"Rural\"})\n",
    "Q.head()  # List the first five rows."
   ]
  },
  {
   "cell_type": "code",
   "execution_count": 6,
   "metadata": {},
   "outputs": [
    {
     "name": "stderr",
     "output_type": "stream",
     "text": [
      "C:\\Users\\Marty\\Anaconda3\\envs\\py37hfdev\\lib\\site-packages\\pandas\\core\\arrays\\datetimes.py:1172: UserWarning: Converting to PeriodArray/Index representation will drop timezone information.\n",
      "  \"will drop timezone information.\", UserWarning)\n"
     ]
    },
    {
     "data": {
      "text/plain": [
       "<matplotlib.axes._subplots.AxesSubplot at 0x1a99c4fd278>"
      ]
     },
     "execution_count": 6,
     "metadata": {},
     "output_type": "execute_result"
    },
    {
     "data": {
      "image/png": "[encoded data removed]",
      "text/plain": [
       "<Figure size 432x288 with 1 Axes>"
      ]
     },
     "metadata": {
      "needs_background": "light"
     },
     "output_type": "display_data"
    }
   ],
   "source": [
    "# Let's plot our data to create a hydrograph. plot() is a method that is built-in to dataframes.\n",
    "Q.plot()"
   ]
  },
  {
   "cell_type": "code",
   "execution_count": 7,
   "metadata": {
    "scrolled": true
   },
   "outputs": [
    {
     "data": {
      "text/plain": [
       "(<Figure size 432x288 with 1 Axes>,\n",
       " <matplotlib.axes._subplots.AxesSubplot at 0x1a99c68d828>)"
      ]
     },
     "execution_count": 7,
     "metadata": {},
     "output_type": "execute_result"
    },
    {
     "data": {
      "image/png": "[encoded data removed]",
      "text/plain": [
       "<Figure size 432x288 with 1 Axes>"
      ]
     },
     "metadata": {
      "needs_background": "light"
     },
     "output_type": "display_data"
    }
   ],
   "source": [
    "# Let's create a flow duration chart for our two sites!\n",
    "# .flow_duration is a function included in Hydrofunctions. It accepts dataframes as input.\n",
    "hf.flow_duration(Q)"
   ]
  },
  {
   "cell_type": "markdown",
   "metadata": {},
   "source": [
    "## Description of the two sites\n",
    "If you look carefully at the **hydrograph** above, you can see that the orange urban site tends to have lower baseflow,\n",
    "but it also tends to have higher peaks during storms. Unfortunately, this obscures the hydrograph for the rural site a little!\n",
    "\n",
    "The second diagram is a **flow duration chart**. The default Y axis is logarithmic, with values ranging from less than 1 to about 400 cfs. The default X axis uses a logit scale to plot the chance of exceedance. Values range from greater than zero to less than one, with a value of 0.9 meaning that 90% of the flows are higher than this value. The logit scale stretches out the extreme high and extreme low values so that the distance from the center to one standard deviation is approximately the same as from two standard deviations out to three standard deviations. This approximates the probability scale that Flow Duration charts are often plotted on.\n",
    "\n",
    "Comparing the two sites, you can see that the orange urban site has lower baseflows than the blue rural site, but also has higher peak flows."
   ]
  },
  {
   "cell_type": "code",
   "execution_count": 8,
   "metadata": {},
   "outputs": [
    {
     "data": {
      "text/html": [
       "<div>\n",
       "<style scoped>\n",
       "    .dataframe tbody tr th:only-of-type {\n",
       "        vertical-align: middle;\n",
       "    }\n",
       "\n",
       "    .dataframe tbody tr th {\n",
       "        vertical-align: top;\n",
       "    }\n",
       "\n",
       "    .dataframe thead th {\n",
       "        text-align: right;\n",
       "    }\n",
       "</style>\n",
       "<table border=\"1\" class=\"dataframe\">\n",
       "  <thead>\n",
       "    <tr style=\"text-align: right;\">\n",
       "      <th></th>\n",
       "      <th>Rural</th>\n",
       "      <th>Urban</th>\n",
       "    </tr>\n",
       "  </thead>\n",
       "  <tbody>\n",
       "    <tr>\n",
       "      <th>count</th>\n",
       "      <td>1097.000000</td>\n",
       "      <td>1097.000000</td>\n",
       "    </tr>\n",
       "    <tr>\n",
       "      <th>mean</th>\n",
       "      <td>12.005588</td>\n",
       "      <td>10.456764</td>\n",
       "    </tr>\n",
       "    <tr>\n",
       "      <th>std</th>\n",
       "      <td>10.935054</td>\n",
       "      <td>27.932960</td>\n",
       "    </tr>\n",
       "    <tr>\n",
       "      <th>min</th>\n",
       "      <td>0.540000</td>\n",
       "      <td>0.170000</td>\n",
       "    </tr>\n",
       "    <tr>\n",
       "      <th>25%</th>\n",
       "      <td>5.750000</td>\n",
       "      <td>1.400000</td>\n",
       "    </tr>\n",
       "    <tr>\n",
       "      <th>50%</th>\n",
       "      <td>10.000000</td>\n",
       "      <td>2.510000</td>\n",
       "    </tr>\n",
       "    <tr>\n",
       "      <th>75%</th>\n",
       "      <td>14.100000</td>\n",
       "      <td>5.820000</td>\n",
       "    </tr>\n",
       "    <tr>\n",
       "      <th>max</th>\n",
       "      <td>130.000000</td>\n",
       "      <td>405.000000</td>\n",
       "    </tr>\n",
       "  </tbody>\n",
       "</table>\n",
       "</div>"
      ],
      "text/plain": [
       "             Rural        Urban\n",
       "count  1097.000000  1097.000000\n",
       "mean     12.005588    10.456764\n",
       "std      10.935054    27.932960\n",
       "min       0.540000     0.170000\n",
       "25%       5.750000     1.400000\n",
       "50%      10.000000     2.510000\n",
       "75%      14.100000     5.820000\n",
       "max     130.000000   405.000000"
      ]
     },
     "execution_count": 8,
     "metadata": {},
     "output_type": "execute_result"
    }
   ],
   "source": [
    "# let's compare stats for the two sites!\n",
    "Q.describe()"
   ]
  },
  {
   "cell_type": "markdown",
   "metadata": {},
   "source": [
    "## Further study\n",
    "Now that we've used flow duration charts to compare an urban stream to a rural stream, try comparing:\n",
    "\n",
    "- a large stream to a small stream (choose two sites on the same river!)\n",
    "- a desert stream to a forested stream\n",
    "- a high-gradient mountain stream to a low gradient lowland stream\n",
    "\n",
    "Before you find appropriate sites to compare, think about how these different conditions will affect the hydrology of the watershed. What impact does infiltration have on the 'flashiness' of a stream? How quickly will a large watershed respond to a storm compared to a small stream?\n",
    "\n",
    "Good luck!"
   ]
  }
 ],
 "metadata": {
  "kernelspec": {
   "display_name": "Python 3",
   "language": "python",
   "name": "python3"
  },
  "language_info": {
   "codemirror_mode": {
    "name": "ipython",
    "version": 3
   },
   "file_extension": ".py",
   "mimetype": "text/x-python",
   "name": "python",
   "nbconvert_exporter": "python",
   "pygments_lexer": "ipython3",
   "version": "3.7.6"
  }
 },
 "nbformat": 4,
 "nbformat_minor": 2
}
