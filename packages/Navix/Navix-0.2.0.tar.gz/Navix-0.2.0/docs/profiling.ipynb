{
 "cells": [
  {
   "attachments": {},
   "cell_type": "markdown",
   "metadata": {
    "colab_type": "text",
    "id": "view-in-github"
   },
   "source": [
    "<a href=\"https://colab.research.google.com/gist/epignatelli/da5c0f63b8c4a189ae261232121ae446/navix_profiling.ipynb\" target=\"_parent\"><img src=\"https://colab.research.google.com/assets/colab-badge.svg\" alt=\"Open In Colab\"/></a>"
   ]
  },
  {
   "cell_type": "code",
   "execution_count": null,
   "metadata": {
    "colab": {
     "base_uri": "https://localhost:8080/"
    },
    "id": "LWXsFY0rpNs7",
    "outputId": "2299207e-7ee7-470a-cfae-db3594560033"
   },
   "outputs": [],
   "source": [
    "!pip install -q git+https://github.com/epignatelli/navix minigrid"
   ]
  },
  {
   "cell_type": "code",
   "execution_count": null,
   "metadata": {
    "id": "E7Nd2DmipPkg"
   },
   "outputs": [],
   "source": [
    "import jax\n",
    "import jax.numpy as jnp\n",
    "import navix as nx\n",
    "\n",
    "\n",
    "N_TIMESTEPS = 10_000\n",
    "\n",
    "\n",
    "def profile_navix(seed):\n",
    "    env = nx.environments.Room(16, 16, 8)\n",
    "    key = jax.random.PRNGKey(seed)\n",
    "    timestep = env.reset(key)\n",
    "    actions = jax.random.randint(key, (N_TIMESTEPS,), 0, 6)\n",
    "\n",
    "    def body_fun(carry, x):\n",
    "        timestep = carry\n",
    "        action = x\n",
    "        timestep = env.step(timestep, jnp.asarray(action))\n",
    "        return timestep, ()\n",
    "\n",
    "    return jax.lax.scan(body_fun, timestep, jnp.asarray(actions, dtype=jnp.int32))[0]\n",
    "\n",
    "\n",
    "f = jax.jit(jax.vmap(profile_navix))"
   ]
  },
  {
   "cell_type": "code",
   "execution_count": null,
   "metadata": {
    "id": "44SbP_tOp1dP"
   },
   "outputs": [],
   "source": [
    "# running 10_000 seeds in parallel\n",
    "%timeit -n 5 -r 1 f(jnp.arange(10_000)).state.grid.block_until_ready()"
   ]
  },
  {
   "cell_type": "code",
   "execution_count": null,
   "metadata": {
    "id": "iSeCh6H4qRdx"
   },
   "outputs": [],
   "source": [
    "import gymnasium as gym\n",
    "import minigrid\n",
    "import random\n",
    "\n",
    "\n",
    "def profile_minigrid(seed):\n",
    "    env = gym.make(\"MiniGrid-Empty-16x16-v0\", render_mode=None)\n",
    "    observation, info = env.reset(seed=42)\n",
    "    for _ in range(N_TIMESTEPS):\n",
    "        action = random.randint(0, 4)\n",
    "        observation, reward, terminated, truncated, info = env.step(action)\n",
    "\n",
    "        if terminated or truncated:\n",
    "            observation, info = env.reset()\n",
    "    env.close()\n",
    "    return observation"
   ]
  },
  {
   "cell_type": "code",
   "execution_count": null,
   "metadata": {
    "id": "1b4-SrmWsYgs"
   },
   "outputs": [],
   "source": [
    "# running 1 seed\n",
    "%timeit -n 5 -r 1 profile_minigrid(0)"
   ]
  },
  {
   "cell_type": "code",
   "execution_count": null,
   "metadata": {
    "id": "5reQuYCeuP_q"
   },
   "outputs": [],
   "source": []
  }
 ],
 "metadata": {
  "accelerator": "GPU",
  "colab": {
   "gpuType": "T4",
   "include_colab_link": true,
   "provenance": []
  },
  "kernelspec": {
   "display_name": "Python 3",
   "name": "python3"
  },
  "language_info": {
   "name": "python"
  }
 },
 "nbformat": 4,
 "nbformat_minor": 0
}
