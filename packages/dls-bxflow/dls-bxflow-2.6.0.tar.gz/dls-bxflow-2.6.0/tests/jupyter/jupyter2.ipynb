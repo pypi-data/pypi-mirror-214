{
 "cells": [
  {
   "cell_type": "code",
   "execution_count": null,
   "id": "500d13a8",
   "metadata": {},
   "outputs": [],
   "source": [
    "import logging\n",
    "logger = logging.getLogger(\"\")\n",
    "logging.basicConfig(format='%(levelname)s:%(message)s', level=logging.DEBUG)\n"
   ]
  },
  {
   "cell_type": "code",
   "execution_count": null,
   "id": "135bf316",
   "metadata": {},
   "outputs": [],
   "source": [
    "logger.debug(\"starting\")"
   ]
  },
  {
   "cell_type": "code",
   "execution_count": null,
   "id": "7aeecef2",
   "metadata": {},
   "outputs": [],
   "source": [
    "import random\n",
    "from PIL import Image, ImageDraw, ImageFont\n",
    "\n",
    "def create_image_with_random_string():\n",
    "    # Define the image size\n",
    "    width, height = 64, 64\n",
    "\n",
    "    # Create a blank image with a white background\n",
    "    image = Image.new(\"RGB\", (width, height), \"black\")\n",
    "    draw = ImageDraw.Draw(image)\n",
    "\n",
    "    # Choose a random alphabetic string with no vowels\n",
    "    random_string = ''.join(random.choice('bcdfghjklmnpqrstvwxz') for _ in range(3))\n",
    "\n",
    "    # Define the font properties\n",
    "    font_size = 32\n",
    "    font = ImageFont.truetype(\"DejaVuSans.ttf\", font_size)\n",
    "\n",
    "    # Calculate the text position\n",
    "    text_width, text_height = draw.textsize(random_string, font=font)\n",
    "    x = (width - text_width) // 2\n",
    "    y = (height - text_height) // 2\n",
    "\n",
    "    # Draw the text on the image\n",
    "    draw.text((x, y), random_string, font=font, fill=\"white\")\n",
    "\n",
    "    return random_string, image\n",
    "   "
   ]
  },
  {
   "cell_type": "code",
   "execution_count": null,
   "id": "527dc50c",
   "metadata": {},
   "outputs": [],
   "source": [
    " # Save the image as a PNG file\n",
    "random_string, image = create_image_with_random_string()\n",
    "image.save(\"random_string.png\", \"PNG\")\n"
   ]
  },
  {
   "cell_type": "code",
   "execution_count": null,
   "id": "14f16727",
   "metadata": {},
   "outputs": [],
   "source": [
    "# Import the class which takes care of storing execution summary information.\n",
    "from dls_bxflow_run.bx_tasks.execution_summary import ExecutionSummary\n",
    "\n",
    "# Write image into execution summary.\n",
    "ExecutionSummary().append_image(\"random_string.png\")\n",
    "\n",
    "# Write text into execution summary.\n",
    "ExecutionSummary().append_text(random_string)"
   ]
  },
  {
   "cell_type": "code",
   "execution_count": null,
   "id": "7bee2268",
   "metadata": {},
   "outputs": [],
   "source": [
    "logger.debug(\"finished\")"
   ]
  }
 ],
 "metadata": {
  "interpreter": {
   "hash": "b0da30b48cde19f294958e6b6ece8d1adf792283a6fcdd72a9ecfffe90973a93"
  },
  "kernelspec": {
   "display_name": "Python 3.10.4 64-bit",
   "language": "python",
   "name": "python3"
  },
  "language_info": {
   "codemirror_mode": {
    "name": "ipython",
    "version": 3
   },
   "file_extension": ".py",
   "mimetype": "text/x-python",
   "name": "python",
   "nbconvert_exporter": "python",
   "pygments_lexer": "ipython3",
   "version": "3.10.4"
  }
 },
 "nbformat": 4,
 "nbformat_minor": 5
}
