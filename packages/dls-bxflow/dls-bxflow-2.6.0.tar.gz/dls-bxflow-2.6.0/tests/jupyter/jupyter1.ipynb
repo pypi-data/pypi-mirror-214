{
 "cells": [
  {
   "cell_type": "code",
   "execution_count": null,
   "id": "500d13a8",
   "metadata": {},
   "outputs": [],
   "source": [
    "import logging\n",
    "logger = logging.getLogger(\"\")\n",
    "logging.basicConfig(format='%(levelname)s:%(message)s', level=logging.DEBUG)\n",
    "\n",
    "notebook_version = \"0.0.2\""
   ]
  },
  {
   "cell_type": "code",
   "execution_count": null,
   "id": "135bf316",
   "metadata": {},
   "outputs": [],
   "source": [
    "# code put here at runtime"
   ]
  },
  {
   "cell_type": "code",
   "execution_count": null,
   "id": "14f16727",
   "metadata": {},
   "outputs": [],
   "source": [
    "print(\"this is stdout\\n\")"
   ]
  },
  {
   "cell_type": "code",
   "execution_count": null,
   "id": "f5b8071c",
   "metadata": {},
   "outputs": [],
   "source": [
    "logger.warning(\"this is logger.warning\")"
   ]
  },
  {
   "cell_type": "code",
   "execution_count": null,
   "id": "7ca3902b",
   "metadata": {},
   "outputs": [],
   "source": [
    "logger.info(\"this is logger.info\")"
   ]
  },
  {
   "cell_type": "code",
   "execution_count": null,
   "id": "7bee2268",
   "metadata": {},
   "outputs": [],
   "source": [
    "logger.debug(\"this is logger.debug\")"
   ]
  },
  {
   "cell_type": "code",
   "execution_count": null,
   "id": "2b92e402",
   "metadata": {},
   "outputs": [],
   "source": []
  }
 ],
 "metadata": {
  "interpreter": {
   "hash": "b0da30b48cde19f294958e6b6ece8d1adf792283a6fcdd72a9ecfffe90973a93"
  },
  "kernelspec": {
   "display_name": "Python 3.10.4 64-bit",
   "language": "python",
   "name": "python3"
  },
  "language_info": {
   "codemirror_mode": {
    "name": "ipython",
    "version": 3
   },
   "file_extension": ".py",
   "mimetype": "text/x-python",
   "name": "python",
   "nbconvert_exporter": "python",
   "pygments_lexer": "ipython3",
   "version": "3.10.4"
  }
 },
 "nbformat": 4,
 "nbformat_minor": 5
}
