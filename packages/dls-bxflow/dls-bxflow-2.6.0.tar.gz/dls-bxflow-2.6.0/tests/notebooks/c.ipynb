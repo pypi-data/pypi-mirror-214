{
 "cells": [
  {
   "cell_type": "raw",
   "id": "500d13a8",
   "metadata": {},
   "source": [
    "{\n",
    "    \"X\": {\n",
    "        \"prompt\": \"This is a prompt\",\n",
    "        \"value\": \"x\",\n",
    "        \"explanation\": [\n",
    "            \"This is a set of explanation lines that will show in the gui.\",\n",
    "            \"Another line if you want it.\"\n",
    "        ]\n",
    "    },\n",
    "    \"Y\": {\n",
    "        \"prompt\": \"This is another prompt\",\n",
    "        \"value\": \"y\"\n",
    "    }\n",
    "}\n"
   ]
  },
  {
   "cell_type": "raw",
   "id": "7a5bffff",
   "metadata": {},
   "source": [
    "# The nice thing about yaml is you can have comments. :)\n",
    "X:\n",
    "    prompt: This is a prompt\n",
    "    value: x\n",
    "    explanation:\n",
    "        - This is a set of explanation lines.\n",
    "        - Another line if you want it.\n",
    "\n",
    "# Here is another comment.\n",
    "Y:\n",
    "    prompt: This is another prompt\n",
    "    value: y"
   ]
  },
  {
   "cell_type": "code",
   "execution_count": null,
   "id": "135bf316",
   "metadata": {},
   "outputs": [],
   "source": [
    "# This is a prompt\n",
    "X = 'x'\n",
    "# This is another prompt\n",
    "Y = 'y'\n",
    "\n",
    "BEAMLINE = 'e02'\n",
    "YEAR = '2022'\n",
    "VISIT = 'cm31101-4'"
   ]
  },
  {
   "cell_type": "code",
   "execution_count": null,
   "id": "14f16727",
   "metadata": {},
   "outputs": [],
   "source": [
    "print(\"this is stdout\\n\")"
   ]
  },
  {
   "cell_type": "code",
   "execution_count": null,
   "id": "f5b8071c",
   "metadata": {},
   "outputs": [],
   "source": [
    "logger.warning(\"this is logger.warning\")"
   ]
  },
  {
   "cell_type": "code",
   "execution_count": null,
   "id": "7ca3902b",
   "metadata": {},
   "outputs": [],
   "source": [
    "logger.info(\"this is logger.info\")"
   ]
  },
  {
   "cell_type": "code",
   "execution_count": null,
   "id": "7bee2268",
   "metadata": {},
   "outputs": [],
   "source": [
    "logger.debug(\"this is logger.debug\")"
   ]
  },
  {
   "cell_type": "code",
   "execution_count": null,
   "id": "2b92e402",
   "metadata": {},
   "outputs": [],
   "source": []
  }
 ],
 "metadata": {
  "interpreter": {
   "hash": "b0da30b48cde19f294958e6b6ece8d1adf792283a6fcdd72a9ecfffe90973a93"
  },
  "kernelspec": {
   "display_name": "Python 3.10.4 64-bit",
   "language": "python",
   "name": "python3"
  },
  "language_info": {
   "codemirror_mode": {
    "name": "ipython",
    "version": 3
   },
   "file_extension": ".py",
   "mimetype": "text/x-python",
   "name": "python",
   "nbconvert_exporter": "python",
   "pygments_lexer": "ipython3",
   "version": "3.10.4"
  }
 },
 "nbformat": 4,
 "nbformat_minor": 5
}
