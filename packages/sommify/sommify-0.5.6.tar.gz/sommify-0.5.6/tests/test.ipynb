{
 "cells": [
  {
   "cell_type": "code",
   "execution_count": 1,
   "metadata": {},
   "outputs": [],
   "source": [
    "from sommify.recipes import reader\n",
    "from sommify.recipes.reader import RecipeReader\n",
    "\n",
    "from elasticsearch import Elasticsearch\n",
    "from collections import Counter\n",
    "import numpy as np\n",
    "from sommify.data.meat import dictionary\n",
    "from sommify.recipes import elastic"
   ]
  },
  {
   "cell_type": "code",
   "execution_count": 2,
   "metadata": {},
   "outputs": [
    {
     "name": "stderr",
     "output_type": "stream",
     "text": [
      "/Users/williambrach/miniforge3/envs/ps-models/lib/python3.9/site-packages/spacy/util.py:887: UserWarning: [W095] Model 'en_core_web_sm' (3.4.1) was trained with spaCy v3.4 and may not be 100% compatible with the current version (3.5.2). If you see errors or degraded performance, download a newer compatible model or retrain your custom model with the current spaCy version. For more details and available updates, run: python -m spacy validate\n",
      "  warnings.warn(warn_msg)\n",
      "/Users/williambrach/miniforge3/envs/ps-models/lib/python3.9/site-packages/elasticsearch/connection/http_urllib3.py:209: UserWarning: Connecting to https://elastic.sommify.ai:443 using SSL with verify_certs=False is insecure.\n",
      "  warnings.warn(\n",
      "/Users/williambrach/miniforge3/envs/ps-models/lib/python3.9/site-packages/urllib3/connectionpool.py:1045: InsecureRequestWarning: Unverified HTTPS request is being made to host 'elastic.sommify.ai'. Adding certificate verification is strongly advised. See: https://urllib3.readthedocs.io/en/1.26.x/advanced-usage.html#ssl-warnings\n",
      "  warnings.warn(\n",
      "/Users/williambrach/miniforge3/envs/ps-models/lib/python3.9/site-packages/urllib3/connectionpool.py:1045: InsecureRequestWarning: Unverified HTTPS request is being made to host 'elastic.sommify.ai'. Adding certificate verification is strongly advised. See: https://urllib3.readthedocs.io/en/1.26.x/advanced-usage.html#ssl-warnings\n",
      "  warnings.warn(\n",
      "{'cluster_name': 'elasticsearch', 'status': 'yellow', 'timed_out': False, 'number_of_nodes': 1, 'number_of_data_nodes': 1, 'active_primary_shards': 3, 'active_shards': 3, 'relocating_shards': 0, 'initializing_shards': 0, 'unassigned_shards': 2, 'delayed_unassigned_shards': 0, 'number_of_pending_tasks': 0, 'number_of_in_flight_fetch': 0, 'task_max_waiting_in_queue_millis': 0, 'active_shards_percent_as_number': 60.0}\n",
      "INPUT TERM : beef | TERM LEN :1\n"
     ]
    },
    {
     "name": "stdout",
     "output_type": "stream",
     "text": [
      "80\n"
     ]
    },
    {
     "name": "stderr",
     "output_type": "stream",
     "text": [
      "/Users/williambrach/miniforge3/envs/ps-models/lib/python3.9/site-packages/urllib3/connectionpool.py:1045: InsecureRequestWarning: Unverified HTTPS request is being made to host 'elastic.sommify.ai'. Adding certificate verification is strongly advised. See: https://urllib3.readthedocs.io/en/1.26.x/advanced-usage.html#ssl-warnings\n",
      "  warnings.warn(\n",
      "Number of hits : 100\n",
      "Max number of ings : 103 | upper_fence : 9.5\n",
      "{\"beef\": 103, \"onion\": 66, \"beef stock\": 63, \"salt\": 53, \"pepper\": 42, \"garlic\": 36, \"oil\": 32, \"water\": 24, \"flour\": 19, \"potato\": 18, \"carrot\": 18, \"mushroom\": 17, \"tomato\": 16, \"pasta\": 12, \"rice\": 12, \"sugar\": 12, \"bay\": 12, \"soy sauce\": 11, \"thyme\": 11, \"spicy powder\": 10, \"wine\": 10, \"butter\": 10}\n",
      "Recipe title : Delicious Homemade Beef Stew\n"
     ]
    },
    {
     "data": {
      "text/plain": [
       "('Delicious Homemade Beef Stew',\n",
       " ['beef',\n",
       "  'onion',\n",
       "  'beef stock',\n",
       "  'salt',\n",
       "  'pepper',\n",
       "  'garlic',\n",
       "  'oil',\n",
       "  'water',\n",
       "  'flour',\n",
       "  'potato',\n",
       "  'carrot',\n",
       "  'mushroom',\n",
       "  'tomato',\n",
       "  'pasta',\n",
       "  'rice',\n",
       "  'sugar',\n",
       "  'bay',\n",
       "  'soy sauce',\n",
       "  'thyme',\n",
       "  'spicy powder',\n",
       "  'wine',\n",
       "  'butter'],\n",
       " ['',\n",
       "  'Boil 3 cups of water for beef cubes and add in the beef canned broth',\n",
       "  ' Add beef, bouillon cubes and whole onion and cook for about 30 minutes',\n",
       "  ' Onion is for flavoring broth',\n",
       "  'Season with whatever you like',\n",
       "  'While cooking beef, chop potatoes  and boil water for noodles',\n",
       "  'Once the beef have cooked, add in the potatoes and carrots',\n",
       "  'When the beef broth is smooth and vegetables are tender, simmer for a while, then stir in the cans of gravy',\n",
       "  ' This will thicken your stew a bit',\n",
       "  'Finally, cook stew for about 10 - 15 minutes',\n",
       "  'Drain noodles when al dente and add noodles with stew and serve',\n",
       "  'Serve with bread and butter',\n",
       "  ''])"
      ]
     },
     "execution_count": 2,
     "metadata": {},
     "output_type": "execute_result"
    }
   ],
   "source": [
    "ELASTIC_PASSWORD=\"qdpgMlSrNBspS7e4GKwLSouf\"\n",
    "ELASTIC_CLOUD_ID=\"sommify-elastic:d2VzdGV1cm9wZS5henVyZS5lbGFzdGljLWNsb3VkLmNvbTo0NDMkM2NjYjAzZmQ3ZTYzNDdlZTgwNjg0ZTBmMTBmNzNmNTUkYzEyYzUzYzUyN2I4NGQ4OWJjNjZkMDMwZmE2ZTNjMjg=\"\n",
    "\n",
    "ELASTIC_URL=\"elasticsearch-master.elastic.svc.cluster.local:9200\"\n",
    "ELASTIC_URL='https://elastic.sommify.ai'\n",
    "ELASTIC_USERNAME=\"elastic\"\n",
    "ELASTIC_PASSWORD=\"FQF3mkq7JMH0kEj4\"\n",
    "ELASTIC_PORT=80\n",
    "\n",
    "r = RecipeReader(ELASTIC_URL, ELASTIC_USERNAME, ELASTIC_PASSWORD)\n",
    "\n",
    "import logging\n",
    "elastic.search_by_query_term(r.es,\"beef\")"
   ]
  }
 ],
 "metadata": {
  "kernelspec": {
   "display_name": "ps-models",
   "language": "python",
   "name": "python3"
  },
  "language_info": {
   "codemirror_mode": {
    "name": "ipython",
    "version": 3
   },
   "file_extension": ".py",
   "mimetype": "text/x-python",
   "name": "python",
   "nbconvert_exporter": "python",
   "pygments_lexer": "ipython3",
   "version": "3.9.16"
  },
  "orig_nbformat": 4
 },
 "nbformat": 4,
 "nbformat_minor": 2
}
