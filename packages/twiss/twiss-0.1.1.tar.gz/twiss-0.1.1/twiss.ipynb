{
 "cells": [
  {
   "cell_type": "markdown",
   "id": "05519ea6-24f9-4d3a-bbd6-ad49d4cf0479",
   "metadata": {},
   "source": [
    "# Example-01: Coupled twiss parameters"
   ]
  },
  {
   "cell_type": "code",
   "execution_count": 1,
   "id": "0fe90383-5579-4ab5-a2e3-5f6f78b97865",
   "metadata": {},
   "outputs": [],
   "source": [
    "import torch\n",
    "torch.set_printoptions(precision=3, sci_mode=True)"
   ]
  },
  {
   "cell_type": "code",
   "execution_count": 2,
   "id": "3f297cd9-3afc-4b41-bf4a-fdd5df506470",
   "metadata": {},
   "outputs": [],
   "source": [
    "# Set elements\n",
    "\n",
    "def drif(x, l):\n",
    "    (qx, px, qy, py), l = x, l\n",
    "    return torch.stack([qx + l*px, px, qy + l*py, py])\n",
    "\n",
    "def quad(x, kn, ks, l, n=100):\n",
    "    (qx, px, qy, py), kn, ks, l = x, kn, ks, l/(2.0*n)\n",
    "    for _ in range(n):\n",
    "        qx, qy = qx + l*px, qy + l*py\n",
    "        px, py = px - 2.0*l*(kn*qx - ks*qy), py + 2.0*l*(ks*qx + kn*qy)\n",
    "        qx, qy = qx + l*px, qy + l*py\n",
    "    return torch.stack([qx, px, qy, py]) "
   ]
  },
  {
   "cell_type": "code",
   "execution_count": 3,
   "id": "02d9e07c-c6f0-4737-80d6-74693addeaa7",
   "metadata": {},
   "outputs": [],
   "source": [
    "# Set transport maps\n",
    "\n",
    "def m11(x, k): kn1, ks1, kn2, ks2 = k; return x\n",
    "def m12(x, k): kn1, ks1, kn2, ks2 = k; x = quad(x, kn1, ks1, 0.5); return x\n",
    "def m23(x, k): kn1, ks1, kn2, ks2 = k; x = drif(x, 2.5); return x\n",
    "def m34(x, k): kn1, ks1, kn2, ks2 = k; x = drif(x, 2.5); return x\n",
    "def m45(x, k): kn1, ks1, kn2, ks2 = k; x = quad(x, kn2, ks2, 0.5); return x\n",
    "def m56(x, k): kn1, ks1, kn2, ks2 = k; x = quad(x, kn2, ks2, 0.5); return x\n",
    "def m67(x, k): kn1, ks1, kn2, ks2 = k; x = drif(x, 2.5); return x\n",
    "def m78(x, k): kn1, ks1, kn2, ks2 = k; x = drif(x, 2.5); return x\n",
    "def m89(x, k): kn1, ks1, kn2, ks2 = k; x = quad(x, kn1, ks1, 0.5); return x"
   ]
  },
  {
   "cell_type": "code",
   "execution_count": 4,
   "id": "f4739f3d-13c1-492c-a85e-ed16af4fc054",
   "metadata": {},
   "outputs": [],
   "source": [
    "# Set fodo cell\n",
    "\n",
    "def fodo(x, k):\n",
    "    x = m11(x, k)\n",
    "    x = m12(x, k)\n",
    "    x = m23(x, k)\n",
    "    x = m34(x, k)\n",
    "    x = m45(x, k)\n",
    "    x = m56(x, k)\n",
    "    x = m67(x, k)\n",
    "    x = m78(x, k)\n",
    "    x = m89(x, k)\n",
    "    return x"
   ]
  },
  {
   "cell_type": "code",
   "execution_count": 5,
   "id": "e59ad845-282e-4e2a-90b5-dc866eead30b",
   "metadata": {},
   "outputs": [
    {
     "name": "stdout",
     "output_type": "stream",
     "text": [
      "tensor([[ 4.947e-01,  2.032e+01, -8.454e-03,  3.297e-01],\n",
      "        [-3.725e-02,  4.947e-01,  4.385e-03,  8.052e-03],\n",
      "        [ 8.052e-03,  3.297e-01, -9.232e-02,  3.539e+00],\n",
      "        [ 4.385e-03, -8.454e-03, -2.806e-01, -9.232e-02]], dtype=torch.float64)\n",
      "True\n"
     ]
    }
   ],
   "source": [
    "# Compute one-turn transport matrix\n",
    "\n",
    "x = torch.tensor([0.0, 0.0, 0.0, 0.0], dtype=torch.float64)\n",
    "k = torch.tensor([0.20, -0.01, -0.25, 0.01], dtype=torch.float64)\n",
    "\n",
    "m = torch.func.jacfwd(fodo)(x, k)\n",
    "print(m)\n",
    "\n",
    "from twiss.twiss import is_stable\n",
    "print(is_stable(m))"
   ]
  },
  {
   "cell_type": "code",
   "execution_count": 6,
   "id": "5b31383b-fe34-46b7-adfd-c82bb798273f",
   "metadata": {},
   "outputs": [
    {
     "name": "stdout",
     "output_type": "stream",
     "text": [
      "tensor([1.677e-01, 2.647e-01], dtype=torch.float64)\n",
      "tensor([[ 4.835e+00,  0.000e+00,  2.714e-02, -1.890e-17],\n",
      "        [ 9.205e-18,  2.069e-01,  9.126e-18, -7.283e-03],\n",
      "        [ 6.634e-02, -1.405e-16,  1.884e+00,  0.000e+00],\n",
      "        [ 2.380e-17, -2.980e-03,  3.189e-17,  5.308e-01]], dtype=torch.float64)\n",
      "tensor([[[ 2.338e+01,  4.451e-17,  3.208e-01,  1.151e-16],\n",
      "         [ 4.451e-17,  4.279e-02, -2.845e-17, -6.165e-04],\n",
      "         [ 3.208e-01, -2.845e-17,  4.401e-03,  1.998e-18],\n",
      "         [ 1.151e-16, -6.165e-04,  1.998e-18,  8.881e-06]],\n",
      "\n",
      "        [[ 7.368e-04,  3.854e-19,  5.115e-02, -9.169e-18],\n",
      "         [ 3.854e-19,  5.304e-05,  1.720e-17, -3.866e-03],\n",
      "         [ 5.115e-02,  1.720e-17,  3.550e+00,  6.008e-17],\n",
      "         [-9.169e-18, -3.866e-03,  6.008e-17,  2.818e-01]]],\n",
      "       dtype=torch.float64)\n"
     ]
    }
   ],
   "source": [
    "# Compute coupled twiss parameters \n",
    "\n",
    "from twiss.twiss import twiss\n",
    "t, n, w = twiss(m)\n",
    "\n",
    "print(t)\n",
    "print(n)\n",
    "print(w)"
   ]
  },
  {
   "cell_type": "code",
   "execution_count": 7,
   "id": "4e281444-75d2-4de1-ae36-bdfc150bf8fb",
   "metadata": {},
   "outputs": [
    {
     "name": "stdout",
     "output_type": "stream",
     "text": [
      "tensor([[4.945e-01, 8.692e-01, 0.000e+00, 0.000e+00],\n",
      "        [-8.692e-01, 4.945e-01, 0.000e+00, 0.000e+00],\n",
      "        [0.000e+00, 0.000e+00, -9.220e-02, 9.957e-01],\n",
      "        [0.000e+00, 0.000e+00, -9.957e-01, -9.220e-02]], dtype=torch.float64)\n",
      "tensor([[ 4.945e-01,  8.692e-01, -3.806e-17, -1.735e-17],\n",
      "        [-8.692e-01,  4.945e-01, -1.370e-17,  1.735e-17],\n",
      "        [-2.126e-17, -2.515e-17, -9.220e-02,  9.957e-01],\n",
      "        [ 2.803e-18, -3.036e-18, -9.957e-01, -9.220e-02]], dtype=torch.float64)\n"
     ]
    }
   ],
   "source": [
    "# Check normalization matrix\n",
    "\n",
    "from math import pi\n",
    "from twiss.matrix import rotation\n",
    "\n",
    "print(rotation(*2*pi*t))\n",
    "print(n.inverse() @ m @ n)"
   ]
  },
  {
   "cell_type": "code",
   "execution_count": 8,
   "id": "e786fddc-6e46-4b17-8b70-5b7ec82ee736",
   "metadata": {},
   "outputs": [
    {
     "name": "stdout",
     "output_type": "stream",
     "text": [
      "tensor([[ 4.947e-01,  2.032e+01, -8.454e-03,  3.297e-01],\n",
      "        [-3.725e-02,  4.947e-01,  4.385e-03,  8.052e-03],\n",
      "        [ 8.052e-03,  3.297e-01, -9.232e-02,  3.539e+00],\n",
      "        [ 4.385e-03, -8.454e-03, -2.806e-01, -9.232e-02]], dtype=torch.float64)\n",
      "tensor([[ 4.947e-01,  2.032e+01, -8.454e-03,  3.297e-01],\n",
      "        [-3.725e-02,  4.947e-01,  4.385e-03,  8.052e-03],\n",
      "        [ 8.052e-03,  3.297e-01, -9.232e-02,  3.539e+00],\n",
      "        [ 4.385e-03, -8.454e-03, -2.806e-01, -9.232e-02]], dtype=torch.float64)\n"
     ]
    }
   ],
   "source": [
    "# Check twiss matrices\n",
    "\n",
    "from twiss.matrix import symplectic_identity\n",
    "\n",
    "s = symplectic_identity(len(w), dtype=torch.float64)\n",
    "u = torch.zeros_like(m)\n",
    "for ti, wi in zip(t, w):\n",
    "    u += (wi @ s) * (2*pi*ti).sin() - (wi @ s) @ (wi @ s) * (2*pi*ti).cos()\n",
    "\n",
    "print(m)\n",
    "print(u)"
   ]
  },
  {
   "cell_type": "code",
   "execution_count": 9,
   "id": "91705451-5faa-49c5-8548-c53e3347e592",
   "metadata": {},
   "outputs": [
    {
     "name": "stdout",
     "output_type": "stream",
     "text": [
      "torch.Size([9, 2, 4, 4])\n"
     ]
    }
   ],
   "source": [
    "# Compute twiss at each location\n",
    "\n",
    "from twiss.twiss import propagate  \n",
    "\n",
    "out = []\n",
    "for mapping in (m11, m12, m23, m34, m45, m56, m67, m78, m89):\n",
    "    w = propagate(w, torch.func.jacfwd(mapping)(x, k))\n",
    "    out.append(w)\n",
    "out = torch.stack(out)\n",
    "\n",
    "print(out.shape)"
   ]
  },
  {
   "cell_type": "code",
   "execution_count": 10,
   "id": "fe81c40a-0c3e-47cd-9e7e-02165aaebc4f",
   "metadata": {},
   "outputs": [],
   "source": [
    "# Convert to CS and LB represencation \n",
    "\n",
    "from twiss.convert import  wolski_to_cs\n",
    "from twiss.convert import  wolski_to_lb\n",
    "\n",
    "ax, bx, ay, by = torch.vmap(wolski_to_cs)(out).T\n",
    "a1x, b1x, a2x, b2x, a1y, b1y, a2y, b2y, *_ = torch.vmap(wolski_to_lb)(out).T"
   ]
  },
  {
   "cell_type": "code",
   "execution_count": 11,
   "id": "746beeab-c842-436a-aff6-71ef6703b0d6",
   "metadata": {},
   "outputs": [
    {
     "data": {
      "image/png": "[encoded data removed]",
      "text/plain": [
       "<Figure size 1440x360 with 1 Axes>"
      ]
     },
     "metadata": {
      "needs_background": "light"
     },
     "output_type": "display_data"
    }
   ],
   "source": [
    "# Plot in-plane twiss parameters\n",
    "\n",
    "from matplotlib import pyplot as plt\n",
    "\n",
    "plt.figure(figsize=(20, 5))\n",
    "plt.plot(range(9), bx, marker='o', color='blue')\n",
    "plt.plot(range(9), b1x, marker='x', color='red')\n",
    "plt.plot(range(9), by, marker='o', color='blue')\n",
    "plt.plot(range(9), b2y, marker='x', color='red')\n",
    "plt.show()"
   ]
  },
  {
   "cell_type": "code",
   "execution_count": 12,
   "id": "c2ed6975-8320-4255-ae57-e8d1109b50db",
   "metadata": {},
   "outputs": [
    {
     "data": {
      "image/png": "[encoded data removed]",
      "text/plain": [
       "<Figure size 1440x360 with 1 Axes>"
      ]
     },
     "metadata": {
      "needs_background": "light"
     },
     "output_type": "display_data"
    }
   ],
   "source": [
    "# Plot in-plane coupled twiss parameters\n",
    "\n",
    "from matplotlib import pyplot as plt\n",
    "\n",
    "plt.figure(figsize=(20, 5))\n",
    "plt.plot(range(9), b2x, marker='x', color='red')\n",
    "plt.plot(range(9), b1y, marker='x', color='blue')\n",
    "plt.show()"
   ]
  },
  {
   "cell_type": "code",
   "execution_count": 13,
   "id": "ea314de1-ca02-4dc8-9436-617f5465142b",
   "metadata": {},
   "outputs": [
    {
     "name": "stdout",
     "output_type": "stream",
     "text": [
      "tensor([1.677e-01, 2.647e-01], dtype=torch.float64)\n",
      "tensor([1.677e-01, 2.647e-01], dtype=torch.float64)\n"
     ]
    }
   ],
   "source": [
    "# Compute phase advances\n",
    "\n",
    "from twiss.twiss import advance\n",
    "\n",
    "out = []\n",
    "for mapping in (m11, m12, m23, m34, m45, m56, m67, m78, m89):\n",
    "    mu, n = advance(n, torch.func.jacfwd(mapping)(x, k))\n",
    "    out.append(mu)\n",
    "out = torch.stack(out)\n",
    "\n",
    "print(t)\n",
    "print(1/(2*pi)*out.T.sum(-1))"
   ]
  },
  {
   "cell_type": "code",
   "execution_count": 14,
   "id": "d951599e-252b-4e34-82cd-d5a13cd027e2",
   "metadata": {},
   "outputs": [
    {
     "data": {
      "image/png": "[encoded data removed]",
      "text/plain": [
       "<Figure size 1440x360 with 1 Axes>"
      ]
     },
     "metadata": {
      "needs_background": "light"
     },
     "output_type": "display_data"
    }
   ],
   "source": [
    "# Plot accumulated phase advance\n",
    "\n",
    "mux, muy = out.T.cumsum(-1)\n",
    "\n",
    "plt.figure(figsize=(20, 5))\n",
    "plt.plot(range(9), mux, marker='x', color='red')\n",
    "plt.plot(range(9), muy, marker='x', color='blue')\n",
    "plt.show()"
   ]
  },
  {
   "cell_type": "markdown",
   "id": "6ef10e3e-d144-49a3-8311-ba98c9bd6c95",
   "metadata": {},
   "source": [
    "# Example-02: Tune derivatives"
   ]
  },
  {
   "cell_type": "code",
   "execution_count": 1,
   "id": "2f9b6cee-5d51-417c-9195-eb401d2e32bb",
   "metadata": {},
   "outputs": [],
   "source": [
    "import torch\n",
    "torch.set_printoptions(precision=3, sci_mode=True)"
   ]
  },
  {
   "cell_type": "code",
   "execution_count": 2,
   "id": "cc2e5332-ed6e-48ee-ab32-277db1c6143c",
   "metadata": {},
   "outputs": [],
   "source": [
    "# Set elements\n",
    "\n",
    "def drif(x, l):\n",
    "    (qx, px, qy, py), l = x, l\n",
    "    return torch.stack([qx + l*px, px, qy + l*py, py])\n",
    "\n",
    "def quad(x, kn, ks, l, n=100):\n",
    "    (qx, px, qy, py), kn, ks, l = x, kn, ks, l/(2.0*n)\n",
    "    for _ in range(n):\n",
    "        qx, qy = qx + l*px, qy + l*py\n",
    "        px, py = px - 2.0*l*(kn*qx - ks*qy), py + 2.0*l*(ks*qx + kn*qy)\n",
    "        qx, qy = qx + l*px, qy + l*py\n",
    "    return torch.stack([qx, px, qy, py]) "
   ]
  },
  {
   "cell_type": "code",
   "execution_count": 3,
   "id": "9544b4a4-c5da-4318-886c-ac7265602fd5",
   "metadata": {},
   "outputs": [],
   "source": [
    "# Set transport maps\n",
    "\n",
    "def m11(x, k): kn1, ks1, kn2, ks2 = k; return x\n",
    "def m12(x, k): kn1, ks1, kn2, ks2 = k; x = quad(x, kn1, ks1, 0.5); return x\n",
    "def m23(x, k): kn1, ks1, kn2, ks2 = k; x = drif(x, 2.5); return x\n",
    "def m34(x, k): kn1, ks1, kn2, ks2 = k; x = drif(x, 2.5); return x\n",
    "def m45(x, k): kn1, ks1, kn2, ks2 = k; x = quad(x, kn2, ks2, 0.5); return x\n",
    "def m56(x, k): kn1, ks1, kn2, ks2 = k; x = quad(x, kn2, ks2, 0.5); return x\n",
    "def m67(x, k): kn1, ks1, kn2, ks2 = k; x = drif(x, 2.5); return x\n",
    "def m78(x, k): kn1, ks1, kn2, ks2 = k; x = drif(x, 2.5); return x\n",
    "def m89(x, k): kn1, ks1, kn2, ks2 = k; x = quad(x, kn1, ks1, 0.5); return x"
   ]
  },
  {
   "cell_type": "code",
   "execution_count": 4,
   "id": "3e423ec1-9de3-4813-804d-2b9b706eea34",
   "metadata": {},
   "outputs": [],
   "source": [
    "# Set fodo cell\n",
    "\n",
    "def fodo(x, k):\n",
    "    x = m11(x, k)\n",
    "    x = m12(x, k)\n",
    "    x = m23(x, k)\n",
    "    x = m34(x, k)\n",
    "    x = m45(x, k)\n",
    "    x = m56(x, k)\n",
    "    x = m67(x, k)\n",
    "    x = m78(x, k)\n",
    "    x = m89(x, k)\n",
    "    return x"
   ]
  },
  {
   "cell_type": "code",
   "execution_count": 5,
   "id": "d9c6f87f-6745-48cf-8af2-f43a5542d146",
   "metadata": {},
   "outputs": [
    {
     "name": "stdout",
     "output_type": "stream",
     "text": [
      "tensor([[1.832e+00, 0.000e+00, 5.027e-01, 0.000e+00],\n",
      "        [-2.895e-01, 0.000e+00, -1.430e+00, 0.000e+00]], dtype=torch.float64)\n",
      "tensor([[[-1.265e+01, 0.000e+00, -6.635e+00, 0.000e+00],\n",
      "         [0.000e+00, -1.186e+01, 0.000e+00, -1.682e+01],\n",
      "         [-6.635e+00, 0.000e+00, -1.070e+00, 0.000e+00],\n",
      "         [0.000e+00, -1.682e+01, 0.000e+00, -1.547e+01]],\n",
      "\n",
      "        [[-5.003e-02, 0.000e+00, -2.576e+00, 0.000e+00],\n",
      "         [0.000e+00, 9.717e+00, 0.000e+00, 8.931e+00],\n",
      "         [-2.576e+00, 0.000e+00, 7.004e-01, 0.000e+00],\n",
      "         [0.000e+00, 8.931e+00, 0.000e+00, 1.286e+01]]], dtype=torch.float64)\n"
     ]
    }
   ],
   "source": [
    "# Compute tune derivatives\n",
    "\n",
    "from twiss.twiss import twiss\n",
    "\n",
    "x = torch.tensor([0.0, 0.0, 0.0, 0.0], dtype=torch.float64)\n",
    "k = torch.tensor([0.20, 0.0, -0.25, 0.0], dtype=torch.float64)\n",
    "\n",
    "def fn(k):\n",
    "    m = torch.func.jacfwd(fodo)(x, k)\n",
    "    t, *_ = twiss(m)\n",
    "    return t\n",
    "\n",
    "d1 = torch.func.jacfwd(fn)(k)\n",
    "d2 = torch.func.jacfwd(torch.func.jacfwd(fn))(k)\n",
    "\n",
    "print(d1)\n",
    "print(d2)"
   ]
  },
  {
   "cell_type": "code",
   "execution_count": 6,
   "id": "d3b67176-61b6-475a-808b-2f2e70aae9e0",
   "metadata": {},
   "outputs": [
    {
     "name": "stdout",
     "output_type": "stream",
     "text": [
      "tensor([1.674e-01, 2.645e-01], dtype=torch.float64)\n",
      "tensor([1.740e-01, 2.702e-01], dtype=torch.float64)\n",
      "tensor([1.741e-01, 2.703e-01], dtype=torch.float64)\n",
      "\n",
      "tensor([1.741e-01, 2.703e-01], dtype=torch.float64)\n",
      "\n"
     ]
    }
   ],
   "source": [
    "# Test\n",
    "\n",
    "dk = torch.tensor([0.005, -0.005, -0.005, 0.005], dtype=torch.float64)\n",
    "\n",
    "print(fn(k))\n",
    "print(fn(k) + d1 @ dk)\n",
    "print(fn(k) + d1 @ dk + 1/2 * d2 @ dk @ dk)\n",
    "print()\n",
    "\n",
    "t, *_ = twiss(torch.func.jacfwd(fodo)(x, k + dk))\n",
    "print(t)\n",
    "print()"
   ]
  },
  {
   "cell_type": "markdown",
   "id": "6f3c0805-961c-4cc5-9cfd-d61ec35dbf8f",
   "metadata": {},
   "source": [
    "# Example-03: Twiss derivatives"
   ]
  },
  {
   "cell_type": "code",
   "execution_count": 1,
   "id": "bafbcfa6-b999-43ee-96fb-f3af20546919",
   "metadata": {},
   "outputs": [],
   "source": [
    "import torch\n",
    "torch.set_printoptions(precision=3, sci_mode=True)"
   ]
  },
  {
   "cell_type": "code",
   "execution_count": 2,
   "id": "e0a01eb5-21a0-473b-9fb3-a9bb1b4ce9d8",
   "metadata": {},
   "outputs": [],
   "source": [
    "# Set elements\n",
    "\n",
    "def drif(x, l):\n",
    "    (qx, px, qy, py), l = x, l\n",
    "    return torch.stack([qx + l*px, px, qy + l*py, py])\n",
    "\n",
    "def quad(x, kn, ks, l, n=100):\n",
    "    (qx, px, qy, py), kn, ks, l = x, kn, ks, l/(2.0*n)\n",
    "    for _ in range(n):\n",
    "        qx, qy = qx + l*px, qy + l*py\n",
    "        px, py = px - 2.0*l*(kn*qx - ks*qy), py + 2.0*l*(ks*qx + kn*qy)\n",
    "        qx, qy = qx + l*px, qy + l*py\n",
    "    return torch.stack([qx, px, qy, py]) "
   ]
  },
  {
   "cell_type": "code",
   "execution_count": 3,
   "id": "24d8d522-3c1c-46af-b238-527c3b9cbc6c",
   "metadata": {},
   "outputs": [],
   "source": [
    "# Set transport maps\n",
    "\n",
    "def m11(x, k): kn1, ks1, kn2, ks2 = k; return x\n",
    "def m12(x, k): kn1, ks1, kn2, ks2 = k; x = quad(x, kn1, ks1, 0.5); return x\n",
    "def m23(x, k): kn1, ks1, kn2, ks2 = k; x = drif(x, 2.5); return x\n",
    "def m34(x, k): kn1, ks1, kn2, ks2 = k; x = drif(x, 2.5); return x\n",
    "def m45(x, k): kn1, ks1, kn2, ks2 = k; x = quad(x, kn2, ks2, 0.5); return x\n",
    "def m56(x, k): kn1, ks1, kn2, ks2 = k; x = quad(x, kn2, ks2, 0.5); return x\n",
    "def m67(x, k): kn1, ks1, kn2, ks2 = k; x = drif(x, 2.5); return x\n",
    "def m78(x, k): kn1, ks1, kn2, ks2 = k; x = drif(x, 2.5); return x\n",
    "def m89(x, k): kn1, ks1, kn2, ks2 = k; x = quad(x, kn1, ks1, 0.5); return x"
   ]
  },
  {
   "cell_type": "code",
   "execution_count": 4,
   "id": "c42574f3-a9a0-4254-a933-4083b3b1ef71",
   "metadata": {},
   "outputs": [],
   "source": [
    "# Set fodo cell\n",
    "\n",
    "def fodo(x, k):\n",
    "    x = m11(x, k)\n",
    "    x = m12(x, k)\n",
    "    x = m23(x, k)\n",
    "    x = m34(x, k)\n",
    "    x = m45(x, k)\n",
    "    x = m56(x, k)\n",
    "    x = m67(x, k)\n",
    "    x = m78(x, k)\n",
    "    x = m89(x, k)\n",
    "    return x"
   ]
  },
  {
   "cell_type": "code",
   "execution_count": 5,
   "id": "67914289-7c8e-4050-9272-1f95482ac200",
   "metadata": {},
   "outputs": [],
   "source": [
    "# Set task function\n",
    "\n",
    "from twiss.twiss import twiss\n",
    "from twiss.twiss import propagate\n",
    "from twiss.convert import wolski_to_cs\n",
    "\n",
    "x = torch.tensor([0.0, 0.0, 0.0, 0.0], dtype=torch.float64)\n",
    "k = torch.tensor([0.20, 0.0, -0.25, 0.0], dtype=torch.float64)\n",
    "\n",
    "def fn(k):\n",
    "    m = torch.func.jacfwd(fodo)(x, k)\n",
    "    *_, w = twiss(m)\n",
    "    out = []\n",
    "    for mapping in (m11, m12, m23, m34, m45, m56, m67, m78, m89):\n",
    "        w = propagate(w, torch.func.jacfwd(mapping)(x, k))\n",
    "        out.append(w)\n",
    "    out = torch.stack(out)\n",
    "    ax, bx, ay, by = torch.vmap(wolski_to_cs)(out).T\n",
    "    return torch.stack([bx, by]).T"
   ]
  },
  {
   "cell_type": "code",
   "execution_count": 6,
   "id": "4875637d-d7e5-4095-b313-08fe594a778e",
   "metadata": {},
   "outputs": [
    {
     "data": {
      "image/png": "[encoded data removed]",
      "text/plain": [
       "<Figure size 1440x360 with 1 Axes>"
      ]
     },
     "metadata": {
      "needs_background": "light"
     },
     "output_type": "display_data"
    }
   ],
   "source": [
    "# Compute and plot twiss\n",
    "\n",
    "bx, by = fn(k).T\n",
    "\n",
    "from matplotlib import pyplot as plt\n",
    "\n",
    "plt.figure(figsize=(20, 5))\n",
    "plt.plot(range(9), bx, marker='o', color='red')\n",
    "plt.plot(range(9), by, marker='o', color='blue')\n",
    "plt.show()"
   ]
  },
  {
   "cell_type": "code",
   "execution_count": 7,
   "id": "1a96cffc-6a34-4bdf-9d36-ae2dfd7ea6b9",
   "metadata": {},
   "outputs": [
    {
     "name": "stdout",
     "output_type": "stream",
     "text": [
      "torch.Size([9, 2, 4])\n"
     ]
    }
   ],
   "source": [
    "# Compute twiss derivatives\n",
    "\n",
    "d1 = torch.func.jacfwd(fn)(k)\n",
    "print(d1.shape)"
   ]
  },
  {
   "cell_type": "code",
   "execution_count": 8,
   "id": "e24698e4-25b7-4a6f-9d14-4339a5138258",
   "metadata": {},
   "outputs": [
    {
     "name": "stdout",
     "output_type": "stream",
     "text": [
      "tensor([[2.341e+01, 2.227e+01, 1.274e+01, 6.609e+00, 6.173e+00, 6.609e+00, 1.274e+01, 2.227e+01, 2.341e+01],\n",
      "        [3.554e+00, 3.806e+00, 8.444e+00, 1.723e+01, 1.834e+01, 1.723e+01, 8.444e+00, 3.806e+00, 3.554e+00]],\n",
      "       dtype=torch.float64)\n",
      "tensor([[2.303e+01, 2.188e+01, 1.232e+01, 6.251e+00, 5.828e+00, 6.251e+00, 1.232e+01, 2.188e+01, 2.303e+01],\n",
      "        [3.395e+00, 3.647e+00, 8.370e+00, 1.741e+01, 1.856e+01, 1.741e+01, 8.370e+00, 3.647e+00, 3.395e+00]],\n",
      "       dtype=torch.float64)\n",
      "\n",
      "tensor([[2.305e+01, 2.190e+01, 1.234e+01, 6.262e+00, 5.838e+00, 6.262e+00, 1.234e+01, 2.190e+01, 2.305e+01],\n",
      "        [3.396e+00, 3.648e+00, 8.373e+00, 1.742e+01, 1.857e+01, 1.742e+01, 8.373e+00, 3.648e+00, 3.396e+00]],\n",
      "       dtype=torch.float64)\n",
      "\n"
     ]
    }
   ],
   "source": [
    "# Test\n",
    "\n",
    "dk = torch.tensor([0.005, -0.005, -0.005, 0.005], dtype=torch.float64)\n",
    "\n",
    "print(fn(k).T)\n",
    "print((fn(k) + d1 @ dk).T)\n",
    "print()\n",
    "\n",
    "print(fn(k + dk).T)\n",
    "print()"
   ]
  },
  {
   "cell_type": "markdown",
   "id": "ca1bffd0-1faa-4658-8402-e322f5d92897",
   "metadata": {},
   "source": [
    "# Example-04: Phase advance derivatives"
   ]
  },
  {
   "cell_type": "code",
   "execution_count": 1,
   "id": "91309601-ea84-490c-bf52-3daf7c1d6ba8",
   "metadata": {},
   "outputs": [],
   "source": [
    "import torch\n",
    "torch.set_printoptions(precision=3, sci_mode=True)"
   ]
  },
  {
   "cell_type": "code",
   "execution_count": 2,
   "id": "17433be9-012b-44c3-bd91-04ed84a08d90",
   "metadata": {},
   "outputs": [],
   "source": [
    "# Set elements\n",
    "\n",
    "def drif(x, l):\n",
    "    (qx, px, qy, py), l = x, l\n",
    "    return torch.stack([qx + l*px, px, qy + l*py, py])\n",
    "\n",
    "def quad(x, kn, ks, l, n=100):\n",
    "    (qx, px, qy, py), kn, ks, l = x, kn, ks, l/(2.0*n)\n",
    "    for _ in range(n):\n",
    "        qx, qy = qx + l*px, qy + l*py\n",
    "        px, py = px - 2.0*l*(kn*qx - ks*qy), py + 2.0*l*(ks*qx + kn*qy)\n",
    "        qx, qy = qx + l*px, qy + l*py\n",
    "    return torch.stack([qx, px, qy, py]) "
   ]
  },
  {
   "cell_type": "code",
   "execution_count": 3,
   "id": "1523930d-acd3-4aa6-9511-2777ad3eded5",
   "metadata": {},
   "outputs": [],
   "source": [
    "# Set transport maps\n",
    "\n",
    "def m11(x, k): kn1, ks1, kn2, ks2 = k; return x\n",
    "def m12(x, k): kn1, ks1, kn2, ks2 = k; x = quad(x, kn1, ks1, 0.5); return x\n",
    "def m23(x, k): kn1, ks1, kn2, ks2 = k; x = drif(x, 2.5); return x\n",
    "def m34(x, k): kn1, ks1, kn2, ks2 = k; x = drif(x, 2.5); return x\n",
    "def m45(x, k): kn1, ks1, kn2, ks2 = k; x = quad(x, kn2, ks2, 0.5); return x\n",
    "def m56(x, k): kn1, ks1, kn2, ks2 = k; x = quad(x, kn2, ks2, 0.5); return x\n",
    "def m67(x, k): kn1, ks1, kn2, ks2 = k; x = drif(x, 2.5); return x\n",
    "def m78(x, k): kn1, ks1, kn2, ks2 = k; x = drif(x, 2.5); return x\n",
    "def m89(x, k): kn1, ks1, kn2, ks2 = k; x = quad(x, kn1, ks1, 0.5); return x"
   ]
  },
  {
   "cell_type": "code",
   "execution_count": 4,
   "id": "bfeac63a-4676-4c33-9eb8-2027f926e3b9",
   "metadata": {},
   "outputs": [],
   "source": [
    "# Set fodo cell\n",
    "\n",
    "def fodo(x, k):\n",
    "    x = m11(x, k)\n",
    "    x = m12(x, k)\n",
    "    x = m23(x, k)\n",
    "    x = m34(x, k)\n",
    "    x = m45(x, k)\n",
    "    x = m56(x, k)\n",
    "    x = m67(x, k)\n",
    "    x = m78(x, k)\n",
    "    x = m89(x, k)\n",
    "    return x"
   ]
  },
  {
   "cell_type": "code",
   "execution_count": 5,
   "id": "7a3ed07b-4937-496c-a0c1-cb531b23e7ea",
   "metadata": {},
   "outputs": [],
   "source": [
    "# Set task function\n",
    "\n",
    "from twiss.twiss import twiss\n",
    "from twiss.twiss import advance\n",
    "\n",
    "x = torch.tensor([0.0, 0.0, 0.0, 0.0], dtype=torch.float64)\n",
    "k = torch.tensor([0.20, 0.0, -0.25, 0.0], dtype=torch.float64)\n",
    "\n",
    "def fn(k):\n",
    "    m = torch.func.jacfwd(fodo)(x, k)\n",
    "    _, n, _ = twiss(m)\n",
    "    out = []\n",
    "    for mapping in (m12, m23, m34, m45, m56, m67, m78, m89):\n",
    "        mu, n = advance(n, torch.func.jacfwd(mapping)(x, k))\n",
    "        out.append(mu)\n",
    "    return torch.stack(out)"
   ]
  },
  {
   "cell_type": "code",
   "execution_count": 6,
   "id": "081170b8-8880-4ff9-8c53-e10690daf13a",
   "metadata": {},
   "outputs": [
    {
     "data": {
      "image/png": "[encoded data removed]",
      "text/plain": [
       "<Figure size 1440x360 with 1 Axes>"
      ]
     },
     "metadata": {
      "needs_background": "light"
     },
     "output_type": "display_data"
    }
   ],
   "source": [
    "# Compute and plot phase advance\n",
    "\n",
    "mux, muy = fn(k).T\n",
    "\n",
    "from matplotlib import pyplot as plt\n",
    "\n",
    "plt.figure(figsize=(20, 5))\n",
    "plt.plot(range(8), mux, marker='o', color='red')\n",
    "plt.plot(range(8), muy, marker='o', color='blue')\n",
    "plt.show()"
   ]
  },
  {
   "cell_type": "code",
   "execution_count": 7,
   "id": "835c9753-6816-4070-95cf-471a4694e867",
   "metadata": {},
   "outputs": [
    {
     "name": "stdout",
     "output_type": "stream",
     "text": [
      "torch.Size([8, 2, 4])\n"
     ]
    }
   ],
   "source": [
    "# Compute phase advance derivatives\n",
    "\n",
    "d1 = torch.func.jacfwd(fn)(k)\n",
    "print(d1.shape)"
   ]
  },
  {
   "cell_type": "code",
   "execution_count": 8,
   "id": "e6cfc13d-b8bd-4bde-a88e-7d946408ec27",
   "metadata": {},
   "outputs": [
    {
     "name": "stdout",
     "output_type": "stream",
     "text": [
      "tensor([[2.172e-02, 1.490e-01, 2.759e-01, 7.918e-02, 7.918e-02, 2.759e-01, 1.490e-01, 2.172e-02],\n",
      "        [1.375e-01, 4.567e-01, 2.088e-01, 2.784e-02, 2.784e-02, 2.088e-01, 4.567e-01, 1.375e-01]],\n",
      "       dtype=torch.float64)\n",
      "tensor([[2.208e-02, 1.527e-01, 2.882e-01, 8.356e-02, 8.356e-02, 2.882e-01, 1.527e-01, 2.208e-02],\n",
      "        [1.435e-01, 4.691e-01, 2.086e-01, 2.752e-02, 2.752e-02, 2.086e-01, 4.691e-01, 1.435e-01]],\n",
      "       dtype=torch.float64)\n",
      "\n",
      "tensor([[2.206e-02, 1.527e-01, 2.884e-01, 8.368e-02, 8.368e-02, 2.884e-01, 1.527e-01, 2.206e-02],\n",
      "        [1.438e-01, 4.694e-01, 2.085e-01, 2.751e-02, 2.751e-02, 2.085e-01, 4.694e-01, 1.438e-01]],\n",
      "       dtype=torch.float64)\n",
      "\n"
     ]
    }
   ],
   "source": [
    "# Test\n",
    "\n",
    "dk = torch.tensor([0.005, -0.005, -0.005, 0.005], dtype=torch.float64)\n",
    "\n",
    "print(fn(k).T)\n",
    "print((fn(k) + d1 @ dk).T)\n",
    "print()\n",
    "\n",
    "print(fn(k + dk).T)\n",
    "print()"
   ]
  },
  {
   "cell_type": "markdown",
   "id": "9b7c4112-564b-4701-9f23-353143c3e508",
   "metadata": {},
   "source": [
    "# Example-05: Tune uncertainty from systematic errors"
   ]
  },
  {
   "cell_type": "code",
   "execution_count": 1,
   "id": "8be31e7a-0947-49cd-a474-cf53461fda85",
   "metadata": {},
   "outputs": [],
   "source": [
    "import torch\n",
    "torch.set_printoptions(precision=3, sci_mode=True)"
   ]
  },
  {
   "cell_type": "code",
   "execution_count": 2,
   "id": "75adfddb-7bd9-4de7-8ddd-76954b10fa58",
   "metadata": {},
   "outputs": [],
   "source": [
    "# Set elements\n",
    "\n",
    "def drif(x, l):\n",
    "    (qx, px, qy, py), l = x, l\n",
    "    return torch.stack([qx + l*px, px, qy + l*py, py])\n",
    "\n",
    "def quad(x, kn, ks, l, n=100):\n",
    "    (qx, px, qy, py), kn, ks, l = x, kn, ks, l/(2.0*n)\n",
    "    for _ in range(n):\n",
    "        qx, qy = qx + l*px, qy + l*py\n",
    "        px, py = px - 2.0*l*(kn*qx - ks*qy), py + 2.0*l*(ks*qx + kn*qy)\n",
    "        qx, qy = qx + l*px, qy + l*py\n",
    "    return torch.stack([qx, px, qy, py]) "
   ]
  },
  {
   "cell_type": "code",
   "execution_count": 3,
   "id": "aa8a3f92-11a0-434f-83ff-41f5f7ac88c7",
   "metadata": {},
   "outputs": [],
   "source": [
    "# Set transport maps\n",
    "\n",
    "def m11(x, k): kn1, ks1, kn2, ks2 = k; return x\n",
    "def m12(x, k): kn1, ks1, kn2, ks2 = k; x = quad(x, kn1, ks1, 0.5); return x\n",
    "def m23(x, k): kn1, ks1, kn2, ks2 = k; x = drif(x, 2.5); return x\n",
    "def m34(x, k): kn1, ks1, kn2, ks2 = k; x = drif(x, 2.5); return x\n",
    "def m45(x, k): kn1, ks1, kn2, ks2 = k; x = quad(x, kn2, ks2, 0.5); return x\n",
    "def m56(x, k): kn1, ks1, kn2, ks2 = k; x = quad(x, kn2, ks2, 0.5); return x\n",
    "def m67(x, k): kn1, ks1, kn2, ks2 = k; x = drif(x, 2.5); return x\n",
    "def m78(x, k): kn1, ks1, kn2, ks2 = k; x = drif(x, 2.5); return x\n",
    "def m89(x, k): kn1, ks1, kn2, ks2 = k; x = quad(x, kn1, ks1, 0.5); return x"
   ]
  },
  {
   "cell_type": "code",
   "execution_count": 4,
   "id": "109d0b87-e240-417e-b191-0da7da038b88",
   "metadata": {},
   "outputs": [],
   "source": [
    "# Set fodo cell\n",
    "\n",
    "def fodo(x, k):\n",
    "    x = m11(x, k)\n",
    "    x = m12(x, k)\n",
    "    x = m23(x, k)\n",
    "    x = m34(x, k)\n",
    "    x = m45(x, k)\n",
    "    x = m56(x, k)\n",
    "    x = m67(x, k)\n",
    "    x = m78(x, k)\n",
    "    x = m89(x, k)\n",
    "    return x"
   ]
  },
  {
   "cell_type": "code",
   "execution_count": 5,
   "id": "1311fd9c-c51a-432e-8ab0-1d8fa2548f3c",
   "metadata": {},
   "outputs": [],
   "source": [
    "# Compute tune derivatives\n",
    "\n",
    "from twiss.twiss import twiss\n",
    "\n",
    "x = torch.tensor([0.0, 0.0, 0.0, 0.0], dtype=torch.float64)\n",
    "k = torch.tensor([0.20, 0.0, -0.25, 0.0], dtype=torch.float64)\n",
    "\n",
    "def fn(k):\n",
    "    m = torch.func.jacfwd(fodo)(x, k)\n",
    "    t, *_ = twiss(m)\n",
    "    return t\n",
    "\n",
    "grad = torch.func.jacfwd(fn)(k)"
   ]
  },
  {
   "cell_type": "code",
   "execution_count": 6,
   "id": "2244f89a-7c42-42f5-8ccd-a6f62a6910b7",
   "metadata": {},
   "outputs": [
    {
     "name": "stdout",
     "output_type": "stream",
     "text": [
      "tensor([1.900e-02, 1.459e-02], dtype=torch.float64)\n",
      "tensor([1.911e-02, 1.442e-02], dtype=torch.float64)\n"
     ]
    }
   ],
   "source": [
    "# Compute tune uncertainty for given known knobs uncertanties\n",
    "\n",
    "sk = torch.tensor([0.01, 0.005, 0.01, 0.005], dtype=torch.float64)\n",
    "\n",
    "st = (grad**2 @ sk**2).sqrt()\n",
    "print(st)\n",
    "\n",
    "st = torch.func.vmap(fn)(k + sk * torch.randn((1024, 4), dtype=torch.float64)).T.std(-1)\n",
    "print(st)"
   ]
  }
 ],
 "metadata": {
  "colab": {
   "collapsed_sections": [
    "myt0_gMIOq7b",
    "5d97819c"
   ],
   "name": "03_frequency.ipynb",
   "provenance": []
  },
  "kernelspec": {
   "display_name": "Python 3 (ipykernel)",
   "language": "python",
   "name": "python3"
  },
  "language_info": {
   "codemirror_mode": {
    "name": "ipython",
    "version": 3
   },
   "file_extension": ".py",
   "mimetype": "text/x-python",
   "name": "python",
   "nbconvert_exporter": "python",
   "pygments_lexer": "ipython3",
   "version": "3.10.4"
  },
  "latex_envs": {
   "LaTeX_envs_menu_present": true,
   "autoclose": false,
   "autocomplete": true,
   "bibliofile": "biblio.bib",
   "cite_by": "apalike",
   "current_citInitial": 1,
   "eqLabelWithNumbers": true,
   "eqNumInitial": 1,
   "hotkeys": {
    "equation": "Ctrl-E",
    "itemize": "Ctrl-I"
   },
   "labels_anchors": false,
   "latex_user_defs": false,
   "report_style_numbering": false,
   "user_envs_cfg": false
  }
 },
 "nbformat": 4,
 "nbformat_minor": 5
}
