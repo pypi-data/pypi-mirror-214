{
 "cells": [
  {
   "cell_type": "code",
   "execution_count": 1,
   "metadata": {},
   "outputs": [],
   "source": [
    "%load_ext autoreload\n",
    "%autoreload 2\n",
    "from np_probe_targets.implant_drawing import *"
   ]
  },
  {
   "cell_type": "markdown",
   "metadata": {},
   "source": [
    "# This week's DR targets\n",
    "- double-check the date! \n",
    "\n",
    "\n",
    "- adjust each probe to the implant hole it actually hit, or move slider to left for 'none'\n",
    "- colors show alternative holes for each probe\n",
    "- press save when finished!"
   ]
  },
  {
   "cell_type": "code",
   "execution_count": 2,
   "metadata": {},
   "outputs": [
    {
     "data": {
      "application/vnd.jupyter.widget-view+json": {
       "model_id": "135e0363e5744ae8ace9f835f7f9de04",
       "version_major": 2,
       "version_minor": 0
      },
      "text/plain": [
       "ProbeTargetInsertionRecordWidget(children=(Output(), VBox(children=(HBox(children=(VBox(children=(SelectionSli…"
      ]
     },
     "metadata": {},
     "output_type": "display_data"
    }
   ],
   "source": [
    "import pathlib\n",
    "targets = ProbeInsertionsTS5(hole_labels=[None]*6)\n",
    "targets.save_dir = pathlib.Path('//allen/programs/mindscope/workgroups/dynamicrouting/ben')\n",
    "display(ProbeTargetInsertionRecordWidget(targets))"
   ]
  },
  {
   "cell_type": "code",
   "execution_count": 6,
   "metadata": {},
   "outputs": [
    {
     "data": {
      "application/vnd.jupyter.widget-view+json": {
       "model_id": "0a21dab8d7a1456fb49a6cb16f01da19",
       "version_major": 2,
       "version_minor": 0
      },
      "text/plain": [
       "ProbeTargetInsertionRecordWidget(children=(Output(), VBox(children=(HBox(children=(VBox(children=(SelectionSli…"
      ]
     },
     "metadata": {},
     "output_type": "display_data"
    }
   ],
   "source": [
    "import pathlib, IPython.display\n",
    "combo1 = ProbeInsertionsTempleton({\n",
    "    'A':'A1',\n",
    "    'B':'B1', # or B3\n",
    "    'C':'C2',\n",
    "    'D': None,\n",
    "    'E': None,\n",
    "    'F':'F1',\n",
    "    }\n",
    ")\n",
    "\n",
    "combo2 = ProbeInsertionsTempleton({\n",
    "    'A':'A2', # or A3\n",
    "    'B':'B2',\n",
    "    'C':'C1', # or C4\n",
    "    'D': 'D1',\n",
    "    'E': None,\n",
    "    'F':'F2',\n",
    "    }\n",
    ")\n",
    "    \n",
    "targets = combo2\n",
    "targets.save_dir = pathlib.Path('//allen/programs/mindscope/workgroups/dynamicrouting/ben')\n",
    "IPython.display.display(ProbeTargetInsertionRecordWidget(targets, implant_drawing=TempletonDrawingSVGProbeColormap, current_insertion_group=ProbeInsertionsTempleton))"
   ]
  },
  {
   "cell_type": "code",
   "execution_count": 3,
   "metadata": {},
   "outputs": [
    {
     "data": {
      "application/vnd.jupyter.widget-view+json": {
       "model_id": "7261526a779e426899135da975102c4b",
       "version_major": 2,
       "version_minor": 0
      },
      "text/plain": [
       "DRWeeklyTargets(children=(ProbeTargetInsertionRecordWidget(children=(Output(), VBox(children=(HBox(children=(V…"
      ]
     },
     "execution_count": 3,
     "metadata": {},
     "output_type": "execute_result"
    }
   ],
   "source": [
    "DRWeeklyTargets(1)"
   ]
  },
  {
   "cell_type": "code",
   "execution_count": null,
   "metadata": {
    "scrolled": false
   },
   "outputs": [],
   "source": [
    "CurrentWeek.display()\n",
    "DRWeeklyTargets()"
   ]
  },
  {
   "cell_type": "markdown",
   "metadata": {},
   "source": [
    "### For reference "
   ]
  },
  {
   "cell_type": "code",
   "execution_count": null,
   "metadata": {},
   "outputs": [],
   "source": [
    "IPython.display.SVG(TS5DrawingSVG.svg_data)"
   ]
  },
  {
   "cell_type": "code",
   "execution_count": null,
   "metadata": {},
   "outputs": [],
   "source": [
    "ProbeTargetsFromPlanTS5(week=1, day=2)"
   ]
  },
  {
   "cell_type": "markdown",
   "metadata": {},
   "source": [
    "# Visualise targets for a specific week / day\n",
    "- modify `week` below and run the cell \n",
    "- the next production experiment will use targets for `week = 4`"
   ]
  },
  {
   "cell_type": "code",
   "execution_count": null,
   "metadata": {
    "scrolled": false
   },
   "outputs": [],
   "source": [
    "DRWeeklyTargetsViewOnly(week=4)"
   ]
  },
  {
   "cell_type": "code",
   "execution_count": null,
   "metadata": {},
   "outputs": [],
   "source": []
  }
 ],
 "metadata": {
  "kernelspec": {
   "display_name": "Python 3.7.9 ('.venv': poetry)",
   "language": "python",
   "name": "python3"
  },
  "language_info": {
   "codemirror_mode": {
    "name": "ipython",
    "version": 3
   },
   "file_extension": ".py",
   "mimetype": "text/x-python",
   "name": "python",
   "nbconvert_exporter": "python",
   "pygments_lexer": "ipython3",
   "version": "3.8.10"
  },
  "vscode": {
   "interpreter": {
    "hash": "eabf272d592dc72210ccb4ff50c5fd36565afd8b8f495091911c4554fbbd732c"
   }
  }
 },
 "nbformat": 4,
 "nbformat_minor": 2
}
