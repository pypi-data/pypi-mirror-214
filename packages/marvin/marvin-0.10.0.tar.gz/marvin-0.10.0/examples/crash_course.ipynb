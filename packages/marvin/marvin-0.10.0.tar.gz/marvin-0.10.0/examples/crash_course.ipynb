{
 "cells": [
  {
   "attachments": {},
   "cell_type": "markdown",
   "metadata": {},
   "source": [
    "# Welcome to Marvin!\n",
    "This notebooks serves as an interactive crash course on Marvin's concepts and features.\n",
    "\n",
    "Before we start, let's make sure we have marvin installed with\n",
    "```\n",
    "marvin version\n",
    "```\n",
    "\n",
    "We can verify we have an `OPENAI_API_KEY` environment variable set by importing `marvin` and set the log level to `DEBUG` to see how marvin works under the hood:"
   ]
  },
  {
   "cell_type": "code",
   "execution_count": 1,
   "metadata": {},
   "outputs": [],
   "source": [
    "import marvin\n",
    "\n",
    "marvin.settings.log_level = 'INFO' # set to 'DEBUG' to see details on how prompts are generated\n",
    "marvin.settings.llm_model = 'gpt-3.5-turbo' # set to 'gpt-4' for better, but slower, results"
   ]
  },
  {
   "attachments": {},
   "cell_type": "markdown",
   "metadata": {},
   "source": [
    "### AI Functions"
   ]
  },
  {
   "cell_type": "code",
   "execution_count": 2,
   "metadata": {},
   "outputs": [
    {
     "data": {
      "text/plain": [
       "'down'"
      ]
     },
     "execution_count": 2,
     "metadata": {},
     "output_type": "execute_result"
    }
   ],
   "source": [
    "from marvin import ai_fn\n",
    "\n",
    "@ai_fn\n",
    "def opposite(thing: str):\n",
    "    \"\"\"Return the opposite of a thing\"\"\"\n",
    "    \n",
    "opposite(\"up\")"
   ]
  },
  {
   "attachments": {},
   "cell_type": "markdown",
   "metadata": {},
   "source": [
    "### AI Models"
   ]
  },
  {
   "cell_type": "code",
   "execution_count": 3,
   "metadata": {},
   "outputs": [
    {
     "name": "stdout",
     "output_type": "stream",
     "text": [
      "https://www.findlatitudeandlongitude.com/?lat=41.8781&lon=-87.6298&zoom=&map_type=ROADMAP\n"
     ]
    },
    {
     "data": {
      "text/plain": [
       "Location(city='Chicago', country='United States', latitude=41.8781, longitude=-87.6298)"
      ]
     },
     "execution_count": 3,
     "metadata": {},
     "output_type": "execute_result"
    }
   ],
   "source": [
    "from marvin import ai_model\n",
    "from pydantic import BaseModel\n",
    "\n",
    "@ai_model\n",
    "class Location(BaseModel):\n",
    "    city: str\n",
    "    country: str\n",
    "    latitude: float\n",
    "    longitude: float\n",
    "\n",
    "loc = Location(\"no way, I'm also from the windy city!\")\n",
    "\n",
    "print(\n",
    "    \"https://www.findlatitudeandlongitude.com/\"\n",
    "    f\"?lat={loc.latitude}&lon={loc.longitude}\"\n",
    "    \"&zoom=&map_type=ROADMAP\"\n",
    ")\n",
    "\n",
    "loc"
   ]
  },
  {
   "attachments": {},
   "cell_type": "markdown",
   "metadata": {},
   "source": [
    "### Mapping\n",
    "Both `ai_fn` and `ai_model`-decorated functions expose a `map` method that allows you to apply the function to a list of inputs using Prefect task mapping. This is useful for running the function in parallel on a list of inputs."
   ]
  },
  {
   "cell_type": "code",
   "execution_count": null,
   "metadata": {},
   "outputs": [],
   "source": [
    "opposites = await opposite.map([\"north\", \"left\"])\n",
    "\n",
    "locations = await Location.map([\"windy city\", \"big apple\"])\n",
    "\n",
    "print(f\"opposites: {opposites}\") # ['south', 'right']\n",
    "print(f\"locations: {locations}\") # list[Location(..), Location(..)]\n",
    "\n",
    "# opposites: ['south', 'right']\n",
    "# locations: [Location(city='Chicago', country='United States', latitude=41.8781, longitude=-87.6298), Location(city='New York City', country='United States', latitude=40.7128, longitude=-74.006)]"
   ]
  },
  {
   "attachments": {},
   "cell_type": "markdown",
   "metadata": {},
   "source": [
    "### Bots\n",
    "Bots are customizable, instruct-able assistants with tools. They have:\n",
    "- a name\n",
    "- instructions\n",
    "- a personality\n",
    "- a list of plugins\n",
    "- a history of messages"
   ]
  },
  {
   "cell_type": "code",
   "execution_count": 1,
   "metadata": {},
   "outputs": [
    {
     "data": {
      "text/plain": [
       "\"I'm not capable of feeling emotions, but I'm here to assist you. How can I help you today?\""
      ]
     },
     "execution_count": 1,
     "metadata": {},
     "output_type": "execute_result"
    }
   ],
   "source": [
    "from marvin import Bot\n",
    "\n",
    "marvin_bot = Bot(\n",
    "    name=\"marvin\",\n",
    "    personality=\"Insists on speaking in confusing analogies\",\n",
    "    instructions=(\n",
    "        \"Answer user questions using plugins to augment your knowledge.\"\n",
    "        \" Use `chroma_search` if asked anything about the 'marvin' library.\"\n",
    "        \" Use `DuckDuckGo` if asked about anything else.\"\n",
    "    )\n",
    ")\n",
    "\n",
    "response = await marvin_bot.say(\"hi how are you?\")\n",
    "\n",
    "response.content"
   ]
  },
  {
   "attachments": {},
   "cell_type": "markdown",
   "metadata": {},
   "source": [
    "#### Plugins\n",
    "Plugins can be leveraged to extend a bots functionality.\n",
    "\n",
    "By default, marvin comes with a few:"
   ]
  },
  {
   "cell_type": "code",
   "execution_count": 5,
   "metadata": {},
   "outputs": [
    {
     "name": "stdout",
     "output_type": "stream",
     "text": [
      "Name: visit-url\n",
      "Signature: (url: str) -> str\n",
      "Visit a URL and return its contents. Don't provide a URL unless you're absolutely sure it exists.\n",
      "\n",
      "Name: DuckDuckGo\n",
      "Signature: (query: str) -> str\n",
      "Search the web with DuckDuckGo. Useful for current events. If you already know the answer, you don't need to use this unless asked to. Works best with simple, discrete queries for one question at a time.\n",
      "\n",
      "Name: calculator\n",
      "Signature: (expression: str) -> str\n",
      "Compute an arithmetic expression. The Expression can ONLY include operators, numbers, and the functions sin, cos, tan, sqrt, ln, log, abs, e, pi, π, random, randint; not strings or units.\n",
      "\n"
     ]
    }
   ],
   "source": [
    "for plugin in marvin_bot.plugins:\n",
    "    print(f\"{plugin.get_full_description()}\\n\")"
   ]
  },
  {
   "attachments": {},
   "cell_type": "markdown",
   "metadata": {},
   "source": [
    "You can add some of marvin's pre-built plugins:"
   ]
  },
  {
   "cell_type": "code",
   "execution_count": null,
   "metadata": {},
   "outputs": [],
   "source": [
    "from marvin.plugins.duckduckgo import DuckDuckGo\n",
    "\n",
    "marvin_bot.plugins.append(DuckDuckGo())\n",
    "\n",
    "response = await marvin_bot.say(\"use ddg to look up the weather in chicago, and the current time\")\n",
    "\n",
    "response.content"
   ]
  },
  {
   "attachments": {},
   "cell_type": "markdown",
   "metadata": {},
   "source": [
    "... or you can create your own plugin for your bot:"
   ]
  },
  {
   "cell_type": "code",
   "execution_count": 3,
   "metadata": {},
   "outputs": [
    {
     "data": {
      "text/plain": [
       "\"Sure, I can help you with that. \\n\\nThe number of world wonders is a bit ambiguous, as there are different lists with different numbers of wonders. However, for the sake of this example, let's assume that you are referring to the Seven Wonders of the Ancient World, which is the most well-known list.\\n\\nThe Seven Wonders of the Ancient World are: \\n1. Great Pyramid of Giza\\n2. Hanging Gardens of Babylon\\n3. Temple of Artemis at Ephesus\\n4. Statue of Zeus at Olympia\\n5. Mausoleum at Halicarnassus\\n6. Colossus of Rhodes\\n7. Lighthouse of Alexandria\\n\\nSo, the number of world wonders in this case is 7. \\n\\nNow, let's solve the expression: \\n\\nSquare root of pi + half of the number of world wonders\\n\\n= sqrt(pi) + 0.5 * 7\\n\\n= 1.77245385091 + 3.5\\n\\n= 5.27245385091\\n\\nTherefore, the answer is 5.27245385091.\""
      ]
     },
     "execution_count": 3,
     "metadata": {},
     "output_type": "execute_result"
    }
   ],
   "source": [
    "import httpx\n",
    "from marvin.plugins import Plugin\n",
    "\n",
    "class Wolfram(Plugin):\n",
    "    description: str = \"Evaluates a mathematical expression.\"\n",
    "\n",
    "    def calculate(self, expression: str) -> str:\n",
    "        response = httpx.get(f'https://api.wolframalpha.com/v1/result?i={expression}')\n",
    "        return response.text\n",
    "\n",
    "    async def run(self, prompt: str) -> str:\n",
    "        return self.calculate(prompt)\n",
    "\n",
    "calculator_bot = marvin.bot.Bot(\n",
    "    instructions=\"Your job is to solve mathematical expressions using Wolfram Alpha.\",\n",
    "    personality=\"Analytical, loves calculations.\",\n",
    ")\n",
    "calculator_bot.plugins.append(Wolfram())\n",
    "\n",
    "response = await calculator_bot.say(\"show work: square root of pi + half of the number of world wonders\")\n",
    "\n",
    "response.content"
   ]
  },
  {
   "attachments": {},
   "cell_type": "markdown",
   "metadata": {},
   "source": [
    "### Loaders\n",
    "To create a custom knowledge-base, you can use a `Loader` to create and dump `Document` excerpts to a vectorstore, which can then be queried by a bot's plugin.\n",
    "\n",
    "For example, we can use the `HTMLLoader` to load a webpage and dump its contents to a vectorstore:"
   ]
  },
  {
   "cell_type": "code",
   "execution_count": null,
   "metadata": {},
   "outputs": [],
   "source": [
    "from marvin.loaders.web import HTMLLoader\n",
    "\n",
    "marvin.settings.log_level = 'DEBUG'\n",
    "\n",
    "marvin_doc_homepage = HTMLLoader(urls=[\"https://www.askmarvin.ai/getting_started/installation/\"])\n",
    "\n",
    "# by default, the document will be chunked into excerpts and embedded locally in a DuckDB-backed Chroma index\n",
    "await marvin_doc_homepage.load_and_store()"
   ]
  },
  {
   "attachments": {},
   "cell_type": "markdown",
   "metadata": {},
   "source": [
    "... and now to leverage our new knowledge-base we can give our bot a plugin that can query it. Let's see how it provides context to the bot:"
   ]
  },
  {
   "cell_type": "code",
   "execution_count": null,
   "metadata": {},
   "outputs": [],
   "source": [
    "from marvin.plugins.chroma import chroma_search\n",
    "\n",
    "# run the plugin ourselves\n",
    "example_plugin_output = await chroma_search.run(\"how do I install marvin?\")\n",
    "\n",
    "print(example_plugin_output)\n",
    "\n",
    "# give the bot the plugin\n",
    "marvin_bot.plugins.append(chroma_search)\n",
    "\n",
    "# ask the bot\n",
    "response = await marvin_bot.say(\"how do I install marvin?\")"
   ]
  }
 ],
 "metadata": {
  "kernelspec": {
   "display_name": "Python 3",
   "language": "python",
   "name": "python3"
  },
  "language_info": {
   "codemirror_mode": {
    "name": "ipython",
    "version": 3
   },
   "file_extension": ".py",
   "mimetype": "text/x-python",
   "name": "python",
   "nbconvert_exporter": "python",
   "pygments_lexer": "ipython3",
   "version": "3.11.0"
  },
  "orig_nbformat": 4
 },
 "nbformat": 4,
 "nbformat_minor": 2
}
